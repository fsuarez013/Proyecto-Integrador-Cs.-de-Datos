{
  "nbformat": 4,
  "nbformat_minor": 0,
  "metadata": {
    "colab": {
      "provenance": [],
      "collapsed_sections": [],
      "authorship_tag": "ABX9TyMvzZKjEOJKf9wg4o1vfbyf",
      "include_colab_link": true
    },
    "kernelspec": {
      "name": "python3",
      "display_name": "Python 3"
    },
    "language_info": {
      "name": "python"
    }
  },
  "cells": [
    {
      "cell_type": "markdown",
      "metadata": {
        "id": "view-in-github",
        "colab_type": "text"
      },
      "source": [
        "<a href=\"https://colab.research.google.com/github/fsuarez013/Proyecto-Integrador-Cs.-de-Datos/blob/main/Modelo_Predictivo_para_la_Evaluaci%C3%B3n_del_Riesgo_Crediticio.ipynb\" target=\"_parent\"><img src=\"https://colab.research.google.com/assets/colab-badge.svg\" alt=\"Open In Colab\"/></a>"
      ]
    },
    {
      "cell_type": "markdown",
      "metadata": {
        "id": "y2k5QqUWEse4"
      },
      "source": [
        "### **TABLA DE CONTENIDOS**\n",
        "\n",
        "---\n",
        "\n",
        "    1. Librerias\n",
        "    2. Carga de Datos\n",
        "    3. Analisis y Procesamiento de Datos\n",
        "        3.1. Analisis del dataset\n",
        "        3.2. Procesamiento de datos\n",
        "        3.3. Visualizacion de datos\n",
        "            A). Analisis Univariable\n",
        "            B). Analisis Bivariable\n",
        "        3.4. Transformacion variables categoricas en numericas\n",
        "        3.5. Correlacion de datos\n",
        "    4. Explicacion de las variables a predecir\n",
        "    5. Analisis de variable Default (Moroso / No Moroso)\n",
        "    6. Detalle de los modelos a aplicar\n",
        "        6.1. LOGISTIC REGRESSION\n",
        "        6.2. DECISION TREE\n",
        "        6.3. RANDOM FOREST\n",
        "        6.4. ARTIFICIAL NEURAL NETWORK (ANN)\n",
        "    7. Entrenamiento de los modelos\n",
        "    8. Analisis de variable Calificacion Crediticia\n",
        "    9. Detalle de los modelos a aplicar\n",
        "        9.1. LOGISTIC REGRESSION\n",
        "        9.2. DECISION TREE\n",
        "        9.3. RANDOM FOREST\n",
        "        9.4. K-NEAREST NEIGHBORS (KNN)\n",
        "        9.5. GAUSSIAN NAIVE BAYES\n",
        "        9.6. GRADIENT BOOSTING CLASSIFIER\n",
        "        9.7. XGB CLASSIFIER MODEL\n",
        "    10. Entrenamiento de los modelos\n",
        "    11. Conclusiones\n",
        "        "
      ]
    },
    {
      "cell_type": "markdown",
      "source": [
        "### **1) - LIBRERIAS**\n",
        "\n",
        "---"
      ],
      "metadata": {
        "id": "PLxFcN0dcY8C"
      }
    },
    {
      "cell_type": "code",
      "execution_count": 1,
      "metadata": {
        "id": "s7mZDKIScTB9"
      },
      "outputs": [],
      "source": [
        "# Importamos librerias\n",
        "import pandas as pd\n",
        "import numpy as np\n",
        "import matplotlib.pyplot as plt\n",
        "%matplotlib inline\n",
        "import seaborn as sns\n",
        "\n",
        "from sklearn.preprocessing import LabelEncoder\n",
        "from sklearn.model_selection import train_test_split\n",
        "from sklearn.metrics import confusion_matrix \n",
        "from sklearn.metrics import accuracy_score\n",
        "from sklearn.metrics import roc_auc_score\n",
        "from sklearn.metrics import plot_roc_curve\n",
        "from sklearn.model_selection import cross_val_score\n",
        "from sklearn.model_selection import GridSearchCV\n",
        "from sklearn.preprocessing import StandardScaler\n",
        "\n",
        "import warnings\n",
        "\n",
        "warnings.filterwarnings(\"ignore\")\n",
        "pd.options.display.float_format = '{:.2f}'.format"
      ]
    },
    {
      "cell_type": "markdown",
      "source": [
        "### **2) - CARGA DE DATOS**\n",
        "\n",
        "---\n",
        "\n",
        "Vamos a utilizar el conjunto de datos reales de una entidad financiera. El conjunto de datos contiene información de 47542 observaciones con 10 columnas de información.\n",
        "\n",
        "El conjunto de datos que será estudiado contiene los siguientes atributos:\n",
        "\n",
        "* **Solicitud** - Cada solicitud tiene un numero asignado de manera aleatoria (numérico)\n",
        "* **Fecha** - Fecha de consulta (numérico)\n",
        "* **Genero** -texto: masculino, femenino\n",
        "* **Producto** - Nombre de los diferentes productos que maneja la entidad (numérico: 'Crédito’: 1, 'Reporte’: 2, 'Alquiler’: 3, 'Personal’: 4, 'Informe Comercial’: 5)\n",
        "* **Estado Solicitud** - texto: por default es \"Finalizada\"\n",
        "* **Calificación de Riesgo** - Asociado a su Comportamiento Crediticio. Estos son los distintos valores que queremos predecir (Calificación dividida en 7 ítems).\n",
        "* **Score** - Puntaje crediticio, es un número de 3 dígitos que registra toda tu actividad financiera de crédito.\n",
        "* **PNP** (pasa/no pasa) - Análisis de prefactibilidad previo (Resultado: SI - Moroso / NO - No Moroso)\n",
        "* **Viabilidad** - ídem PNP, en base al análisis de prefactibilidad determinamos el incumplimiento, la respuesta se obtiene en binario (1 - Moroso / 0 - No Moroso)\n",
        "* **BCRA** - historial del endeudamiento. Es de tipo entero donde podemos tener valores del 1 al 5. Se asocia estos valores numéricos con su equivalente a niveles de riesgo ('Riesgo Alto’= 5 y 4, 'Riesgo Medio’= 3, 'Riesgo Bajo’= 2, 'Normal', 'Bueno', 'Muy Bueno' = 1)\n",
        "\n",
        "\n",
        "\n",
        "\n",
        "\n"
      ],
      "metadata": {
        "id": "NA_cM1mY6h0u"
      }
    },
    {
      "cell_type": "code",
      "execution_count": 2,
      "metadata": {
        "colab": {
          "base_uri": "https://localhost:8080/",
          "height": 73
        },
        "id": "Qxje74RVcNtL",
        "outputId": "01327c16-0228-401f-d968-d558264adcd4"
      },
      "outputs": [
        {
          "output_type": "display_data",
          "data": {
            "text/plain": [
              "<IPython.core.display.HTML object>"
            ],
            "text/html": [
              "\n",
              "     <input type=\"file\" id=\"files-e18c4588-90a4-44dc-a365-279fabbe65c2\" name=\"files[]\" multiple disabled\n",
              "        style=\"border:none\" />\n",
              "     <output id=\"result-e18c4588-90a4-44dc-a365-279fabbe65c2\">\n",
              "      Upload widget is only available when the cell has been executed in the\n",
              "      current browser session. Please rerun this cell to enable.\n",
              "      </output>\n",
              "      <script>// Copyright 2017 Google LLC\n",
              "//\n",
              "// Licensed under the Apache License, Version 2.0 (the \"License\");\n",
              "// you may not use this file except in compliance with the License.\n",
              "// You may obtain a copy of the License at\n",
              "//\n",
              "//      http://www.apache.org/licenses/LICENSE-2.0\n",
              "//\n",
              "// Unless required by applicable law or agreed to in writing, software\n",
              "// distributed under the License is distributed on an \"AS IS\" BASIS,\n",
              "// WITHOUT WARRANTIES OR CONDITIONS OF ANY KIND, either express or implied.\n",
              "// See the License for the specific language governing permissions and\n",
              "// limitations under the License.\n",
              "\n",
              "/**\n",
              " * @fileoverview Helpers for google.colab Python module.\n",
              " */\n",
              "(function(scope) {\n",
              "function span(text, styleAttributes = {}) {\n",
              "  const element = document.createElement('span');\n",
              "  element.textContent = text;\n",
              "  for (const key of Object.keys(styleAttributes)) {\n",
              "    element.style[key] = styleAttributes[key];\n",
              "  }\n",
              "  return element;\n",
              "}\n",
              "\n",
              "// Max number of bytes which will be uploaded at a time.\n",
              "const MAX_PAYLOAD_SIZE = 100 * 1024;\n",
              "\n",
              "function _uploadFiles(inputId, outputId) {\n",
              "  const steps = uploadFilesStep(inputId, outputId);\n",
              "  const outputElement = document.getElementById(outputId);\n",
              "  // Cache steps on the outputElement to make it available for the next call\n",
              "  // to uploadFilesContinue from Python.\n",
              "  outputElement.steps = steps;\n",
              "\n",
              "  return _uploadFilesContinue(outputId);\n",
              "}\n",
              "\n",
              "// This is roughly an async generator (not supported in the browser yet),\n",
              "// where there are multiple asynchronous steps and the Python side is going\n",
              "// to poll for completion of each step.\n",
              "// This uses a Promise to block the python side on completion of each step,\n",
              "// then passes the result of the previous step as the input to the next step.\n",
              "function _uploadFilesContinue(outputId) {\n",
              "  const outputElement = document.getElementById(outputId);\n",
              "  const steps = outputElement.steps;\n",
              "\n",
              "  const next = steps.next(outputElement.lastPromiseValue);\n",
              "  return Promise.resolve(next.value.promise).then((value) => {\n",
              "    // Cache the last promise value to make it available to the next\n",
              "    // step of the generator.\n",
              "    outputElement.lastPromiseValue = value;\n",
              "    return next.value.response;\n",
              "  });\n",
              "}\n",
              "\n",
              "/**\n",
              " * Generator function which is called between each async step of the upload\n",
              " * process.\n",
              " * @param {string} inputId Element ID of the input file picker element.\n",
              " * @param {string} outputId Element ID of the output display.\n",
              " * @return {!Iterable<!Object>} Iterable of next steps.\n",
              " */\n",
              "function* uploadFilesStep(inputId, outputId) {\n",
              "  const inputElement = document.getElementById(inputId);\n",
              "  inputElement.disabled = false;\n",
              "\n",
              "  const outputElement = document.getElementById(outputId);\n",
              "  outputElement.innerHTML = '';\n",
              "\n",
              "  const pickedPromise = new Promise((resolve) => {\n",
              "    inputElement.addEventListener('change', (e) => {\n",
              "      resolve(e.target.files);\n",
              "    });\n",
              "  });\n",
              "\n",
              "  const cancel = document.createElement('button');\n",
              "  inputElement.parentElement.appendChild(cancel);\n",
              "  cancel.textContent = 'Cancel upload';\n",
              "  const cancelPromise = new Promise((resolve) => {\n",
              "    cancel.onclick = () => {\n",
              "      resolve(null);\n",
              "    };\n",
              "  });\n",
              "\n",
              "  // Wait for the user to pick the files.\n",
              "  const files = yield {\n",
              "    promise: Promise.race([pickedPromise, cancelPromise]),\n",
              "    response: {\n",
              "      action: 'starting',\n",
              "    }\n",
              "  };\n",
              "\n",
              "  cancel.remove();\n",
              "\n",
              "  // Disable the input element since further picks are not allowed.\n",
              "  inputElement.disabled = true;\n",
              "\n",
              "  if (!files) {\n",
              "    return {\n",
              "      response: {\n",
              "        action: 'complete',\n",
              "      }\n",
              "    };\n",
              "  }\n",
              "\n",
              "  for (const file of files) {\n",
              "    const li = document.createElement('li');\n",
              "    li.append(span(file.name, {fontWeight: 'bold'}));\n",
              "    li.append(span(\n",
              "        `(${file.type || 'n/a'}) - ${file.size} bytes, ` +\n",
              "        `last modified: ${\n",
              "            file.lastModifiedDate ? file.lastModifiedDate.toLocaleDateString() :\n",
              "                                    'n/a'} - `));\n",
              "    const percent = span('0% done');\n",
              "    li.appendChild(percent);\n",
              "\n",
              "    outputElement.appendChild(li);\n",
              "\n",
              "    const fileDataPromise = new Promise((resolve) => {\n",
              "      const reader = new FileReader();\n",
              "      reader.onload = (e) => {\n",
              "        resolve(e.target.result);\n",
              "      };\n",
              "      reader.readAsArrayBuffer(file);\n",
              "    });\n",
              "    // Wait for the data to be ready.\n",
              "    let fileData = yield {\n",
              "      promise: fileDataPromise,\n",
              "      response: {\n",
              "        action: 'continue',\n",
              "      }\n",
              "    };\n",
              "\n",
              "    // Use a chunked sending to avoid message size limits. See b/62115660.\n",
              "    let position = 0;\n",
              "    do {\n",
              "      const length = Math.min(fileData.byteLength - position, MAX_PAYLOAD_SIZE);\n",
              "      const chunk = new Uint8Array(fileData, position, length);\n",
              "      position += length;\n",
              "\n",
              "      const base64 = btoa(String.fromCharCode.apply(null, chunk));\n",
              "      yield {\n",
              "        response: {\n",
              "          action: 'append',\n",
              "          file: file.name,\n",
              "          data: base64,\n",
              "        },\n",
              "      };\n",
              "\n",
              "      let percentDone = fileData.byteLength === 0 ?\n",
              "          100 :\n",
              "          Math.round((position / fileData.byteLength) * 100);\n",
              "      percent.textContent = `${percentDone}% done`;\n",
              "\n",
              "    } while (position < fileData.byteLength);\n",
              "  }\n",
              "\n",
              "  // All done.\n",
              "  yield {\n",
              "    response: {\n",
              "      action: 'complete',\n",
              "    }\n",
              "  };\n",
              "}\n",
              "\n",
              "scope.google = scope.google || {};\n",
              "scope.google.colab = scope.google.colab || {};\n",
              "scope.google.colab._files = {\n",
              "  _uploadFiles,\n",
              "  _uploadFilesContinue,\n",
              "};\n",
              "})(self);\n",
              "</script> "
            ]
          },
          "metadata": {}
        },
        {
          "output_type": "stream",
          "name": "stdout",
          "text": [
            "Saving Dataframe Riesgo Credito.xlsx to Dataframe Riesgo Credito.xlsx\n"
          ]
        }
      ],
      "source": [
        "from google.colab import files\n",
        "uploaded = files.upload()"
      ]
    },
    {
      "cell_type": "code",
      "execution_count": 3,
      "metadata": {
        "id": "D1bWi-21cgit",
        "colab": {
          "base_uri": "https://localhost:8080/",
          "height": 424
        },
        "outputId": "dcb4979c-2e3e-4919-ad77-6b774c1c4db2"
      },
      "outputs": [
        {
          "output_type": "execute_result",
          "data": {
            "text/plain": [
              "       N° Solicitud       Fecha Genero Producto Estado Solicitud Calificacion  \\\n",
              "0             51628  26/07/2022      F  Credito       Finalizada  Riesgo Bajo   \n",
              "1             51627  26/07/2022      F  Reporte       Finalizada        Bueno   \n",
              "2             51626  26/07/2022      F  Reporte       Finalizada  Calificable   \n",
              "3             51625  26/07/2022      M  Reporte       Finalizada  Riesgo Bajo   \n",
              "4             51624  26/07/2022      F  Reporte       Finalizada  Riesgo Alto   \n",
              "...             ...         ...    ...      ...              ...          ...   \n",
              "47537         30985  03/02/2021      M  Credito       Finalizada  Riesgo Bajo   \n",
              "47538         23258  08/07/2020      M  Credito       Finalizada  Calificable   \n",
              "47539         23257  08/07/2020      F  Credito       Finalizada  Calificable   \n",
              "47540         20701  16/03/2020      M  Credito       Finalizada  Riesgo Alto   \n",
              "47541         11070  23/08/2019      M  Credito       Finalizada  Calificable   \n",
              "\n",
              "       Score PNP  Viabilidad  Bcra  \n",
              "0        410  NO           1     2  \n",
              "1        570  SI           0     1  \n",
              "2          0  SI           0     1  \n",
              "3        433  NO           1     2  \n",
              "4        254  NO           1     4  \n",
              "...      ...  ..         ...   ...  \n",
              "47537    436  NO           1     2  \n",
              "47538      0  SI           0     1  \n",
              "47539      0  SI           0     1  \n",
              "47540    236  NO           1     5  \n",
              "47541      0  SI           0     1  \n",
              "\n",
              "[47542 rows x 10 columns]"
            ],
            "text/html": [
              "\n",
              "  <div id=\"df-052f522e-dd50-41b7-8c5e-349f78af899e\">\n",
              "    <div class=\"colab-df-container\">\n",
              "      <div>\n",
              "<style scoped>\n",
              "    .dataframe tbody tr th:only-of-type {\n",
              "        vertical-align: middle;\n",
              "    }\n",
              "\n",
              "    .dataframe tbody tr th {\n",
              "        vertical-align: top;\n",
              "    }\n",
              "\n",
              "    .dataframe thead th {\n",
              "        text-align: right;\n",
              "    }\n",
              "</style>\n",
              "<table border=\"1\" class=\"dataframe\">\n",
              "  <thead>\n",
              "    <tr style=\"text-align: right;\">\n",
              "      <th></th>\n",
              "      <th>N° Solicitud</th>\n",
              "      <th>Fecha</th>\n",
              "      <th>Genero</th>\n",
              "      <th>Producto</th>\n",
              "      <th>Estado Solicitud</th>\n",
              "      <th>Calificacion</th>\n",
              "      <th>Score</th>\n",
              "      <th>PNP</th>\n",
              "      <th>Viabilidad</th>\n",
              "      <th>Bcra</th>\n",
              "    </tr>\n",
              "  </thead>\n",
              "  <tbody>\n",
              "    <tr>\n",
              "      <th>0</th>\n",
              "      <td>51628</td>\n",
              "      <td>26/07/2022</td>\n",
              "      <td>F</td>\n",
              "      <td>Credito</td>\n",
              "      <td>Finalizada</td>\n",
              "      <td>Riesgo Bajo</td>\n",
              "      <td>410</td>\n",
              "      <td>NO</td>\n",
              "      <td>1</td>\n",
              "      <td>2</td>\n",
              "    </tr>\n",
              "    <tr>\n",
              "      <th>1</th>\n",
              "      <td>51627</td>\n",
              "      <td>26/07/2022</td>\n",
              "      <td>F</td>\n",
              "      <td>Reporte</td>\n",
              "      <td>Finalizada</td>\n",
              "      <td>Bueno</td>\n",
              "      <td>570</td>\n",
              "      <td>SI</td>\n",
              "      <td>0</td>\n",
              "      <td>1</td>\n",
              "    </tr>\n",
              "    <tr>\n",
              "      <th>2</th>\n",
              "      <td>51626</td>\n",
              "      <td>26/07/2022</td>\n",
              "      <td>F</td>\n",
              "      <td>Reporte</td>\n",
              "      <td>Finalizada</td>\n",
              "      <td>Calificable</td>\n",
              "      <td>0</td>\n",
              "      <td>SI</td>\n",
              "      <td>0</td>\n",
              "      <td>1</td>\n",
              "    </tr>\n",
              "    <tr>\n",
              "      <th>3</th>\n",
              "      <td>51625</td>\n",
              "      <td>26/07/2022</td>\n",
              "      <td>M</td>\n",
              "      <td>Reporte</td>\n",
              "      <td>Finalizada</td>\n",
              "      <td>Riesgo Bajo</td>\n",
              "      <td>433</td>\n",
              "      <td>NO</td>\n",
              "      <td>1</td>\n",
              "      <td>2</td>\n",
              "    </tr>\n",
              "    <tr>\n",
              "      <th>4</th>\n",
              "      <td>51624</td>\n",
              "      <td>26/07/2022</td>\n",
              "      <td>F</td>\n",
              "      <td>Reporte</td>\n",
              "      <td>Finalizada</td>\n",
              "      <td>Riesgo Alto</td>\n",
              "      <td>254</td>\n",
              "      <td>NO</td>\n",
              "      <td>1</td>\n",
              "      <td>4</td>\n",
              "    </tr>\n",
              "    <tr>\n",
              "      <th>...</th>\n",
              "      <td>...</td>\n",
              "      <td>...</td>\n",
              "      <td>...</td>\n",
              "      <td>...</td>\n",
              "      <td>...</td>\n",
              "      <td>...</td>\n",
              "      <td>...</td>\n",
              "      <td>...</td>\n",
              "      <td>...</td>\n",
              "      <td>...</td>\n",
              "    </tr>\n",
              "    <tr>\n",
              "      <th>47537</th>\n",
              "      <td>30985</td>\n",
              "      <td>03/02/2021</td>\n",
              "      <td>M</td>\n",
              "      <td>Credito</td>\n",
              "      <td>Finalizada</td>\n",
              "      <td>Riesgo Bajo</td>\n",
              "      <td>436</td>\n",
              "      <td>NO</td>\n",
              "      <td>1</td>\n",
              "      <td>2</td>\n",
              "    </tr>\n",
              "    <tr>\n",
              "      <th>47538</th>\n",
              "      <td>23258</td>\n",
              "      <td>08/07/2020</td>\n",
              "      <td>M</td>\n",
              "      <td>Credito</td>\n",
              "      <td>Finalizada</td>\n",
              "      <td>Calificable</td>\n",
              "      <td>0</td>\n",
              "      <td>SI</td>\n",
              "      <td>0</td>\n",
              "      <td>1</td>\n",
              "    </tr>\n",
              "    <tr>\n",
              "      <th>47539</th>\n",
              "      <td>23257</td>\n",
              "      <td>08/07/2020</td>\n",
              "      <td>F</td>\n",
              "      <td>Credito</td>\n",
              "      <td>Finalizada</td>\n",
              "      <td>Calificable</td>\n",
              "      <td>0</td>\n",
              "      <td>SI</td>\n",
              "      <td>0</td>\n",
              "      <td>1</td>\n",
              "    </tr>\n",
              "    <tr>\n",
              "      <th>47540</th>\n",
              "      <td>20701</td>\n",
              "      <td>16/03/2020</td>\n",
              "      <td>M</td>\n",
              "      <td>Credito</td>\n",
              "      <td>Finalizada</td>\n",
              "      <td>Riesgo Alto</td>\n",
              "      <td>236</td>\n",
              "      <td>NO</td>\n",
              "      <td>1</td>\n",
              "      <td>5</td>\n",
              "    </tr>\n",
              "    <tr>\n",
              "      <th>47541</th>\n",
              "      <td>11070</td>\n",
              "      <td>23/08/2019</td>\n",
              "      <td>M</td>\n",
              "      <td>Credito</td>\n",
              "      <td>Finalizada</td>\n",
              "      <td>Calificable</td>\n",
              "      <td>0</td>\n",
              "      <td>SI</td>\n",
              "      <td>0</td>\n",
              "      <td>1</td>\n",
              "    </tr>\n",
              "  </tbody>\n",
              "</table>\n",
              "<p>47542 rows × 10 columns</p>\n",
              "</div>\n",
              "      <button class=\"colab-df-convert\" onclick=\"convertToInteractive('df-052f522e-dd50-41b7-8c5e-349f78af899e')\"\n",
              "              title=\"Convert this dataframe to an interactive table.\"\n",
              "              style=\"display:none;\">\n",
              "        \n",
              "  <svg xmlns=\"http://www.w3.org/2000/svg\" height=\"24px\"viewBox=\"0 0 24 24\"\n",
              "       width=\"24px\">\n",
              "    <path d=\"M0 0h24v24H0V0z\" fill=\"none\"/>\n",
              "    <path d=\"M18.56 5.44l.94 2.06.94-2.06 2.06-.94-2.06-.94-.94-2.06-.94 2.06-2.06.94zm-11 1L8.5 8.5l.94-2.06 2.06-.94-2.06-.94L8.5 2.5l-.94 2.06-2.06.94zm10 10l.94 2.06.94-2.06 2.06-.94-2.06-.94-.94-2.06-.94 2.06-2.06.94z\"/><path d=\"M17.41 7.96l-1.37-1.37c-.4-.4-.92-.59-1.43-.59-.52 0-1.04.2-1.43.59L10.3 9.45l-7.72 7.72c-.78.78-.78 2.05 0 2.83L4 21.41c.39.39.9.59 1.41.59.51 0 1.02-.2 1.41-.59l7.78-7.78 2.81-2.81c.8-.78.8-2.07 0-2.86zM5.41 20L4 18.59l7.72-7.72 1.47 1.35L5.41 20z\"/>\n",
              "  </svg>\n",
              "      </button>\n",
              "      \n",
              "  <style>\n",
              "    .colab-df-container {\n",
              "      display:flex;\n",
              "      flex-wrap:wrap;\n",
              "      gap: 12px;\n",
              "    }\n",
              "\n",
              "    .colab-df-convert {\n",
              "      background-color: #E8F0FE;\n",
              "      border: none;\n",
              "      border-radius: 50%;\n",
              "      cursor: pointer;\n",
              "      display: none;\n",
              "      fill: #1967D2;\n",
              "      height: 32px;\n",
              "      padding: 0 0 0 0;\n",
              "      width: 32px;\n",
              "    }\n",
              "\n",
              "    .colab-df-convert:hover {\n",
              "      background-color: #E2EBFA;\n",
              "      box-shadow: 0px 1px 2px rgba(60, 64, 67, 0.3), 0px 1px 3px 1px rgba(60, 64, 67, 0.15);\n",
              "      fill: #174EA6;\n",
              "    }\n",
              "\n",
              "    [theme=dark] .colab-df-convert {\n",
              "      background-color: #3B4455;\n",
              "      fill: #D2E3FC;\n",
              "    }\n",
              "\n",
              "    [theme=dark] .colab-df-convert:hover {\n",
              "      background-color: #434B5C;\n",
              "      box-shadow: 0px 1px 3px 1px rgba(0, 0, 0, 0.15);\n",
              "      filter: drop-shadow(0px 1px 2px rgba(0, 0, 0, 0.3));\n",
              "      fill: #FFFFFF;\n",
              "    }\n",
              "  </style>\n",
              "\n",
              "      <script>\n",
              "        const buttonEl =\n",
              "          document.querySelector('#df-052f522e-dd50-41b7-8c5e-349f78af899e button.colab-df-convert');\n",
              "        buttonEl.style.display =\n",
              "          google.colab.kernel.accessAllowed ? 'block' : 'none';\n",
              "\n",
              "        async function convertToInteractive(key) {\n",
              "          const element = document.querySelector('#df-052f522e-dd50-41b7-8c5e-349f78af899e');\n",
              "          const dataTable =\n",
              "            await google.colab.kernel.invokeFunction('convertToInteractive',\n",
              "                                                     [key], {});\n",
              "          if (!dataTable) return;\n",
              "\n",
              "          const docLinkHtml = 'Like what you see? Visit the ' +\n",
              "            '<a target=\"_blank\" href=https://colab.research.google.com/notebooks/data_table.ipynb>data table notebook</a>'\n",
              "            + ' to learn more about interactive tables.';\n",
              "          element.innerHTML = '';\n",
              "          dataTable['output_type'] = 'display_data';\n",
              "          await google.colab.output.renderOutput(dataTable, element);\n",
              "          const docLink = document.createElement('div');\n",
              "          docLink.innerHTML = docLinkHtml;\n",
              "          element.appendChild(docLink);\n",
              "        }\n",
              "      </script>\n",
              "    </div>\n",
              "  </div>\n",
              "  "
            ]
          },
          "metadata": {},
          "execution_count": 3
        }
      ],
      "source": [
        "# Leemos el archivo excel\n",
        "df = pd.read_excel(\"Dataframe Riesgo Credito.xlsx\")\n",
        "df"
      ]
    },
    {
      "cell_type": "code",
      "execution_count": 4,
      "metadata": {
        "colab": {
          "base_uri": "https://localhost:8080/"
        },
        "id": "pGvL3xfVcvLU",
        "outputId": "3cdcc4ef-3fc3-4328-a082-19f6611354d5"
      },
      "outputs": [
        {
          "output_type": "stream",
          "name": "stdout",
          "text": [
            "Cantidad de Filas y columnas: (47542, 10)\n"
          ]
        }
      ],
      "source": [
        "# Mostramos la cantidad de filas y columnas\n",
        "print('Cantidad de Filas y columnas:',df.shape)"
      ]
    },
    {
      "cell_type": "markdown",
      "source": [
        "### **3) - ANALISIS Y PROCESAMIENTO DE DATOS**\n",
        "\n",
        "---"
      ],
      "metadata": {
        "id": "62qqcLl-xQ-M"
      }
    },
    {
      "cell_type": "markdown",
      "source": [
        "En esta sección revisaremos la forma que tiene los datos y buscaremos características importantes basados en análisis descriptivo y visual.\n",
        "\n",
        "Antes de proceder con el modelo, es muy importante la exploración y el saneamiento de los datos. Este es un paso muy importante, ya que consiste en hacer que los datos sean compatibles con el modelo y puedan emplearse para entrenarlo.\n",
        "\n",
        "También, resulta importante conocer el número de valores ausentes, es decir, saber que filas no completan todas las columnas de datos. Estos valores ausentes o nulos, si no son detectados pueden afectar gravemente al modelo de predicción. Por esta razón, es muy importante asegurar que el conjunto de datos no contenga ninguno. "
      ],
      "metadata": {
        "id": "Q4GUhFRdH8ZD"
      }
    },
    {
      "cell_type": "markdown",
      "source": [
        "### **3.1) - Analisis del dataset**"
      ],
      "metadata": {
        "id": "I8ay7FtCSlz1"
      }
    },
    {
      "cell_type": "markdown",
      "source": [
        "Cada columna tiene un tipo de dato. Esto podemos verlo con la función info()"
      ],
      "metadata": {
        "id": "EfKgSeO8Hfi7"
      }
    },
    {
      "cell_type": "code",
      "execution_count": 5,
      "metadata": {
        "id": "BESK9oQs1qTh",
        "colab": {
          "base_uri": "https://localhost:8080/"
        },
        "outputId": "4b8ff79d-63ae-447d-86c8-1017015347d1"
      },
      "outputs": [
        {
          "output_type": "stream",
          "name": "stdout",
          "text": [
            "<class 'pandas.core.frame.DataFrame'>\n",
            "RangeIndex: 47542 entries, 0 to 47541\n",
            "Data columns (total 10 columns):\n",
            " #   Column            Non-Null Count  Dtype \n",
            "---  ------            --------------  ----- \n",
            " 0   N° Solicitud      47542 non-null  int64 \n",
            " 1   Fecha             47542 non-null  object\n",
            " 2   Genero            47542 non-null  object\n",
            " 3   Producto          47542 non-null  object\n",
            " 4   Estado Solicitud  47542 non-null  object\n",
            " 5   Calificacion      47542 non-null  object\n",
            " 6   Score             47542 non-null  int64 \n",
            " 7   PNP               47542 non-null  object\n",
            " 8   Viabilidad        47542 non-null  int64 \n",
            " 9   Bcra              47542 non-null  int64 \n",
            "dtypes: int64(4), object(6)\n",
            "memory usage: 3.6+ MB\n"
          ]
        }
      ],
      "source": [
        "# vemos las columnas, el total de filas y los tipos de datos.\n",
        "df.info()"
      ]
    },
    {
      "cell_type": "markdown",
      "metadata": {
        "id": "8wdwlbV1-iGR"
      },
      "source": [
        "A continuación vemos la información estadística básica de nuestro set de datos:  La Media, el desvío estándar, valores mínimo y máximo de cada característica."
      ]
    },
    {
      "cell_type": "code",
      "execution_count": 6,
      "metadata": {
        "id": "eDkTDMO81xrB",
        "colab": {
          "base_uri": "https://localhost:8080/",
          "height": 300
        },
        "outputId": "fee504c2-5826-4286-d2bb-17ceff979f65"
      },
      "outputs": [
        {
          "output_type": "execute_result",
          "data": {
            "text/plain": [
              "       N° Solicitud    Score  Viabilidad     Bcra\n",
              "count      47542.00 47542.00    47542.00 47542.00\n",
              "mean       26202.81   406.78        0.38     1.97\n",
              "std        14840.03   232.25        0.48     1.43\n",
              "min           29.00     0.00        0.00     1.00\n",
              "25%        13522.25   249.00        0.00     1.00\n",
              "50%        26354.50   449.00        0.00     1.00\n",
              "75%        39014.75   595.00        1.00     3.00\n",
              "max        51628.00   888.00        1.00     5.00"
            ],
            "text/html": [
              "\n",
              "  <div id=\"df-b2561e12-f6ff-4576-941b-2978f2ef3b03\">\n",
              "    <div class=\"colab-df-container\">\n",
              "      <div>\n",
              "<style scoped>\n",
              "    .dataframe tbody tr th:only-of-type {\n",
              "        vertical-align: middle;\n",
              "    }\n",
              "\n",
              "    .dataframe tbody tr th {\n",
              "        vertical-align: top;\n",
              "    }\n",
              "\n",
              "    .dataframe thead th {\n",
              "        text-align: right;\n",
              "    }\n",
              "</style>\n",
              "<table border=\"1\" class=\"dataframe\">\n",
              "  <thead>\n",
              "    <tr style=\"text-align: right;\">\n",
              "      <th></th>\n",
              "      <th>N° Solicitud</th>\n",
              "      <th>Score</th>\n",
              "      <th>Viabilidad</th>\n",
              "      <th>Bcra</th>\n",
              "    </tr>\n",
              "  </thead>\n",
              "  <tbody>\n",
              "    <tr>\n",
              "      <th>count</th>\n",
              "      <td>47542.00</td>\n",
              "      <td>47542.00</td>\n",
              "      <td>47542.00</td>\n",
              "      <td>47542.00</td>\n",
              "    </tr>\n",
              "    <tr>\n",
              "      <th>mean</th>\n",
              "      <td>26202.81</td>\n",
              "      <td>406.78</td>\n",
              "      <td>0.38</td>\n",
              "      <td>1.97</td>\n",
              "    </tr>\n",
              "    <tr>\n",
              "      <th>std</th>\n",
              "      <td>14840.03</td>\n",
              "      <td>232.25</td>\n",
              "      <td>0.48</td>\n",
              "      <td>1.43</td>\n",
              "    </tr>\n",
              "    <tr>\n",
              "      <th>min</th>\n",
              "      <td>29.00</td>\n",
              "      <td>0.00</td>\n",
              "      <td>0.00</td>\n",
              "      <td>1.00</td>\n",
              "    </tr>\n",
              "    <tr>\n",
              "      <th>25%</th>\n",
              "      <td>13522.25</td>\n",
              "      <td>249.00</td>\n",
              "      <td>0.00</td>\n",
              "      <td>1.00</td>\n",
              "    </tr>\n",
              "    <tr>\n",
              "      <th>50%</th>\n",
              "      <td>26354.50</td>\n",
              "      <td>449.00</td>\n",
              "      <td>0.00</td>\n",
              "      <td>1.00</td>\n",
              "    </tr>\n",
              "    <tr>\n",
              "      <th>75%</th>\n",
              "      <td>39014.75</td>\n",
              "      <td>595.00</td>\n",
              "      <td>1.00</td>\n",
              "      <td>3.00</td>\n",
              "    </tr>\n",
              "    <tr>\n",
              "      <th>max</th>\n",
              "      <td>51628.00</td>\n",
              "      <td>888.00</td>\n",
              "      <td>1.00</td>\n",
              "      <td>5.00</td>\n",
              "    </tr>\n",
              "  </tbody>\n",
              "</table>\n",
              "</div>\n",
              "      <button class=\"colab-df-convert\" onclick=\"convertToInteractive('df-b2561e12-f6ff-4576-941b-2978f2ef3b03')\"\n",
              "              title=\"Convert this dataframe to an interactive table.\"\n",
              "              style=\"display:none;\">\n",
              "        \n",
              "  <svg xmlns=\"http://www.w3.org/2000/svg\" height=\"24px\"viewBox=\"0 0 24 24\"\n",
              "       width=\"24px\">\n",
              "    <path d=\"M0 0h24v24H0V0z\" fill=\"none\"/>\n",
              "    <path d=\"M18.56 5.44l.94 2.06.94-2.06 2.06-.94-2.06-.94-.94-2.06-.94 2.06-2.06.94zm-11 1L8.5 8.5l.94-2.06 2.06-.94-2.06-.94L8.5 2.5l-.94 2.06-2.06.94zm10 10l.94 2.06.94-2.06 2.06-.94-2.06-.94-.94-2.06-.94 2.06-2.06.94z\"/><path d=\"M17.41 7.96l-1.37-1.37c-.4-.4-.92-.59-1.43-.59-.52 0-1.04.2-1.43.59L10.3 9.45l-7.72 7.72c-.78.78-.78 2.05 0 2.83L4 21.41c.39.39.9.59 1.41.59.51 0 1.02-.2 1.41-.59l7.78-7.78 2.81-2.81c.8-.78.8-2.07 0-2.86zM5.41 20L4 18.59l7.72-7.72 1.47 1.35L5.41 20z\"/>\n",
              "  </svg>\n",
              "      </button>\n",
              "      \n",
              "  <style>\n",
              "    .colab-df-container {\n",
              "      display:flex;\n",
              "      flex-wrap:wrap;\n",
              "      gap: 12px;\n",
              "    }\n",
              "\n",
              "    .colab-df-convert {\n",
              "      background-color: #E8F0FE;\n",
              "      border: none;\n",
              "      border-radius: 50%;\n",
              "      cursor: pointer;\n",
              "      display: none;\n",
              "      fill: #1967D2;\n",
              "      height: 32px;\n",
              "      padding: 0 0 0 0;\n",
              "      width: 32px;\n",
              "    }\n",
              "\n",
              "    .colab-df-convert:hover {\n",
              "      background-color: #E2EBFA;\n",
              "      box-shadow: 0px 1px 2px rgba(60, 64, 67, 0.3), 0px 1px 3px 1px rgba(60, 64, 67, 0.15);\n",
              "      fill: #174EA6;\n",
              "    }\n",
              "\n",
              "    [theme=dark] .colab-df-convert {\n",
              "      background-color: #3B4455;\n",
              "      fill: #D2E3FC;\n",
              "    }\n",
              "\n",
              "    [theme=dark] .colab-df-convert:hover {\n",
              "      background-color: #434B5C;\n",
              "      box-shadow: 0px 1px 3px 1px rgba(0, 0, 0, 0.15);\n",
              "      filter: drop-shadow(0px 1px 2px rgba(0, 0, 0, 0.3));\n",
              "      fill: #FFFFFF;\n",
              "    }\n",
              "  </style>\n",
              "\n",
              "      <script>\n",
              "        const buttonEl =\n",
              "          document.querySelector('#df-b2561e12-f6ff-4576-941b-2978f2ef3b03 button.colab-df-convert');\n",
              "        buttonEl.style.display =\n",
              "          google.colab.kernel.accessAllowed ? 'block' : 'none';\n",
              "\n",
              "        async function convertToInteractive(key) {\n",
              "          const element = document.querySelector('#df-b2561e12-f6ff-4576-941b-2978f2ef3b03');\n",
              "          const dataTable =\n",
              "            await google.colab.kernel.invokeFunction('convertToInteractive',\n",
              "                                                     [key], {});\n",
              "          if (!dataTable) return;\n",
              "\n",
              "          const docLinkHtml = 'Like what you see? Visit the ' +\n",
              "            '<a target=\"_blank\" href=https://colab.research.google.com/notebooks/data_table.ipynb>data table notebook</a>'\n",
              "            + ' to learn more about interactive tables.';\n",
              "          element.innerHTML = '';\n",
              "          dataTable['output_type'] = 'display_data';\n",
              "          await google.colab.output.renderOutput(dataTable, element);\n",
              "          const docLink = document.createElement('div');\n",
              "          docLink.innerHTML = docLinkHtml;\n",
              "          element.appendChild(docLink);\n",
              "        }\n",
              "      </script>\n",
              "    </div>\n",
              "  </div>\n",
              "  "
            ]
          },
          "metadata": {},
          "execution_count": 6
        }
      ],
      "source": [
        "# Descripción estadística de los datos numéricos(cantidad, media, desvío estándar, valores máximo y mínimo)\n",
        "df.describe()"
      ]
    },
    {
      "cell_type": "markdown",
      "source": [
        "El metodo .dtypes devuelve una Series con los tipos de datos de cada columna del DataFrame. \n",
        "\n",
        "En donde se puede ver que las cadenas de texto son de tipo objeto y los valores numéricos enteros de 64 bits."
      ],
      "metadata": {
        "id": "PPDuBS2PTOcS"
      }
    },
    {
      "cell_type": "code",
      "execution_count": 7,
      "metadata": {
        "id": "HSPY2AvIeGJL",
        "colab": {
          "base_uri": "https://localhost:8080/"
        },
        "outputId": "ded4ad79-cd48-44d6-f4c4-ebff85170f50"
      },
      "outputs": [
        {
          "output_type": "execute_result",
          "data": {
            "text/plain": [
              "N° Solicitud         int64\n",
              "Fecha               object\n",
              "Genero              object\n",
              "Producto            object\n",
              "Estado Solicitud    object\n",
              "Calificacion        object\n",
              "Score                int64\n",
              "PNP                 object\n",
              "Viabilidad           int64\n",
              "Bcra                 int64\n",
              "dtype: object"
            ]
          },
          "metadata": {},
          "execution_count": 7
        }
      ],
      "source": [
        "# Comprobar cuales son los tipos de datos de este objeto\n",
        "df.dtypes"
      ]
    },
    {
      "cell_type": "code",
      "execution_count": 8,
      "metadata": {
        "id": "hBJqTcYbeKWD",
        "colab": {
          "base_uri": "https://localhost:8080/"
        },
        "outputId": "4f1fc731-340f-4d0f-ebc5-b10d971cc045"
      },
      "outputs": [
        {
          "output_type": "execute_result",
          "data": {
            "text/plain": [
              "N° Solicitud        0\n",
              "Fecha               0\n",
              "Genero              0\n",
              "Producto            0\n",
              "Estado Solicitud    0\n",
              "Calificacion        0\n",
              "Score               0\n",
              "PNP                 0\n",
              "Viabilidad          0\n",
              "Bcra                0\n",
              "dtype: int64"
            ]
          },
          "metadata": {},
          "execution_count": 8
        }
      ],
      "source": [
        "# Obtener el número de registros nulos por columna\n",
        "df.isnull().sum()"
      ]
    },
    {
      "cell_type": "markdown",
      "source": [
        "En este caso, el análisis hecho a los datos no muestra ningún valor nulo. "
      ],
      "metadata": {
        "id": "3PZH4MVKTCH3"
      }
    },
    {
      "cell_type": "code",
      "execution_count": 9,
      "metadata": {
        "id": "irLVfNaMeMc9",
        "colab": {
          "base_uri": "https://localhost:8080/"
        },
        "outputId": "bdc9af42-437f-4626-a77e-4033e58f1117"
      },
      "outputs": [
        {
          "output_type": "execute_result",
          "data": {
            "text/plain": [
              "N° Solicitud        47541\n",
              "Fecha                1272\n",
              "Genero                  2\n",
              "Producto                5\n",
              "Estado Solicitud        1\n",
              "Calificacion            7\n",
              "Score                 315\n",
              "PNP                     2\n",
              "Viabilidad              2\n",
              "Bcra                    5\n",
              "dtype: int64"
            ]
          },
          "metadata": {},
          "execution_count": 9
        }
      ],
      "source": [
        "# Obtener los valores únicos de un lista de valores.\n",
        "df.nunique()"
      ]
    },
    {
      "cell_type": "code",
      "source": [
        "# Verificar si existen valores duplicados\n",
        "df.duplicated().sum()"
      ],
      "metadata": {
        "colab": {
          "base_uri": "https://localhost:8080/"
        },
        "id": "FaS1X2jYGz0v",
        "outputId": "7b19359c-6ea7-4aec-b43e-d4c3b4c924c9"
      },
      "execution_count": 10,
      "outputs": [
        {
          "output_type": "execute_result",
          "data": {
            "text/plain": [
              "1"
            ]
          },
          "metadata": {},
          "execution_count": 10
        }
      ]
    },
    {
      "cell_type": "markdown",
      "source": [
        "### **3.2) - Procesamiento de Datos**"
      ],
      "metadata": {
        "id": "nAACCwZkHLvG"
      }
    },
    {
      "cell_type": "markdown",
      "source": [
        "En este punto realizamos dos tareas:\n",
        "\n",
        "* Se eliminan las columnas innecesarias, que no aportan valor.\n",
        "* Se renombran las columnas \"Viabilidad\" y \"Bcra\"."
      ],
      "metadata": {
        "id": "K3neX96VIlLR"
      }
    },
    {
      "cell_type": "code",
      "execution_count": 11,
      "metadata": {
        "id": "HFxfVXhQ5jcH",
        "colab": {
          "base_uri": "https://localhost:8080/",
          "height": 206
        },
        "outputId": "9ab06500-db8e-4495-c363-1e2ebcc198df"
      },
      "outputs": [
        {
          "output_type": "execute_result",
          "data": {
            "text/plain": [
              "  Genero Producto Calificacion  Score  Viabilidad  Bcra\n",
              "0      F  Credito  Riesgo Bajo    410           1     2\n",
              "1      F  Reporte        Bueno    570           0     1\n",
              "2      F  Reporte  Calificable      0           0     1\n",
              "3      M  Reporte  Riesgo Bajo    433           1     2\n",
              "4      F  Reporte  Riesgo Alto    254           1     4"
            ],
            "text/html": [
              "\n",
              "  <div id=\"df-e25f2139-540a-4e07-aabc-3a46313bb85d\">\n",
              "    <div class=\"colab-df-container\">\n",
              "      <div>\n",
              "<style scoped>\n",
              "    .dataframe tbody tr th:only-of-type {\n",
              "        vertical-align: middle;\n",
              "    }\n",
              "\n",
              "    .dataframe tbody tr th {\n",
              "        vertical-align: top;\n",
              "    }\n",
              "\n",
              "    .dataframe thead th {\n",
              "        text-align: right;\n",
              "    }\n",
              "</style>\n",
              "<table border=\"1\" class=\"dataframe\">\n",
              "  <thead>\n",
              "    <tr style=\"text-align: right;\">\n",
              "      <th></th>\n",
              "      <th>Genero</th>\n",
              "      <th>Producto</th>\n",
              "      <th>Calificacion</th>\n",
              "      <th>Score</th>\n",
              "      <th>Viabilidad</th>\n",
              "      <th>Bcra</th>\n",
              "    </tr>\n",
              "  </thead>\n",
              "  <tbody>\n",
              "    <tr>\n",
              "      <th>0</th>\n",
              "      <td>F</td>\n",
              "      <td>Credito</td>\n",
              "      <td>Riesgo Bajo</td>\n",
              "      <td>410</td>\n",
              "      <td>1</td>\n",
              "      <td>2</td>\n",
              "    </tr>\n",
              "    <tr>\n",
              "      <th>1</th>\n",
              "      <td>F</td>\n",
              "      <td>Reporte</td>\n",
              "      <td>Bueno</td>\n",
              "      <td>570</td>\n",
              "      <td>0</td>\n",
              "      <td>1</td>\n",
              "    </tr>\n",
              "    <tr>\n",
              "      <th>2</th>\n",
              "      <td>F</td>\n",
              "      <td>Reporte</td>\n",
              "      <td>Calificable</td>\n",
              "      <td>0</td>\n",
              "      <td>0</td>\n",
              "      <td>1</td>\n",
              "    </tr>\n",
              "    <tr>\n",
              "      <th>3</th>\n",
              "      <td>M</td>\n",
              "      <td>Reporte</td>\n",
              "      <td>Riesgo Bajo</td>\n",
              "      <td>433</td>\n",
              "      <td>1</td>\n",
              "      <td>2</td>\n",
              "    </tr>\n",
              "    <tr>\n",
              "      <th>4</th>\n",
              "      <td>F</td>\n",
              "      <td>Reporte</td>\n",
              "      <td>Riesgo Alto</td>\n",
              "      <td>254</td>\n",
              "      <td>1</td>\n",
              "      <td>4</td>\n",
              "    </tr>\n",
              "  </tbody>\n",
              "</table>\n",
              "</div>\n",
              "      <button class=\"colab-df-convert\" onclick=\"convertToInteractive('df-e25f2139-540a-4e07-aabc-3a46313bb85d')\"\n",
              "              title=\"Convert this dataframe to an interactive table.\"\n",
              "              style=\"display:none;\">\n",
              "        \n",
              "  <svg xmlns=\"http://www.w3.org/2000/svg\" height=\"24px\"viewBox=\"0 0 24 24\"\n",
              "       width=\"24px\">\n",
              "    <path d=\"M0 0h24v24H0V0z\" fill=\"none\"/>\n",
              "    <path d=\"M18.56 5.44l.94 2.06.94-2.06 2.06-.94-2.06-.94-.94-2.06-.94 2.06-2.06.94zm-11 1L8.5 8.5l.94-2.06 2.06-.94-2.06-.94L8.5 2.5l-.94 2.06-2.06.94zm10 10l.94 2.06.94-2.06 2.06-.94-2.06-.94-.94-2.06-.94 2.06-2.06.94z\"/><path d=\"M17.41 7.96l-1.37-1.37c-.4-.4-.92-.59-1.43-.59-.52 0-1.04.2-1.43.59L10.3 9.45l-7.72 7.72c-.78.78-.78 2.05 0 2.83L4 21.41c.39.39.9.59 1.41.59.51 0 1.02-.2 1.41-.59l7.78-7.78 2.81-2.81c.8-.78.8-2.07 0-2.86zM5.41 20L4 18.59l7.72-7.72 1.47 1.35L5.41 20z\"/>\n",
              "  </svg>\n",
              "      </button>\n",
              "      \n",
              "  <style>\n",
              "    .colab-df-container {\n",
              "      display:flex;\n",
              "      flex-wrap:wrap;\n",
              "      gap: 12px;\n",
              "    }\n",
              "\n",
              "    .colab-df-convert {\n",
              "      background-color: #E8F0FE;\n",
              "      border: none;\n",
              "      border-radius: 50%;\n",
              "      cursor: pointer;\n",
              "      display: none;\n",
              "      fill: #1967D2;\n",
              "      height: 32px;\n",
              "      padding: 0 0 0 0;\n",
              "      width: 32px;\n",
              "    }\n",
              "\n",
              "    .colab-df-convert:hover {\n",
              "      background-color: #E2EBFA;\n",
              "      box-shadow: 0px 1px 2px rgba(60, 64, 67, 0.3), 0px 1px 3px 1px rgba(60, 64, 67, 0.15);\n",
              "      fill: #174EA6;\n",
              "    }\n",
              "\n",
              "    [theme=dark] .colab-df-convert {\n",
              "      background-color: #3B4455;\n",
              "      fill: #D2E3FC;\n",
              "    }\n",
              "\n",
              "    [theme=dark] .colab-df-convert:hover {\n",
              "      background-color: #434B5C;\n",
              "      box-shadow: 0px 1px 3px 1px rgba(0, 0, 0, 0.15);\n",
              "      filter: drop-shadow(0px 1px 2px rgba(0, 0, 0, 0.3));\n",
              "      fill: #FFFFFF;\n",
              "    }\n",
              "  </style>\n",
              "\n",
              "      <script>\n",
              "        const buttonEl =\n",
              "          document.querySelector('#df-e25f2139-540a-4e07-aabc-3a46313bb85d button.colab-df-convert');\n",
              "        buttonEl.style.display =\n",
              "          google.colab.kernel.accessAllowed ? 'block' : 'none';\n",
              "\n",
              "        async function convertToInteractive(key) {\n",
              "          const element = document.querySelector('#df-e25f2139-540a-4e07-aabc-3a46313bb85d');\n",
              "          const dataTable =\n",
              "            await google.colab.kernel.invokeFunction('convertToInteractive',\n",
              "                                                     [key], {});\n",
              "          if (!dataTable) return;\n",
              "\n",
              "          const docLinkHtml = 'Like what you see? Visit the ' +\n",
              "            '<a target=\"_blank\" href=https://colab.research.google.com/notebooks/data_table.ipynb>data table notebook</a>'\n",
              "            + ' to learn more about interactive tables.';\n",
              "          element.innerHTML = '';\n",
              "          dataTable['output_type'] = 'display_data';\n",
              "          await google.colab.output.renderOutput(dataTable, element);\n",
              "          const docLink = document.createElement('div');\n",
              "          docLink.innerHTML = docLinkHtml;\n",
              "          element.appendChild(docLink);\n",
              "        }\n",
              "      </script>\n",
              "    </div>\n",
              "  </div>\n",
              "  "
            ]
          },
          "metadata": {},
          "execution_count": 11
        }
      ],
      "source": [
        "# Eliminamos las columnas innecesarias \n",
        "df = df.drop(['N° Solicitud', 'Fecha', 'Estado Solicitud', 'PNP'], axis = 1)\n",
        "df.head()"
      ]
    },
    {
      "cell_type": "code",
      "execution_count": 12,
      "metadata": {
        "id": "qJ0oXZRW5rh2",
        "colab": {
          "base_uri": "https://localhost:8080/",
          "height": 206
        },
        "outputId": "69469e3c-0ba9-471f-cb7e-ffbb7b3994e8"
      },
      "outputs": [
        {
          "output_type": "execute_result",
          "data": {
            "text/plain": [
              "  Genero Producto Calificacion  Score  Default  Riesgo\n",
              "0      F  Credito  Riesgo Bajo    410        1       2\n",
              "1      F  Reporte        Bueno    570        0       1\n",
              "2      F  Reporte  Calificable      0        0       1\n",
              "3      M  Reporte  Riesgo Bajo    433        1       2\n",
              "4      F  Reporte  Riesgo Alto    254        1       4"
            ],
            "text/html": [
              "\n",
              "  <div id=\"df-899e8c61-2fc3-4549-88a6-e0a6aa70dbda\">\n",
              "    <div class=\"colab-df-container\">\n",
              "      <div>\n",
              "<style scoped>\n",
              "    .dataframe tbody tr th:only-of-type {\n",
              "        vertical-align: middle;\n",
              "    }\n",
              "\n",
              "    .dataframe tbody tr th {\n",
              "        vertical-align: top;\n",
              "    }\n",
              "\n",
              "    .dataframe thead th {\n",
              "        text-align: right;\n",
              "    }\n",
              "</style>\n",
              "<table border=\"1\" class=\"dataframe\">\n",
              "  <thead>\n",
              "    <tr style=\"text-align: right;\">\n",
              "      <th></th>\n",
              "      <th>Genero</th>\n",
              "      <th>Producto</th>\n",
              "      <th>Calificacion</th>\n",
              "      <th>Score</th>\n",
              "      <th>Default</th>\n",
              "      <th>Riesgo</th>\n",
              "    </tr>\n",
              "  </thead>\n",
              "  <tbody>\n",
              "    <tr>\n",
              "      <th>0</th>\n",
              "      <td>F</td>\n",
              "      <td>Credito</td>\n",
              "      <td>Riesgo Bajo</td>\n",
              "      <td>410</td>\n",
              "      <td>1</td>\n",
              "      <td>2</td>\n",
              "    </tr>\n",
              "    <tr>\n",
              "      <th>1</th>\n",
              "      <td>F</td>\n",
              "      <td>Reporte</td>\n",
              "      <td>Bueno</td>\n",
              "      <td>570</td>\n",
              "      <td>0</td>\n",
              "      <td>1</td>\n",
              "    </tr>\n",
              "    <tr>\n",
              "      <th>2</th>\n",
              "      <td>F</td>\n",
              "      <td>Reporte</td>\n",
              "      <td>Calificable</td>\n",
              "      <td>0</td>\n",
              "      <td>0</td>\n",
              "      <td>1</td>\n",
              "    </tr>\n",
              "    <tr>\n",
              "      <th>3</th>\n",
              "      <td>M</td>\n",
              "      <td>Reporte</td>\n",
              "      <td>Riesgo Bajo</td>\n",
              "      <td>433</td>\n",
              "      <td>1</td>\n",
              "      <td>2</td>\n",
              "    </tr>\n",
              "    <tr>\n",
              "      <th>4</th>\n",
              "      <td>F</td>\n",
              "      <td>Reporte</td>\n",
              "      <td>Riesgo Alto</td>\n",
              "      <td>254</td>\n",
              "      <td>1</td>\n",
              "      <td>4</td>\n",
              "    </tr>\n",
              "  </tbody>\n",
              "</table>\n",
              "</div>\n",
              "      <button class=\"colab-df-convert\" onclick=\"convertToInteractive('df-899e8c61-2fc3-4549-88a6-e0a6aa70dbda')\"\n",
              "              title=\"Convert this dataframe to an interactive table.\"\n",
              "              style=\"display:none;\">\n",
              "        \n",
              "  <svg xmlns=\"http://www.w3.org/2000/svg\" height=\"24px\"viewBox=\"0 0 24 24\"\n",
              "       width=\"24px\">\n",
              "    <path d=\"M0 0h24v24H0V0z\" fill=\"none\"/>\n",
              "    <path d=\"M18.56 5.44l.94 2.06.94-2.06 2.06-.94-2.06-.94-.94-2.06-.94 2.06-2.06.94zm-11 1L8.5 8.5l.94-2.06 2.06-.94-2.06-.94L8.5 2.5l-.94 2.06-2.06.94zm10 10l.94 2.06.94-2.06 2.06-.94-2.06-.94-.94-2.06-.94 2.06-2.06.94z\"/><path d=\"M17.41 7.96l-1.37-1.37c-.4-.4-.92-.59-1.43-.59-.52 0-1.04.2-1.43.59L10.3 9.45l-7.72 7.72c-.78.78-.78 2.05 0 2.83L4 21.41c.39.39.9.59 1.41.59.51 0 1.02-.2 1.41-.59l7.78-7.78 2.81-2.81c.8-.78.8-2.07 0-2.86zM5.41 20L4 18.59l7.72-7.72 1.47 1.35L5.41 20z\"/>\n",
              "  </svg>\n",
              "      </button>\n",
              "      \n",
              "  <style>\n",
              "    .colab-df-container {\n",
              "      display:flex;\n",
              "      flex-wrap:wrap;\n",
              "      gap: 12px;\n",
              "    }\n",
              "\n",
              "    .colab-df-convert {\n",
              "      background-color: #E8F0FE;\n",
              "      border: none;\n",
              "      border-radius: 50%;\n",
              "      cursor: pointer;\n",
              "      display: none;\n",
              "      fill: #1967D2;\n",
              "      height: 32px;\n",
              "      padding: 0 0 0 0;\n",
              "      width: 32px;\n",
              "    }\n",
              "\n",
              "    .colab-df-convert:hover {\n",
              "      background-color: #E2EBFA;\n",
              "      box-shadow: 0px 1px 2px rgba(60, 64, 67, 0.3), 0px 1px 3px 1px rgba(60, 64, 67, 0.15);\n",
              "      fill: #174EA6;\n",
              "    }\n",
              "\n",
              "    [theme=dark] .colab-df-convert {\n",
              "      background-color: #3B4455;\n",
              "      fill: #D2E3FC;\n",
              "    }\n",
              "\n",
              "    [theme=dark] .colab-df-convert:hover {\n",
              "      background-color: #434B5C;\n",
              "      box-shadow: 0px 1px 3px 1px rgba(0, 0, 0, 0.15);\n",
              "      filter: drop-shadow(0px 1px 2px rgba(0, 0, 0, 0.3));\n",
              "      fill: #FFFFFF;\n",
              "    }\n",
              "  </style>\n",
              "\n",
              "      <script>\n",
              "        const buttonEl =\n",
              "          document.querySelector('#df-899e8c61-2fc3-4549-88a6-e0a6aa70dbda button.colab-df-convert');\n",
              "        buttonEl.style.display =\n",
              "          google.colab.kernel.accessAllowed ? 'block' : 'none';\n",
              "\n",
              "        async function convertToInteractive(key) {\n",
              "          const element = document.querySelector('#df-899e8c61-2fc3-4549-88a6-e0a6aa70dbda');\n",
              "          const dataTable =\n",
              "            await google.colab.kernel.invokeFunction('convertToInteractive',\n",
              "                                                     [key], {});\n",
              "          if (!dataTable) return;\n",
              "\n",
              "          const docLinkHtml = 'Like what you see? Visit the ' +\n",
              "            '<a target=\"_blank\" href=https://colab.research.google.com/notebooks/data_table.ipynb>data table notebook</a>'\n",
              "            + ' to learn more about interactive tables.';\n",
              "          element.innerHTML = '';\n",
              "          dataTable['output_type'] = 'display_data';\n",
              "          await google.colab.output.renderOutput(dataTable, element);\n",
              "          const docLink = document.createElement('div');\n",
              "          docLink.innerHTML = docLinkHtml;\n",
              "          element.appendChild(docLink);\n",
              "        }\n",
              "      </script>\n",
              "    </div>\n",
              "  </div>\n",
              "  "
            ]
          },
          "metadata": {},
          "execution_count": 12
        }
      ],
      "source": [
        "# Renombramos las columnas\n",
        "df = df.rename(columns={\"Viabilidad\":\"Default\",\"Bcra\":\"Riesgo\"})\n",
        "df.head()\n",
        "# df = df.rename({\"Viabilidad\":\"Default\",\"Bcra\":\"Riesgo\"}, axis=1)"
      ]
    },
    {
      "cell_type": "markdown",
      "source": [
        "### **3.3) - Visualización de Datos**\n",
        "\n",
        "Antes de empezar a procesar el conjunto de datos, vamos a hacer unas visualizaciones que muchas veces nos pueden ayudar a comprender mejor las características de la información con la que trabajamos y su correlación. \n",
        "\n",
        "1.   Haremos un **Analisis Univariable**, que permite estudiar el comportamiento de las variables de forma individual. Primero se realiza el analisis de la variable a predecir, mostrando la cantidad de datos dividida en 0 (No Moroso) y 1(Moroso) y sus respectivos porcentajes y luego los demas Features de\n",
        "entrada.\n",
        "\n",
        "2.   Haremos un **Analisis Bivariable** donde describimos y evaluamos la relación entre dos variables o el comportamiento de una variable en función de la variable objetivo.\n",
        "\n"
      ],
      "metadata": {
        "id": "lRuz4Osf-zxA"
      }
    },
    {
      "cell_type": "markdown",
      "source": [
        "**3.3.a) - Analisis Univariable**"
      ],
      "metadata": {
        "id": "1Zuj4mBAE-dH"
      }
    },
    {
      "cell_type": "code",
      "source": [
        "# calcular proporciones de morosos y no morosos del dataset\n",
        "df_count = pd.DataFrame()\n",
        "df_count[\"Riesgo\"] =[\"NO\",\"SI\"]\n",
        "df_count[\"Total\"] = df[\"Default\"].value_counts() \n",
        "df_count[\"Porcentaje\"] = 100*df_count[\"Total\"] /df_count[\"Total\"] .sum()\n",
        "\n",
        "df_count"
      ],
      "metadata": {
        "id": "WRlyj4_mt3iS",
        "colab": {
          "base_uri": "https://localhost:8080/",
          "height": 112
        },
        "outputId": "221c7fa9-9996-4714-f33d-cbe0fb5d9885"
      },
      "execution_count": 13,
      "outputs": [
        {
          "output_type": "execute_result",
          "data": {
            "text/plain": [
              "  Riesgo  Total  Porcentaje\n",
              "0     NO  29590       62.24\n",
              "1     SI  17952       37.76"
            ],
            "text/html": [
              "\n",
              "  <div id=\"df-e6930fe3-1bd3-485a-8424-1945b435cadd\">\n",
              "    <div class=\"colab-df-container\">\n",
              "      <div>\n",
              "<style scoped>\n",
              "    .dataframe tbody tr th:only-of-type {\n",
              "        vertical-align: middle;\n",
              "    }\n",
              "\n",
              "    .dataframe tbody tr th {\n",
              "        vertical-align: top;\n",
              "    }\n",
              "\n",
              "    .dataframe thead th {\n",
              "        text-align: right;\n",
              "    }\n",
              "</style>\n",
              "<table border=\"1\" class=\"dataframe\">\n",
              "  <thead>\n",
              "    <tr style=\"text-align: right;\">\n",
              "      <th></th>\n",
              "      <th>Riesgo</th>\n",
              "      <th>Total</th>\n",
              "      <th>Porcentaje</th>\n",
              "    </tr>\n",
              "  </thead>\n",
              "  <tbody>\n",
              "    <tr>\n",
              "      <th>0</th>\n",
              "      <td>NO</td>\n",
              "      <td>29590</td>\n",
              "      <td>62.24</td>\n",
              "    </tr>\n",
              "    <tr>\n",
              "      <th>1</th>\n",
              "      <td>SI</td>\n",
              "      <td>17952</td>\n",
              "      <td>37.76</td>\n",
              "    </tr>\n",
              "  </tbody>\n",
              "</table>\n",
              "</div>\n",
              "      <button class=\"colab-df-convert\" onclick=\"convertToInteractive('df-e6930fe3-1bd3-485a-8424-1945b435cadd')\"\n",
              "              title=\"Convert this dataframe to an interactive table.\"\n",
              "              style=\"display:none;\">\n",
              "        \n",
              "  <svg xmlns=\"http://www.w3.org/2000/svg\" height=\"24px\"viewBox=\"0 0 24 24\"\n",
              "       width=\"24px\">\n",
              "    <path d=\"M0 0h24v24H0V0z\" fill=\"none\"/>\n",
              "    <path d=\"M18.56 5.44l.94 2.06.94-2.06 2.06-.94-2.06-.94-.94-2.06-.94 2.06-2.06.94zm-11 1L8.5 8.5l.94-2.06 2.06-.94-2.06-.94L8.5 2.5l-.94 2.06-2.06.94zm10 10l.94 2.06.94-2.06 2.06-.94-2.06-.94-.94-2.06-.94 2.06-2.06.94z\"/><path d=\"M17.41 7.96l-1.37-1.37c-.4-.4-.92-.59-1.43-.59-.52 0-1.04.2-1.43.59L10.3 9.45l-7.72 7.72c-.78.78-.78 2.05 0 2.83L4 21.41c.39.39.9.59 1.41.59.51 0 1.02-.2 1.41-.59l7.78-7.78 2.81-2.81c.8-.78.8-2.07 0-2.86zM5.41 20L4 18.59l7.72-7.72 1.47 1.35L5.41 20z\"/>\n",
              "  </svg>\n",
              "      </button>\n",
              "      \n",
              "  <style>\n",
              "    .colab-df-container {\n",
              "      display:flex;\n",
              "      flex-wrap:wrap;\n",
              "      gap: 12px;\n",
              "    }\n",
              "\n",
              "    .colab-df-convert {\n",
              "      background-color: #E8F0FE;\n",
              "      border: none;\n",
              "      border-radius: 50%;\n",
              "      cursor: pointer;\n",
              "      display: none;\n",
              "      fill: #1967D2;\n",
              "      height: 32px;\n",
              "      padding: 0 0 0 0;\n",
              "      width: 32px;\n",
              "    }\n",
              "\n",
              "    .colab-df-convert:hover {\n",
              "      background-color: #E2EBFA;\n",
              "      box-shadow: 0px 1px 2px rgba(60, 64, 67, 0.3), 0px 1px 3px 1px rgba(60, 64, 67, 0.15);\n",
              "      fill: #174EA6;\n",
              "    }\n",
              "\n",
              "    [theme=dark] .colab-df-convert {\n",
              "      background-color: #3B4455;\n",
              "      fill: #D2E3FC;\n",
              "    }\n",
              "\n",
              "    [theme=dark] .colab-df-convert:hover {\n",
              "      background-color: #434B5C;\n",
              "      box-shadow: 0px 1px 3px 1px rgba(0, 0, 0, 0.15);\n",
              "      filter: drop-shadow(0px 1px 2px rgba(0, 0, 0, 0.3));\n",
              "      fill: #FFFFFF;\n",
              "    }\n",
              "  </style>\n",
              "\n",
              "      <script>\n",
              "        const buttonEl =\n",
              "          document.querySelector('#df-e6930fe3-1bd3-485a-8424-1945b435cadd button.colab-df-convert');\n",
              "        buttonEl.style.display =\n",
              "          google.colab.kernel.accessAllowed ? 'block' : 'none';\n",
              "\n",
              "        async function convertToInteractive(key) {\n",
              "          const element = document.querySelector('#df-e6930fe3-1bd3-485a-8424-1945b435cadd');\n",
              "          const dataTable =\n",
              "            await google.colab.kernel.invokeFunction('convertToInteractive',\n",
              "                                                     [key], {});\n",
              "          if (!dataTable) return;\n",
              "\n",
              "          const docLinkHtml = 'Like what you see? Visit the ' +\n",
              "            '<a target=\"_blank\" href=https://colab.research.google.com/notebooks/data_table.ipynb>data table notebook</a>'\n",
              "            + ' to learn more about interactive tables.';\n",
              "          element.innerHTML = '';\n",
              "          dataTable['output_type'] = 'display_data';\n",
              "          await google.colab.output.renderOutput(dataTable, element);\n",
              "          const docLink = document.createElement('div');\n",
              "          docLink.innerHTML = docLinkHtml;\n",
              "          element.appendChild(docLink);\n",
              "        }\n",
              "      </script>\n",
              "    </div>\n",
              "  </div>\n",
              "  "
            ]
          },
          "metadata": {},
          "execution_count": 13
        }
      ]
    },
    {
      "cell_type": "code",
      "source": [
        "# Graficamos la cantidad de morosos y no morosos del dataset\n",
        "target_cero = df[df['Default']==0]['Default'].count()\n",
        "target_uno  = df[df['Default']==1]['Default'].count()\n",
        "\n",
        "labels = 'No paga la deuda - Moroso', 'Si paga la deuda - No Moroso'\n",
        "sizes = [target_cero, target_uno]\n",
        "explode = (0.05, 0) \n",
        "\n",
        "plt.title(\"Distribución de la variable Default\")\n",
        "plt.pie(sizes, explode=explode, labels=labels, autopct='%1.1f%%',\n",
        "        shadow=True, startangle=90 )\n",
        "plt.axis('equal') \n",
        "\n",
        "plt.show()"
      ],
      "metadata": {
        "id": "vdoUt9txtp48",
        "colab": {
          "base_uri": "https://localhost:8080/",
          "height": 264
        },
        "outputId": "3f651539-2580-4432-f141-054bef562c79"
      },
      "execution_count": 16,
      "outputs": [
        {
          "output_type": "display_data",
          "data": {
            "text/plain": [
              "<Figure size 432x288 with 1 Axes>"
            ],
            "image/png": "[encoded data removed]"
          },
          "metadata": {}
        }
      ]
    },
    {
      "cell_type": "code",
      "source": [
        "# Graficamos la cantidad de personas masculinas y femeninas del dataset(Variable Genero)\n",
        "target_cero = df[df['Genero']==\"M\"]['Genero'].count()\n",
        "target_uno  = df[df['Genero']==\"F\"]['Genero'].count()\n",
        "\n",
        "labels = 'Masculino', 'Femenino'\n",
        "sizes = [target_cero, target_uno]\n",
        "explode = (0.05, 0) \n",
        "\n",
        "plt.title(\"Distribución de la variable Genero\")\n",
        "plt.pie(sizes, explode=explode, labels=labels, autopct='%1.1f%%',\n",
        "        shadow=True, startangle=90 )\n",
        "plt.axis('equal') \n",
        "\n",
        "plt.show()"
      ],
      "metadata": {
        "id": "Izl7TlXoAmfj",
        "colab": {
          "base_uri": "https://localhost:8080/",
          "height": 264
        },
        "outputId": "0ceef9b1-efd7-4c90-8453-e89800214ba4"
      },
      "execution_count": 17,
      "outputs": [
        {
          "output_type": "display_data",
          "data": {
            "text/plain": [
              "<Figure size 432x288 with 1 Axes>"
            ],
            "image/png": "[encoded data removed]"
          },
          "metadata": {}
        }
      ]
    },
    {
      "cell_type": "code",
      "source": [
        "# Distribucion de cada tipo de producto (Variable Producto)\n",
        "color_list = ['gold', 'yellowgreen', 'lightcoral', 'lightskyblue', 'pink']\n",
        "explode_list = [0.1, 0, 0, 0.1, 0.1]\n",
        "df['Producto'].value_counts().plot(kind='pie',\n",
        "                                    figsize=(15, 6),\n",
        "                                    autopct='%1.1f%%',\n",
        "                                    startangle=90,\n",
        "                                    shadow=True,\n",
        "                                    labels=None,\n",
        "                                    pctdistance=1.12,\n",
        "                                    colors=color_list,\n",
        "                                    explode=explode_list\n",
        "                                    )\n",
        "\n",
        "plt.title('Tipos de Productos', loc='center', y=1.1)\n",
        "plt.axis('equal')\n",
        "plt.legend(labels=df[\"Producto\"].value_counts().index , loc='upper left')\n",
        "\n",
        "plt.show()"
      ],
      "metadata": {
        "id": "CKxnWwQKVQ55",
        "colab": {
          "base_uri": "https://localhost:8080/",
          "height": 407
        },
        "outputId": "0610604c-1e7d-459f-eb21-7691b52b12f3"
      },
      "execution_count": 18,
      "outputs": [
        {
          "output_type": "display_data",
          "data": {
            "text/plain": [
              "<Figure size 1080x432 with 1 Axes>"
            ],
            "image/png": "[encoded data removed]"
          },
          "metadata": {}
        }
      ]
    },
    {
      "cell_type": "code",
      "source": [
        "sns.factorplot('Calificacion',data=df,kind=\"count\", aspect=2)"
      ],
      "metadata": {
        "id": "G-UTD6wrIZ9e",
        "colab": {
          "base_uri": "https://localhost:8080/",
          "height": 386
        },
        "outputId": "0617c92c-c5e3-48a3-d27e-700bd4354dbf"
      },
      "execution_count": 19,
      "outputs": [
        {
          "output_type": "execute_result",
          "data": {
            "text/plain": [
              "<seaborn.axisgrid.FacetGrid at 0x7fe25e9eacd0>"
            ]
          },
          "metadata": {},
          "execution_count": 19
        },
        {
          "output_type": "display_data",
          "data": {
            "text/plain": [
              "<Figure size 720x360 with 1 Axes>"
            ],
            "image/png": "[encoded data removed]"
          },
          "metadata": {
            "needs_background": "light"
          }
        }
      ]
    },
    {
      "cell_type": "code",
      "source": [
        "sns.factorplot('Score',data=df,kind=\"count\", aspect=2)"
      ],
      "metadata": {
        "id": "FnC8B3m9H8UP",
        "colab": {
          "base_uri": "https://localhost:8080/",
          "height": 386
        },
        "outputId": "8f4b8426-56d0-4808-e96e-1d165cbfcfb0"
      },
      "execution_count": null,
      "outputs": [
        {
          "output_type": "execute_result",
          "data": {
            "text/plain": [
              "<seaborn.axisgrid.FacetGrid at 0x7fcdc75f7b90>"
            ]
          },
          "metadata": {},
          "execution_count": 20
        },
        {
          "output_type": "display_data",
          "data": {
            "text/plain": [
              "<Figure size 720x360 with 1 Axes>"
            ],
            "image/png": "[encoded data removed]"
          },
          "metadata": {
            "needs_background": "light"
          }
        }
      ]
    },
    {
      "cell_type": "code",
      "source": [
        "sns.factorplot('Riesgo',data=df,kind=\"count\", aspect=2)"
      ],
      "metadata": {
        "id": "x61JqbbhItXe",
        "colab": {
          "base_uri": "https://localhost:8080/",
          "height": 386
        },
        "outputId": "8b872f5d-b4a7-4e80-c7be-dcc4483808af"
      },
      "execution_count": 20,
      "outputs": [
        {
          "output_type": "execute_result",
          "data": {
            "text/plain": [
              "<seaborn.axisgrid.FacetGrid at 0x7fe25f146510>"
            ]
          },
          "metadata": {},
          "execution_count": 20
        },
        {
          "output_type": "display_data",
          "data": {
            "text/plain": [
              "<Figure size 720x360 with 1 Axes>"
            ],
            "image/png": "[encoded data removed]"
          },
          "metadata": {
            "needs_background": "light"
          }
        }
      ]
    },
    {
      "cell_type": "markdown",
      "source": [
        "**3.3.b) - Analisis Bivariable**"
      ],
      "metadata": {
        "id": "v1SkYst-FSvk"
      }
    },
    {
      "cell_type": "code",
      "source": [
        "sns.factorplot('Default',data=df,hue='Producto',kind=\"count\", aspect=2)\n",
        "# este muestra los 0 y 1 de la columna \"Default\""
      ],
      "metadata": {
        "id": "lq4KS5HgIKVv",
        "colab": {
          "base_uri": "https://localhost:8080/",
          "height": 386
        },
        "outputId": "28ef10d8-632e-49e1-8674-224e14b8149f"
      },
      "execution_count": 21,
      "outputs": [
        {
          "output_type": "execute_result",
          "data": {
            "text/plain": [
              "<seaborn.axisgrid.FacetGrid at 0x7fe25f1802d0>"
            ]
          },
          "metadata": {},
          "execution_count": 21
        },
        {
          "output_type": "display_data",
          "data": {
            "text/plain": [
              "<Figure size 847.625x360 with 1 Axes>"
            ],
            "image/png": "[encoded data removed]"
          },
          "metadata": {
            "needs_background": "light"
          }
        }
      ]
    },
    {
      "cell_type": "code",
      "source": [
        "sns.factorplot('Default',data=df,hue='Calificacion',kind=\"count\", aspect=2)"
      ],
      "metadata": {
        "id": "BpVG4dedIfTv",
        "colab": {
          "base_uri": "https://localhost:8080/",
          "height": 386
        },
        "outputId": "8b9b9c1a-7558-4092-93e9-c352622e85ca"
      },
      "execution_count": 22,
      "outputs": [
        {
          "output_type": "execute_result",
          "data": {
            "text/plain": [
              "<seaborn.axisgrid.FacetGrid at 0x7fe25ebc2190>"
            ]
          },
          "metadata": {},
          "execution_count": 22
        },
        {
          "output_type": "display_data",
          "data": {
            "text/plain": [
              "<Figure size 822.625x360 with 1 Axes>"
            ],
            "image/png": "[encoded data removed]"
          },
          "metadata": {
            "needs_background": "light"
          }
        }
      ]
    },
    {
      "cell_type": "code",
      "source": [
        "sns.factorplot('Default',data=df,hue='Genero',kind=\"count\", aspect=1)"
      ],
      "metadata": {
        "id": "6Z2M-2hqImJX",
        "colab": {
          "base_uri": "https://localhost:8080/",
          "height": 386
        },
        "outputId": "9acf6b8a-9cfd-407a-a4b8-faea8811bd3e"
      },
      "execution_count": 23,
      "outputs": [
        {
          "output_type": "execute_result",
          "data": {
            "text/plain": [
              "<seaborn.axisgrid.FacetGrid at 0x7fe25f2ec310>"
            ]
          },
          "metadata": {},
          "execution_count": 23
        },
        {
          "output_type": "display_data",
          "data": {
            "text/plain": [
              "<Figure size 404.625x360 with 1 Axes>"
            ],
            "image/png": "[encoded data removed]"
          },
          "metadata": {
            "needs_background": "light"
          }
        }
      ]
    },
    {
      "cell_type": "markdown",
      "source": [
        "### **3.4) - Transformar variables de categoricas a numericas**"
      ],
      "metadata": {
        "id": "pO70xGTrU40q"
      }
    },
    {
      "cell_type": "markdown",
      "source": [
        "La idea es identificar los distintos valores existentes y sustituir cada uno de ellos por un número, para ello utilizamos el metodo denominado **Label Encoding.**\n"
      ],
      "metadata": {
        "id": "1pMKP4_pDLyu"
      }
    },
    {
      "cell_type": "markdown",
      "source": [
        "**3.4.a) - Agrupar valores de la variable Score**\n",
        "\n",
        "Agrupamos valores de la variable \"Score\" en una nueva variable denominada \"Scoring\".\n",
        "\n",
        "Se agruparan datos en tres rangos: No Bancarizado (Score = 0) / No Moroso( Score 450 a 999) y Moroso (Score 1 a 449) asignandole los valores numericos: 2 (No Bancarizado), 0 (No Moroso) y 1 (Moroso).\n",
        "\n",
        "![scoring.jpg](data:image/jpeg;base64,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)\n",
        "\n",
        "Este agrupamiento puede mejorar la precisión de los modelos predictivos y, a su vez, puede mejorar la comprensión de la distribución de los datos.\n",
        "\n",
        "\n"
      ],
      "metadata": {
        "id": "f4nR2DNUNKgP"
      }
    },
    {
      "cell_type": "code",
      "source": [
        "# Vemos previamente la cantidad de elementos de cada score\n",
        "df.groupby('Score').size()"
      ],
      "metadata": {
        "colab": {
          "base_uri": "https://localhost:8080/"
        },
        "id": "gE1WZ8pZLT3t",
        "outputId": "ef6a248c-5194-41c6-b799-d9680fe1a16f"
      },
      "execution_count": 24,
      "outputs": [
        {
          "output_type": "execute_result",
          "data": {
            "text/plain": [
              "Score\n",
              "0      6023\n",
              "1       224\n",
              "99      232\n",
              "100     313\n",
              "102      27\n",
              "       ... \n",
              "765       1\n",
              "770     106\n",
              "789       1\n",
              "867       1\n",
              "888     156\n",
              "Length: 315, dtype: int64"
            ]
          },
          "metadata": {},
          "execution_count": 24
        }
      ]
    },
    {
      "cell_type": "code",
      "execution_count": 25,
      "metadata": {
        "id": "eF4GiRdFu9KA"
      },
      "outputs": [],
      "source": [
        "# Agrupamos valores de la variable Score en una nueva variable denominada Scoring\n",
        "from sklearn.preprocessing import LabelEncoder\n",
        "\n",
        "def score_func(x):\n",
        "    # if x['Score'] <= 0 : return 'No Bancarizado'\n",
        "    if x['Score'] >1 and (x['Score'] <= 449): return 1 # 'Moroso'\n",
        "    elif x['Score'] >450 and (x['Score'] <= 999): return 0 # 'No Moroso'\n",
        "    else: return 2 # 'No Bancarizado'\n",
        "\n",
        "df['Scoring'] = df.apply(score_func, axis = 1)"
      ]
    },
    {
      "cell_type": "code",
      "execution_count": 26,
      "metadata": {
        "colab": {
          "base_uri": "https://localhost:8080/"
        },
        "id": "8ZPD5Bi5yDws",
        "outputId": "902fa569-f8ed-4ca2-fd3f-e694432a8fd3"
      },
      "outputs": [
        {
          "output_type": "execute_result",
          "data": {
            "text/plain": [
              "Genero          0\n",
              "Producto        0\n",
              "Calificacion    0\n",
              "Score           0\n",
              "Default         0\n",
              "Riesgo          0\n",
              "Scoring         0\n",
              "dtype: int64"
            ]
          },
          "metadata": {},
          "execution_count": 26
        }
      ],
      "source": [
        "# Corroboramos que con este cambio no queden valores sin imputar\n",
        "df.isnull().sum()"
      ]
    },
    {
      "cell_type": "code",
      "execution_count": 27,
      "metadata": {
        "id": "akyRyhYFyEf7",
        "colab": {
          "base_uri": "https://localhost:8080/",
          "height": 206
        },
        "outputId": "6f8d01b4-4b24-4b9e-b313-cd41c0477738"
      },
      "outputs": [
        {
          "output_type": "execute_result",
          "data": {
            "text/plain": [
              "  Genero Producto Calificacion  Score  Default  Riesgo  Scoring\n",
              "0      F  Credito  Riesgo Bajo    410        1       2        1\n",
              "1      F  Reporte        Bueno    570        0       1        0\n",
              "2      F  Reporte  Calificable      0        0       1        2\n",
              "3      M  Reporte  Riesgo Bajo    433        1       2        1\n",
              "4      F  Reporte  Riesgo Alto    254        1       4        1"
            ],
            "text/html": [
              "\n",
              "  <div id=\"df-f3601bdd-7350-4e35-88f6-3996bf4a1f2a\">\n",
              "    <div class=\"colab-df-container\">\n",
              "      <div>\n",
              "<style scoped>\n",
              "    .dataframe tbody tr th:only-of-type {\n",
              "        vertical-align: middle;\n",
              "    }\n",
              "\n",
              "    .dataframe tbody tr th {\n",
              "        vertical-align: top;\n",
              "    }\n",
              "\n",
              "    .dataframe thead th {\n",
              "        text-align: right;\n",
              "    }\n",
              "</style>\n",
              "<table border=\"1\" class=\"dataframe\">\n",
              "  <thead>\n",
              "    <tr style=\"text-align: right;\">\n",
              "      <th></th>\n",
              "      <th>Genero</th>\n",
              "      <th>Producto</th>\n",
              "      <th>Calificacion</th>\n",
              "      <th>Score</th>\n",
              "      <th>Default</th>\n",
              "      <th>Riesgo</th>\n",
              "      <th>Scoring</th>\n",
              "    </tr>\n",
              "  </thead>\n",
              "  <tbody>\n",
              "    <tr>\n",
              "      <th>0</th>\n",
              "      <td>F</td>\n",
              "      <td>Credito</td>\n",
              "      <td>Riesgo Bajo</td>\n",
              "      <td>410</td>\n",
              "      <td>1</td>\n",
              "      <td>2</td>\n",
              "      <td>1</td>\n",
              "    </tr>\n",
              "    <tr>\n",
              "      <th>1</th>\n",
              "      <td>F</td>\n",
              "      <td>Reporte</td>\n",
              "      <td>Bueno</td>\n",
              "      <td>570</td>\n",
              "      <td>0</td>\n",
              "      <td>1</td>\n",
              "      <td>0</td>\n",
              "    </tr>\n",
              "    <tr>\n",
              "      <th>2</th>\n",
              "      <td>F</td>\n",
              "      <td>Reporte</td>\n",
              "      <td>Calificable</td>\n",
              "      <td>0</td>\n",
              "      <td>0</td>\n",
              "      <td>1</td>\n",
              "      <td>2</td>\n",
              "    </tr>\n",
              "    <tr>\n",
              "      <th>3</th>\n",
              "      <td>M</td>\n",
              "      <td>Reporte</td>\n",
              "      <td>Riesgo Bajo</td>\n",
              "      <td>433</td>\n",
              "      <td>1</td>\n",
              "      <td>2</td>\n",
              "      <td>1</td>\n",
              "    </tr>\n",
              "    <tr>\n",
              "      <th>4</th>\n",
              "      <td>F</td>\n",
              "      <td>Reporte</td>\n",
              "      <td>Riesgo Alto</td>\n",
              "      <td>254</td>\n",
              "      <td>1</td>\n",
              "      <td>4</td>\n",
              "      <td>1</td>\n",
              "    </tr>\n",
              "  </tbody>\n",
              "</table>\n",
              "</div>\n",
              "      <button class=\"colab-df-convert\" onclick=\"convertToInteractive('df-f3601bdd-7350-4e35-88f6-3996bf4a1f2a')\"\n",
              "              title=\"Convert this dataframe to an interactive table.\"\n",
              "              style=\"display:none;\">\n",
              "        \n",
              "  <svg xmlns=\"http://www.w3.org/2000/svg\" height=\"24px\"viewBox=\"0 0 24 24\"\n",
              "       width=\"24px\">\n",
              "    <path d=\"M0 0h24v24H0V0z\" fill=\"none\"/>\n",
              "    <path d=\"M18.56 5.44l.94 2.06.94-2.06 2.06-.94-2.06-.94-.94-2.06-.94 2.06-2.06.94zm-11 1L8.5 8.5l.94-2.06 2.06-.94-2.06-.94L8.5 2.5l-.94 2.06-2.06.94zm10 10l.94 2.06.94-2.06 2.06-.94-2.06-.94-.94-2.06-.94 2.06-2.06.94z\"/><path d=\"M17.41 7.96l-1.37-1.37c-.4-.4-.92-.59-1.43-.59-.52 0-1.04.2-1.43.59L10.3 9.45l-7.72 7.72c-.78.78-.78 2.05 0 2.83L4 21.41c.39.39.9.59 1.41.59.51 0 1.02-.2 1.41-.59l7.78-7.78 2.81-2.81c.8-.78.8-2.07 0-2.86zM5.41 20L4 18.59l7.72-7.72 1.47 1.35L5.41 20z\"/>\n",
              "  </svg>\n",
              "      </button>\n",
              "      \n",
              "  <style>\n",
              "    .colab-df-container {\n",
              "      display:flex;\n",
              "      flex-wrap:wrap;\n",
              "      gap: 12px;\n",
              "    }\n",
              "\n",
              "    .colab-df-convert {\n",
              "      background-color: #E8F0FE;\n",
              "      border: none;\n",
              "      border-radius: 50%;\n",
              "      cursor: pointer;\n",
              "      display: none;\n",
              "      fill: #1967D2;\n",
              "      height: 32px;\n",
              "      padding: 0 0 0 0;\n",
              "      width: 32px;\n",
              "    }\n",
              "\n",
              "    .colab-df-convert:hover {\n",
              "      background-color: #E2EBFA;\n",
              "      box-shadow: 0px 1px 2px rgba(60, 64, 67, 0.3), 0px 1px 3px 1px rgba(60, 64, 67, 0.15);\n",
              "      fill: #174EA6;\n",
              "    }\n",
              "\n",
              "    [theme=dark] .colab-df-convert {\n",
              "      background-color: #3B4455;\n",
              "      fill: #D2E3FC;\n",
              "    }\n",
              "\n",
              "    [theme=dark] .colab-df-convert:hover {\n",
              "      background-color: #434B5C;\n",
              "      box-shadow: 0px 1px 3px 1px rgba(0, 0, 0, 0.15);\n",
              "      filter: drop-shadow(0px 1px 2px rgba(0, 0, 0, 0.3));\n",
              "      fill: #FFFFFF;\n",
              "    }\n",
              "  </style>\n",
              "\n",
              "      <script>\n",
              "        const buttonEl =\n",
              "          document.querySelector('#df-f3601bdd-7350-4e35-88f6-3996bf4a1f2a button.colab-df-convert');\n",
              "        buttonEl.style.display =\n",
              "          google.colab.kernel.accessAllowed ? 'block' : 'none';\n",
              "\n",
              "        async function convertToInteractive(key) {\n",
              "          const element = document.querySelector('#df-f3601bdd-7350-4e35-88f6-3996bf4a1f2a');\n",
              "          const dataTable =\n",
              "            await google.colab.kernel.invokeFunction('convertToInteractive',\n",
              "                                                     [key], {});\n",
              "          if (!dataTable) return;\n",
              "\n",
              "          const docLinkHtml = 'Like what you see? Visit the ' +\n",
              "            '<a target=\"_blank\" href=https://colab.research.google.com/notebooks/data_table.ipynb>data table notebook</a>'\n",
              "            + ' to learn more about interactive tables.';\n",
              "          element.innerHTML = '';\n",
              "          dataTable['output_type'] = 'display_data';\n",
              "          await google.colab.output.renderOutput(dataTable, element);\n",
              "          const docLink = document.createElement('div');\n",
              "          docLink.innerHTML = docLinkHtml;\n",
              "          element.appendChild(docLink);\n",
              "        }\n",
              "      </script>\n",
              "    </div>\n",
              "  </div>\n",
              "  "
            ]
          },
          "metadata": {},
          "execution_count": 27
        }
      ],
      "source": [
        "df.head()"
      ]
    },
    {
      "cell_type": "code",
      "source": [
        "# Eliminamos las columnas Score\n",
        "df = df.drop(['Score'], axis = 1)"
      ],
      "metadata": {
        "id": "r8cZz9taoff9"
      },
      "execution_count": 28,
      "outputs": []
    },
    {
      "cell_type": "markdown",
      "source": [
        "**3.4.b) - Transformamos las Variables \"Calificacion\", \"Genero\" y \"Producto\" en variables numericas**."
      ],
      "metadata": {
        "id": "CpMH8z95o_L1"
      }
    },
    {
      "cell_type": "code",
      "source": [
        "# Map the atribute into ordinal numbers from 1-7 - varable Calificacion\n",
        "scale_mapper = {'Riesgo Alto' : 1, 'Riesgo Medio' : 2, \n",
        "'Riesgo Bajo' : 3, 'Calificable' : 4, 'Normal' : 5, 'Bueno' : 6, 'Muy Bueno' : 7}\n",
        "\n",
        "df['Calificacion'] = df['Calificacion'].replace(scale_mapper)"
      ],
      "metadata": {
        "id": "6_T1SLNKKshU"
      },
      "execution_count": 29,
      "outputs": []
    },
    {
      "cell_type": "code",
      "source": [
        "df.groupby('Calificacion').size()"
      ],
      "metadata": {
        "colab": {
          "base_uri": "https://localhost:8080/"
        },
        "id": "3tPjKWbCugXM",
        "outputId": "6420fb95-8fa5-4ca9-97f9-76d96027bf8c"
      },
      "execution_count": 30,
      "outputs": [
        {
          "output_type": "execute_result",
          "data": {
            "text/plain": [
              "Calificacion\n",
              "1    10226\n",
              "2     2945\n",
              "3     4781\n",
              "4     6023\n",
              "5     9819\n",
              "6     8810\n",
              "7     4938\n",
              "dtype: int64"
            ]
          },
          "metadata": {},
          "execution_count": 30
        }
      ]
    },
    {
      "cell_type": "code",
      "source": [
        "le=LabelEncoder()\n",
        "df['Genero']=le.fit_transform(df['Genero'])"
      ],
      "metadata": {
        "id": "-QwGmIFG557E"
      },
      "execution_count": 35,
      "outputs": []
    },
    {
      "cell_type": "code",
      "execution_count": 36,
      "metadata": {
        "colab": {
          "base_uri": "https://localhost:8080/"
        },
        "id": "T_lnE3feehjk",
        "outputId": "9e445c6b-9248-4995-88c8-31c4a865455f"
      },
      "outputs": [
        {
          "output_type": "execute_result",
          "data": {
            "text/plain": [
              "array([0, 1])"
            ]
          },
          "metadata": {},
          "execution_count": 36
        }
      ],
      "source": [
        "df['Genero'].unique()\n",
        "# F = 0 / M = 1"
      ]
    },
    {
      "cell_type": "code",
      "source": [
        "#Map the atribute into ordinal numbers from 1-5 - variable Producto\n",
        "scale_mapper = {'Credito' : 1, 'Reporte' : 2, \n",
        "'Alquiler' : 3, 'Personal' : 4, 'Informe Comercial' : 5}\n",
        "\n",
        "df['Producto'] = df['Producto'].replace(scale_mapper)"
      ],
      "metadata": {
        "id": "v2Kpi1k2KshW"
      },
      "execution_count": 32,
      "outputs": []
    },
    {
      "cell_type": "code",
      "source": [
        "df.groupby('Producto').size()"
      ],
      "metadata": {
        "colab": {
          "base_uri": "https://localhost:8080/"
        },
        "id": "ZQPOE2i-um6T",
        "outputId": "11a2c509-d7dd-409e-b930-b21566e1fe74"
      },
      "execution_count": 33,
      "outputs": [
        {
          "output_type": "execute_result",
          "data": {
            "text/plain": [
              "Producto\n",
              "1    15047\n",
              "2    17851\n",
              "3    13870\n",
              "4      633\n",
              "5      141\n",
              "dtype: int64"
            ]
          },
          "metadata": {},
          "execution_count": 33
        }
      ]
    },
    {
      "cell_type": "code",
      "source": [
        "df.head()"
      ],
      "metadata": {
        "colab": {
          "base_uri": "https://localhost:8080/",
          "height": 206
        },
        "id": "5KkRxPwL5mkr",
        "outputId": "0db0ad20-04ba-438d-836e-b4253593c6b5"
      },
      "execution_count": 37,
      "outputs": [
        {
          "output_type": "execute_result",
          "data": {
            "text/plain": [
              "   Genero  Producto  Calificacion  Default  Riesgo  Scoring\n",
              "0       0         1             3        1       2        1\n",
              "1       0         2             6        0       1        0\n",
              "2       0         2             4        0       1        2\n",
              "3       1         2             3        1       2        1\n",
              "4       0         2             1        1       4        1"
            ],
            "text/html": [
              "\n",
              "  <div id=\"df-b3adb357-436d-453e-bc30-987c6076bb4d\">\n",
              "    <div class=\"colab-df-container\">\n",
              "      <div>\n",
              "<style scoped>\n",
              "    .dataframe tbody tr th:only-of-type {\n",
              "        vertical-align: middle;\n",
              "    }\n",
              "\n",
              "    .dataframe tbody tr th {\n",
              "        vertical-align: top;\n",
              "    }\n",
              "\n",
              "    .dataframe thead th {\n",
              "        text-align: right;\n",
              "    }\n",
              "</style>\n",
              "<table border=\"1\" class=\"dataframe\">\n",
              "  <thead>\n",
              "    <tr style=\"text-align: right;\">\n",
              "      <th></th>\n",
              "      <th>Genero</th>\n",
              "      <th>Producto</th>\n",
              "      <th>Calificacion</th>\n",
              "      <th>Default</th>\n",
              "      <th>Riesgo</th>\n",
              "      <th>Scoring</th>\n",
              "    </tr>\n",
              "  </thead>\n",
              "  <tbody>\n",
              "    <tr>\n",
              "      <th>0</th>\n",
              "      <td>0</td>\n",
              "      <td>1</td>\n",
              "      <td>3</td>\n",
              "      <td>1</td>\n",
              "      <td>2</td>\n",
              "      <td>1</td>\n",
              "    </tr>\n",
              "    <tr>\n",
              "      <th>1</th>\n",
              "      <td>0</td>\n",
              "      <td>2</td>\n",
              "      <td>6</td>\n",
              "      <td>0</td>\n",
              "      <td>1</td>\n",
              "      <td>0</td>\n",
              "    </tr>\n",
              "    <tr>\n",
              "      <th>2</th>\n",
              "      <td>0</td>\n",
              "      <td>2</td>\n",
              "      <td>4</td>\n",
              "      <td>0</td>\n",
              "      <td>1</td>\n",
              "      <td>2</td>\n",
              "    </tr>\n",
              "    <tr>\n",
              "      <th>3</th>\n",
              "      <td>1</td>\n",
              "      <td>2</td>\n",
              "      <td>3</td>\n",
              "      <td>1</td>\n",
              "      <td>2</td>\n",
              "      <td>1</td>\n",
              "    </tr>\n",
              "    <tr>\n",
              "      <th>4</th>\n",
              "      <td>0</td>\n",
              "      <td>2</td>\n",
              "      <td>1</td>\n",
              "      <td>1</td>\n",
              "      <td>4</td>\n",
              "      <td>1</td>\n",
              "    </tr>\n",
              "  </tbody>\n",
              "</table>\n",
              "</div>\n",
              "      <button class=\"colab-df-convert\" onclick=\"convertToInteractive('df-b3adb357-436d-453e-bc30-987c6076bb4d')\"\n",
              "              title=\"Convert this dataframe to an interactive table.\"\n",
              "              style=\"display:none;\">\n",
              "        \n",
              "  <svg xmlns=\"http://www.w3.org/2000/svg\" height=\"24px\"viewBox=\"0 0 24 24\"\n",
              "       width=\"24px\">\n",
              "    <path d=\"M0 0h24v24H0V0z\" fill=\"none\"/>\n",
              "    <path d=\"M18.56 5.44l.94 2.06.94-2.06 2.06-.94-2.06-.94-.94-2.06-.94 2.06-2.06.94zm-11 1L8.5 8.5l.94-2.06 2.06-.94-2.06-.94L8.5 2.5l-.94 2.06-2.06.94zm10 10l.94 2.06.94-2.06 2.06-.94-2.06-.94-.94-2.06-.94 2.06-2.06.94z\"/><path d=\"M17.41 7.96l-1.37-1.37c-.4-.4-.92-.59-1.43-.59-.52 0-1.04.2-1.43.59L10.3 9.45l-7.72 7.72c-.78.78-.78 2.05 0 2.83L4 21.41c.39.39.9.59 1.41.59.51 0 1.02-.2 1.41-.59l7.78-7.78 2.81-2.81c.8-.78.8-2.07 0-2.86zM5.41 20L4 18.59l7.72-7.72 1.47 1.35L5.41 20z\"/>\n",
              "  </svg>\n",
              "      </button>\n",
              "      \n",
              "  <style>\n",
              "    .colab-df-container {\n",
              "      display:flex;\n",
              "      flex-wrap:wrap;\n",
              "      gap: 12px;\n",
              "    }\n",
              "\n",
              "    .colab-df-convert {\n",
              "      background-color: #E8F0FE;\n",
              "      border: none;\n",
              "      border-radius: 50%;\n",
              "      cursor: pointer;\n",
              "      display: none;\n",
              "      fill: #1967D2;\n",
              "      height: 32px;\n",
              "      padding: 0 0 0 0;\n",
              "      width: 32px;\n",
              "    }\n",
              "\n",
              "    .colab-df-convert:hover {\n",
              "      background-color: #E2EBFA;\n",
              "      box-shadow: 0px 1px 2px rgba(60, 64, 67, 0.3), 0px 1px 3px 1px rgba(60, 64, 67, 0.15);\n",
              "      fill: #174EA6;\n",
              "    }\n",
              "\n",
              "    [theme=dark] .colab-df-convert {\n",
              "      background-color: #3B4455;\n",
              "      fill: #D2E3FC;\n",
              "    }\n",
              "\n",
              "    [theme=dark] .colab-df-convert:hover {\n",
              "      background-color: #434B5C;\n",
              "      box-shadow: 0px 1px 3px 1px rgba(0, 0, 0, 0.15);\n",
              "      filter: drop-shadow(0px 1px 2px rgba(0, 0, 0, 0.3));\n",
              "      fill: #FFFFFF;\n",
              "    }\n",
              "  </style>\n",
              "\n",
              "      <script>\n",
              "        const buttonEl =\n",
              "          document.querySelector('#df-b3adb357-436d-453e-bc30-987c6076bb4d button.colab-df-convert');\n",
              "        buttonEl.style.display =\n",
              "          google.colab.kernel.accessAllowed ? 'block' : 'none';\n",
              "\n",
              "        async function convertToInteractive(key) {\n",
              "          const element = document.querySelector('#df-b3adb357-436d-453e-bc30-987c6076bb4d');\n",
              "          const dataTable =\n",
              "            await google.colab.kernel.invokeFunction('convertToInteractive',\n",
              "                                                     [key], {});\n",
              "          if (!dataTable) return;\n",
              "\n",
              "          const docLinkHtml = 'Like what you see? Visit the ' +\n",
              "            '<a target=\"_blank\" href=https://colab.research.google.com/notebooks/data_table.ipynb>data table notebook</a>'\n",
              "            + ' to learn more about interactive tables.';\n",
              "          element.innerHTML = '';\n",
              "          dataTable['output_type'] = 'display_data';\n",
              "          await google.colab.output.renderOutput(dataTable, element);\n",
              "          const docLink = document.createElement('div');\n",
              "          docLink.innerHTML = docLinkHtml;\n",
              "          element.appendChild(docLink);\n",
              "        }\n",
              "      </script>\n",
              "    </div>\n",
              "  </div>\n",
              "  "
            ]
          },
          "metadata": {},
          "execution_count": 37
        }
      ]
    },
    {
      "cell_type": "markdown",
      "source": [
        "### **3.5) - Correlacion de datos**\n",
        "\n",
        "Verifiquemos si hay correlación entre los datos del dataset. Para ello, utilizamos el método corr() que nos devuelve la Correlacion de Pearson que indica la correlación lineal entre dos variables."
      ],
      "metadata": {
        "id": "A1V5GZ_BT-sB"
      }
    },
    {
      "cell_type": "code",
      "source": [
        "df.corr()"
      ],
      "metadata": {
        "colab": {
          "base_uri": "https://localhost:8080/",
          "height": 238
        },
        "id": "uIrZG5MqT-sC",
        "outputId": "733c32ef-9314-42b0-e6d5-6efbe0847bb1"
      },
      "execution_count": 38,
      "outputs": [
        {
          "output_type": "execute_result",
          "data": {
            "text/plain": [
              "              Genero  Producto  Calificacion  Default  Riesgo  Scoring\n",
              "Genero          1.00     -0.00         -0.00     0.00    0.01     0.01\n",
              "Producto       -0.00      1.00          0.32    -0.33   -0.27    -0.13\n",
              "Calificacion   -0.00      0.32          1.00    -0.89   -0.89    -0.62\n",
              "Default         0.00     -0.33         -0.89     1.00    0.87     0.41\n",
              "Riesgo          0.01     -0.27         -0.89     0.87    1.00     0.36\n",
              "Scoring         0.01     -0.13         -0.62     0.41    0.36     1.00"
            ],
            "text/html": [
              "\n",
              "  <div id=\"df-22e186f5-d91c-495c-b4e4-dbac4884dc2f\">\n",
              "    <div class=\"colab-df-container\">\n",
              "      <div>\n",
              "<style scoped>\n",
              "    .dataframe tbody tr th:only-of-type {\n",
              "        vertical-align: middle;\n",
              "    }\n",
              "\n",
              "    .dataframe tbody tr th {\n",
              "        vertical-align: top;\n",
              "    }\n",
              "\n",
              "    .dataframe thead th {\n",
              "        text-align: right;\n",
              "    }\n",
              "</style>\n",
              "<table border=\"1\" class=\"dataframe\">\n",
              "  <thead>\n",
              "    <tr style=\"text-align: right;\">\n",
              "      <th></th>\n",
              "      <th>Genero</th>\n",
              "      <th>Producto</th>\n",
              "      <th>Calificacion</th>\n",
              "      <th>Default</th>\n",
              "      <th>Riesgo</th>\n",
              "      <th>Scoring</th>\n",
              "    </tr>\n",
              "  </thead>\n",
              "  <tbody>\n",
              "    <tr>\n",
              "      <th>Genero</th>\n",
              "      <td>1.00</td>\n",
              "      <td>-0.00</td>\n",
              "      <td>-0.00</td>\n",
              "      <td>0.00</td>\n",
              "      <td>0.01</td>\n",
              "      <td>0.01</td>\n",
              "    </tr>\n",
              "    <tr>\n",
              "      <th>Producto</th>\n",
              "      <td>-0.00</td>\n",
              "      <td>1.00</td>\n",
              "      <td>0.32</td>\n",
              "      <td>-0.33</td>\n",
              "      <td>-0.27</td>\n",
              "      <td>-0.13</td>\n",
              "    </tr>\n",
              "    <tr>\n",
              "      <th>Calificacion</th>\n",
              "      <td>-0.00</td>\n",
              "      <td>0.32</td>\n",
              "      <td>1.00</td>\n",
              "      <td>-0.89</td>\n",
              "      <td>-0.89</td>\n",
              "      <td>-0.62</td>\n",
              "    </tr>\n",
              "    <tr>\n",
              "      <th>Default</th>\n",
              "      <td>0.00</td>\n",
              "      <td>-0.33</td>\n",
              "      <td>-0.89</td>\n",
              "      <td>1.00</td>\n",
              "      <td>0.87</td>\n",
              "      <td>0.41</td>\n",
              "    </tr>\n",
              "    <tr>\n",
              "      <th>Riesgo</th>\n",
              "      <td>0.01</td>\n",
              "      <td>-0.27</td>\n",
              "      <td>-0.89</td>\n",
              "      <td>0.87</td>\n",
              "      <td>1.00</td>\n",
              "      <td>0.36</td>\n",
              "    </tr>\n",
              "    <tr>\n",
              "      <th>Scoring</th>\n",
              "      <td>0.01</td>\n",
              "      <td>-0.13</td>\n",
              "      <td>-0.62</td>\n",
              "      <td>0.41</td>\n",
              "      <td>0.36</td>\n",
              "      <td>1.00</td>\n",
              "    </tr>\n",
              "  </tbody>\n",
              "</table>\n",
              "</div>\n",
              "      <button class=\"colab-df-convert\" onclick=\"convertToInteractive('df-22e186f5-d91c-495c-b4e4-dbac4884dc2f')\"\n",
              "              title=\"Convert this dataframe to an interactive table.\"\n",
              "              style=\"display:none;\">\n",
              "        \n",
              "  <svg xmlns=\"http://www.w3.org/2000/svg\" height=\"24px\"viewBox=\"0 0 24 24\"\n",
              "       width=\"24px\">\n",
              "    <path d=\"M0 0h24v24H0V0z\" fill=\"none\"/>\n",
              "    <path d=\"M18.56 5.44l.94 2.06.94-2.06 2.06-.94-2.06-.94-.94-2.06-.94 2.06-2.06.94zm-11 1L8.5 8.5l.94-2.06 2.06-.94-2.06-.94L8.5 2.5l-.94 2.06-2.06.94zm10 10l.94 2.06.94-2.06 2.06-.94-2.06-.94-.94-2.06-.94 2.06-2.06.94z\"/><path d=\"M17.41 7.96l-1.37-1.37c-.4-.4-.92-.59-1.43-.59-.52 0-1.04.2-1.43.59L10.3 9.45l-7.72 7.72c-.78.78-.78 2.05 0 2.83L4 21.41c.39.39.9.59 1.41.59.51 0 1.02-.2 1.41-.59l7.78-7.78 2.81-2.81c.8-.78.8-2.07 0-2.86zM5.41 20L4 18.59l7.72-7.72 1.47 1.35L5.41 20z\"/>\n",
              "  </svg>\n",
              "      </button>\n",
              "      \n",
              "  <style>\n",
              "    .colab-df-container {\n",
              "      display:flex;\n",
              "      flex-wrap:wrap;\n",
              "      gap: 12px;\n",
              "    }\n",
              "\n",
              "    .colab-df-convert {\n",
              "      background-color: #E8F0FE;\n",
              "      border: none;\n",
              "      border-radius: 50%;\n",
              "      cursor: pointer;\n",
              "      display: none;\n",
              "      fill: #1967D2;\n",
              "      height: 32px;\n",
              "      padding: 0 0 0 0;\n",
              "      width: 32px;\n",
              "    }\n",
              "\n",
              "    .colab-df-convert:hover {\n",
              "      background-color: #E2EBFA;\n",
              "      box-shadow: 0px 1px 2px rgba(60, 64, 67, 0.3), 0px 1px 3px 1px rgba(60, 64, 67, 0.15);\n",
              "      fill: #174EA6;\n",
              "    }\n",
              "\n",
              "    [theme=dark] .colab-df-convert {\n",
              "      background-color: #3B4455;\n",
              "      fill: #D2E3FC;\n",
              "    }\n",
              "\n",
              "    [theme=dark] .colab-df-convert:hover {\n",
              "      background-color: #434B5C;\n",
              "      box-shadow: 0px 1px 3px 1px rgba(0, 0, 0, 0.15);\n",
              "      filter: drop-shadow(0px 1px 2px rgba(0, 0, 0, 0.3));\n",
              "      fill: #FFFFFF;\n",
              "    }\n",
              "  </style>\n",
              "\n",
              "      <script>\n",
              "        const buttonEl =\n",
              "          document.querySelector('#df-22e186f5-d91c-495c-b4e4-dbac4884dc2f button.colab-df-convert');\n",
              "        buttonEl.style.display =\n",
              "          google.colab.kernel.accessAllowed ? 'block' : 'none';\n",
              "\n",
              "        async function convertToInteractive(key) {\n",
              "          const element = document.querySelector('#df-22e186f5-d91c-495c-b4e4-dbac4884dc2f');\n",
              "          const dataTable =\n",
              "            await google.colab.kernel.invokeFunction('convertToInteractive',\n",
              "                                                     [key], {});\n",
              "          if (!dataTable) return;\n",
              "\n",
              "          const docLinkHtml = 'Like what you see? Visit the ' +\n",
              "            '<a target=\"_blank\" href=https://colab.research.google.com/notebooks/data_table.ipynb>data table notebook</a>'\n",
              "            + ' to learn more about interactive tables.';\n",
              "          element.innerHTML = '';\n",
              "          dataTable['output_type'] = 'display_data';\n",
              "          await google.colab.output.renderOutput(dataTable, element);\n",
              "          const docLink = document.createElement('div');\n",
              "          docLink.innerHTML = docLinkHtml;\n",
              "          element.appendChild(docLink);\n",
              "        }\n",
              "      </script>\n",
              "    </div>\n",
              "  </div>\n",
              "  "
            ]
          },
          "metadata": {},
          "execution_count": 38
        }
      ]
    },
    {
      "cell_type": "code",
      "source": [
        "# correlacion entre variables predictoras y variable objetivo\n",
        "df.corr()[['Default']]"
      ],
      "metadata": {
        "colab": {
          "base_uri": "https://localhost:8080/",
          "height": 238
        },
        "id": "zaK6FQ--T-sC",
        "outputId": "e5988648-726d-484e-f43f-874bd98bf03e"
      },
      "execution_count": 39,
      "outputs": [
        {
          "output_type": "execute_result",
          "data": {
            "text/plain": [
              "              Default\n",
              "Genero           0.00\n",
              "Producto        -0.33\n",
              "Calificacion    -0.89\n",
              "Default          1.00\n",
              "Riesgo           0.87\n",
              "Scoring          0.41"
            ],
            "text/html": [
              "\n",
              "  <div id=\"df-12e944d6-f6b9-4c51-9237-dd2e0ddb271d\">\n",
              "    <div class=\"colab-df-container\">\n",
              "      <div>\n",
              "<style scoped>\n",
              "    .dataframe tbody tr th:only-of-type {\n",
              "        vertical-align: middle;\n",
              "    }\n",
              "\n",
              "    .dataframe tbody tr th {\n",
              "        vertical-align: top;\n",
              "    }\n",
              "\n",
              "    .dataframe thead th {\n",
              "        text-align: right;\n",
              "    }\n",
              "</style>\n",
              "<table border=\"1\" class=\"dataframe\">\n",
              "  <thead>\n",
              "    <tr style=\"text-align: right;\">\n",
              "      <th></th>\n",
              "      <th>Default</th>\n",
              "    </tr>\n",
              "  </thead>\n",
              "  <tbody>\n",
              "    <tr>\n",
              "      <th>Genero</th>\n",
              "      <td>0.00</td>\n",
              "    </tr>\n",
              "    <tr>\n",
              "      <th>Producto</th>\n",
              "      <td>-0.33</td>\n",
              "    </tr>\n",
              "    <tr>\n",
              "      <th>Calificacion</th>\n",
              "      <td>-0.89</td>\n",
              "    </tr>\n",
              "    <tr>\n",
              "      <th>Default</th>\n",
              "      <td>1.00</td>\n",
              "    </tr>\n",
              "    <tr>\n",
              "      <th>Riesgo</th>\n",
              "      <td>0.87</td>\n",
              "    </tr>\n",
              "    <tr>\n",
              "      <th>Scoring</th>\n",
              "      <td>0.41</td>\n",
              "    </tr>\n",
              "  </tbody>\n",
              "</table>\n",
              "</div>\n",
              "      <button class=\"colab-df-convert\" onclick=\"convertToInteractive('df-12e944d6-f6b9-4c51-9237-dd2e0ddb271d')\"\n",
              "              title=\"Convert this dataframe to an interactive table.\"\n",
              "              style=\"display:none;\">\n",
              "        \n",
              "  <svg xmlns=\"http://www.w3.org/2000/svg\" height=\"24px\"viewBox=\"0 0 24 24\"\n",
              "       width=\"24px\">\n",
              "    <path d=\"M0 0h24v24H0V0z\" fill=\"none\"/>\n",
              "    <path d=\"M18.56 5.44l.94 2.06.94-2.06 2.06-.94-2.06-.94-.94-2.06-.94 2.06-2.06.94zm-11 1L8.5 8.5l.94-2.06 2.06-.94-2.06-.94L8.5 2.5l-.94 2.06-2.06.94zm10 10l.94 2.06.94-2.06 2.06-.94-2.06-.94-.94-2.06-.94 2.06-2.06.94z\"/><path d=\"M17.41 7.96l-1.37-1.37c-.4-.4-.92-.59-1.43-.59-.52 0-1.04.2-1.43.59L10.3 9.45l-7.72 7.72c-.78.78-.78 2.05 0 2.83L4 21.41c.39.39.9.59 1.41.59.51 0 1.02-.2 1.41-.59l7.78-7.78 2.81-2.81c.8-.78.8-2.07 0-2.86zM5.41 20L4 18.59l7.72-7.72 1.47 1.35L5.41 20z\"/>\n",
              "  </svg>\n",
              "      </button>\n",
              "      \n",
              "  <style>\n",
              "    .colab-df-container {\n",
              "      display:flex;\n",
              "      flex-wrap:wrap;\n",
              "      gap: 12px;\n",
              "    }\n",
              "\n",
              "    .colab-df-convert {\n",
              "      background-color: #E8F0FE;\n",
              "      border: none;\n",
              "      border-radius: 50%;\n",
              "      cursor: pointer;\n",
              "      display: none;\n",
              "      fill: #1967D2;\n",
              "      height: 32px;\n",
              "      padding: 0 0 0 0;\n",
              "      width: 32px;\n",
              "    }\n",
              "\n",
              "    .colab-df-convert:hover {\n",
              "      background-color: #E2EBFA;\n",
              "      box-shadow: 0px 1px 2px rgba(60, 64, 67, 0.3), 0px 1px 3px 1px rgba(60, 64, 67, 0.15);\n",
              "      fill: #174EA6;\n",
              "    }\n",
              "\n",
              "    [theme=dark] .colab-df-convert {\n",
              "      background-color: #3B4455;\n",
              "      fill: #D2E3FC;\n",
              "    }\n",
              "\n",
              "    [theme=dark] .colab-df-convert:hover {\n",
              "      background-color: #434B5C;\n",
              "      box-shadow: 0px 1px 3px 1px rgba(0, 0, 0, 0.15);\n",
              "      filter: drop-shadow(0px 1px 2px rgba(0, 0, 0, 0.3));\n",
              "      fill: #FFFFFF;\n",
              "    }\n",
              "  </style>\n",
              "\n",
              "      <script>\n",
              "        const buttonEl =\n",
              "          document.querySelector('#df-12e944d6-f6b9-4c51-9237-dd2e0ddb271d button.colab-df-convert');\n",
              "        buttonEl.style.display =\n",
              "          google.colab.kernel.accessAllowed ? 'block' : 'none';\n",
              "\n",
              "        async function convertToInteractive(key) {\n",
              "          const element = document.querySelector('#df-12e944d6-f6b9-4c51-9237-dd2e0ddb271d');\n",
              "          const dataTable =\n",
              "            await google.colab.kernel.invokeFunction('convertToInteractive',\n",
              "                                                     [key], {});\n",
              "          if (!dataTable) return;\n",
              "\n",
              "          const docLinkHtml = 'Like what you see? Visit the ' +\n",
              "            '<a target=\"_blank\" href=https://colab.research.google.com/notebooks/data_table.ipynb>data table notebook</a>'\n",
              "            + ' to learn more about interactive tables.';\n",
              "          element.innerHTML = '';\n",
              "          dataTable['output_type'] = 'display_data';\n",
              "          await google.colab.output.renderOutput(dataTable, element);\n",
              "          const docLink = document.createElement('div');\n",
              "          docLink.innerHTML = docLinkHtml;\n",
              "          element.appendChild(docLink);\n",
              "        }\n",
              "      </script>\n",
              "    </div>\n",
              "  </div>\n",
              "  "
            ]
          },
          "metadata": {},
          "execution_count": 39
        }
      ]
    },
    {
      "cell_type": "code",
      "source": [
        "df.corr()[['Calificacion']]"
      ],
      "metadata": {
        "colab": {
          "base_uri": "https://localhost:8080/",
          "height": 238
        },
        "id": "fU35yQ-H_bwe",
        "outputId": "1910b85f-ebb3-4499-e199-9f278473f149"
      },
      "execution_count": 40,
      "outputs": [
        {
          "output_type": "execute_result",
          "data": {
            "text/plain": [
              "              Calificacion\n",
              "Genero               -0.00\n",
              "Producto              0.32\n",
              "Calificacion          1.00\n",
              "Default              -0.89\n",
              "Riesgo               -0.89\n",
              "Scoring              -0.62"
            ],
            "text/html": [
              "\n",
              "  <div id=\"df-1fb61b4f-a94e-4c96-ba15-29e656259e8e\">\n",
              "    <div class=\"colab-df-container\">\n",
              "      <div>\n",
              "<style scoped>\n",
              "    .dataframe tbody tr th:only-of-type {\n",
              "        vertical-align: middle;\n",
              "    }\n",
              "\n",
              "    .dataframe tbody tr th {\n",
              "        vertical-align: top;\n",
              "    }\n",
              "\n",
              "    .dataframe thead th {\n",
              "        text-align: right;\n",
              "    }\n",
              "</style>\n",
              "<table border=\"1\" class=\"dataframe\">\n",
              "  <thead>\n",
              "    <tr style=\"text-align: right;\">\n",
              "      <th></th>\n",
              "      <th>Calificacion</th>\n",
              "    </tr>\n",
              "  </thead>\n",
              "  <tbody>\n",
              "    <tr>\n",
              "      <th>Genero</th>\n",
              "      <td>-0.00</td>\n",
              "    </tr>\n",
              "    <tr>\n",
              "      <th>Producto</th>\n",
              "      <td>0.32</td>\n",
              "    </tr>\n",
              "    <tr>\n",
              "      <th>Calificacion</th>\n",
              "      <td>1.00</td>\n",
              "    </tr>\n",
              "    <tr>\n",
              "      <th>Default</th>\n",
              "      <td>-0.89</td>\n",
              "    </tr>\n",
              "    <tr>\n",
              "      <th>Riesgo</th>\n",
              "      <td>-0.89</td>\n",
              "    </tr>\n",
              "    <tr>\n",
              "      <th>Scoring</th>\n",
              "      <td>-0.62</td>\n",
              "    </tr>\n",
              "  </tbody>\n",
              "</table>\n",
              "</div>\n",
              "      <button class=\"colab-df-convert\" onclick=\"convertToInteractive('df-1fb61b4f-a94e-4c96-ba15-29e656259e8e')\"\n",
              "              title=\"Convert this dataframe to an interactive table.\"\n",
              "              style=\"display:none;\">\n",
              "        \n",
              "  <svg xmlns=\"http://www.w3.org/2000/svg\" height=\"24px\"viewBox=\"0 0 24 24\"\n",
              "       width=\"24px\">\n",
              "    <path d=\"M0 0h24v24H0V0z\" fill=\"none\"/>\n",
              "    <path d=\"M18.56 5.44l.94 2.06.94-2.06 2.06-.94-2.06-.94-.94-2.06-.94 2.06-2.06.94zm-11 1L8.5 8.5l.94-2.06 2.06-.94-2.06-.94L8.5 2.5l-.94 2.06-2.06.94zm10 10l.94 2.06.94-2.06 2.06-.94-2.06-.94-.94-2.06-.94 2.06-2.06.94z\"/><path d=\"M17.41 7.96l-1.37-1.37c-.4-.4-.92-.59-1.43-.59-.52 0-1.04.2-1.43.59L10.3 9.45l-7.72 7.72c-.78.78-.78 2.05 0 2.83L4 21.41c.39.39.9.59 1.41.59.51 0 1.02-.2 1.41-.59l7.78-7.78 2.81-2.81c.8-.78.8-2.07 0-2.86zM5.41 20L4 18.59l7.72-7.72 1.47 1.35L5.41 20z\"/>\n",
              "  </svg>\n",
              "      </button>\n",
              "      \n",
              "  <style>\n",
              "    .colab-df-container {\n",
              "      display:flex;\n",
              "      flex-wrap:wrap;\n",
              "      gap: 12px;\n",
              "    }\n",
              "\n",
              "    .colab-df-convert {\n",
              "      background-color: #E8F0FE;\n",
              "      border: none;\n",
              "      border-radius: 50%;\n",
              "      cursor: pointer;\n",
              "      display: none;\n",
              "      fill: #1967D2;\n",
              "      height: 32px;\n",
              "      padding: 0 0 0 0;\n",
              "      width: 32px;\n",
              "    }\n",
              "\n",
              "    .colab-df-convert:hover {\n",
              "      background-color: #E2EBFA;\n",
              "      box-shadow: 0px 1px 2px rgba(60, 64, 67, 0.3), 0px 1px 3px 1px rgba(60, 64, 67, 0.15);\n",
              "      fill: #174EA6;\n",
              "    }\n",
              "\n",
              "    [theme=dark] .colab-df-convert {\n",
              "      background-color: #3B4455;\n",
              "      fill: #D2E3FC;\n",
              "    }\n",
              "\n",
              "    [theme=dark] .colab-df-convert:hover {\n",
              "      background-color: #434B5C;\n",
              "      box-shadow: 0px 1px 3px 1px rgba(0, 0, 0, 0.15);\n",
              "      filter: drop-shadow(0px 1px 2px rgba(0, 0, 0, 0.3));\n",
              "      fill: #FFFFFF;\n",
              "    }\n",
              "  </style>\n",
              "\n",
              "      <script>\n",
              "        const buttonEl =\n",
              "          document.querySelector('#df-1fb61b4f-a94e-4c96-ba15-29e656259e8e button.colab-df-convert');\n",
              "        buttonEl.style.display =\n",
              "          google.colab.kernel.accessAllowed ? 'block' : 'none';\n",
              "\n",
              "        async function convertToInteractive(key) {\n",
              "          const element = document.querySelector('#df-1fb61b4f-a94e-4c96-ba15-29e656259e8e');\n",
              "          const dataTable =\n",
              "            await google.colab.kernel.invokeFunction('convertToInteractive',\n",
              "                                                     [key], {});\n",
              "          if (!dataTable) return;\n",
              "\n",
              "          const docLinkHtml = 'Like what you see? Visit the ' +\n",
              "            '<a target=\"_blank\" href=https://colab.research.google.com/notebooks/data_table.ipynb>data table notebook</a>'\n",
              "            + ' to learn more about interactive tables.';\n",
              "          element.innerHTML = '';\n",
              "          dataTable['output_type'] = 'display_data';\n",
              "          await google.colab.output.renderOutput(dataTable, element);\n",
              "          const docLink = document.createElement('div');\n",
              "          docLink.innerHTML = docLinkHtml;\n",
              "          element.appendChild(docLink);\n",
              "        }\n",
              "      </script>\n",
              "    </div>\n",
              "  </div>\n",
              "  "
            ]
          },
          "metadata": {},
          "execution_count": 40
        }
      ]
    },
    {
      "cell_type": "code",
      "source": [
        "# mostrar correlacion entre variables en mapa de calor\n",
        "corr_mat = df.corr(method=\"pearson\")\n",
        "corr_mat.style.background_gradient(cmap='coolwarm')"
      ],
      "metadata": {
        "colab": {
          "base_uri": "https://localhost:8080/",
          "height": 238
        },
        "id": "qM3dxH48T-sC",
        "outputId": "5ed9aece-00f7-44db-c644-fe44db6c101c"
      },
      "execution_count": 41,
      "outputs": [
        {
          "output_type": "execute_result",
          "data": {
            "text/plain": [
              "<pandas.io.formats.style.Styler at 0x7fe25bb26790>"
            ],
            "text/html": [
              "<style type=\"text/css\">\n",
              "#T_f0107_row0_col0, #T_f0107_row1_col1, #T_f0107_row2_col2, #T_f0107_row3_col3, #T_f0107_row4_col4, #T_f0107_row5_col5 {\n",
              "  background-color: #b40426;\n",
              "  color: #f1f1f1;\n",
              "}\n",
              "#T_f0107_row0_col1 {\n",
              "  background-color: #8caffe;\n",
              "  color: #000000;\n",
              "}\n",
              "#T_f0107_row0_col2, #T_f0107_row0_col3 {\n",
              "  background-color: #d5dbe5;\n",
              "  color: #000000;\n",
              "}\n",
              "#T_f0107_row0_col4 {\n",
              "  background-color: #d6dce4;\n",
              "  color: #000000;\n",
              "}\n",
              "#T_f0107_row0_col5 {\n",
              "  background-color: #bbd1f8;\n",
              "  color: #000000;\n",
              "}\n",
              "#T_f0107_row1_col0, #T_f0107_row2_col0, #T_f0107_row2_col3, #T_f0107_row2_col4, #T_f0107_row2_col5, #T_f0107_row3_col1, #T_f0107_row3_col2, #T_f0107_row4_col2 {\n",
              "  background-color: #3b4cc0;\n",
              "  color: #f1f1f1;\n",
              "}\n",
              "#T_f0107_row1_col2 {\n",
              "  background-color: #f5c0a7;\n",
              "  color: #000000;\n",
              "}\n",
              "#T_f0107_row1_col3 {\n",
              "  background-color: #9bbcff;\n",
              "  color: #000000;\n",
              "}\n",
              "#T_f0107_row1_col4 {\n",
              "  background-color: #a7c5fe;\n",
              "  color: #000000;\n",
              "}\n",
              "#T_f0107_row1_col5 {\n",
              "  background-color: #9fbfff;\n",
              "  color: #000000;\n",
              "}\n",
              "#T_f0107_row2_col1 {\n",
              "  background-color: #d9dce1;\n",
              "  color: #000000;\n",
              "}\n",
              "#T_f0107_row3_col0 {\n",
              "  background-color: #3c4ec2;\n",
              "  color: #f1f1f1;\n",
              "}\n",
              "#T_f0107_row3_col4, #T_f0107_row4_col3 {\n",
              "  background-color: #cc403a;\n",
              "  color: #f1f1f1;\n",
              "}\n",
              "#T_f0107_row3_col5 {\n",
              "  background-color: #f5c1a9;\n",
              "  color: #000000;\n",
              "}\n",
              "#T_f0107_row4_col0, #T_f0107_row5_col0 {\n",
              "  background-color: #3d50c3;\n",
              "  color: #f1f1f1;\n",
              "}\n",
              "#T_f0107_row4_col1 {\n",
              "  background-color: #485fd1;\n",
              "  color: #f1f1f1;\n",
              "}\n",
              "#T_f0107_row4_col5 {\n",
              "  background-color: #f2cab5;\n",
              "  color: #000000;\n",
              "}\n",
              "#T_f0107_row5_col1 {\n",
              "  background-color: #6c8ff1;\n",
              "  color: #f1f1f1;\n",
              "}\n",
              "#T_f0107_row5_col2 {\n",
              "  background-color: #688aef;\n",
              "  color: #f1f1f1;\n",
              "}\n",
              "#T_f0107_row5_col3 {\n",
              "  background-color: #f7b194;\n",
              "  color: #000000;\n",
              "}\n",
              "#T_f0107_row5_col4 {\n",
              "  background-color: #f7b99e;\n",
              "  color: #000000;\n",
              "}\n",
              "</style>\n",
              "<table id=\"T_f0107_\" class=\"dataframe\">\n",
              "  <thead>\n",
              "    <tr>\n",
              "      <th class=\"blank level0\" >&nbsp;</th>\n",
              "      <th class=\"col_heading level0 col0\" >Genero</th>\n",
              "      <th class=\"col_heading level0 col1\" >Producto</th>\n",
              "      <th class=\"col_heading level0 col2\" >Calificacion</th>\n",
              "      <th class=\"col_heading level0 col3\" >Default</th>\n",
              "      <th class=\"col_heading level0 col4\" >Riesgo</th>\n",
              "      <th class=\"col_heading level0 col5\" >Scoring</th>\n",
              "    </tr>\n",
              "  </thead>\n",
              "  <tbody>\n",
              "    <tr>\n",
              "      <th id=\"T_f0107_level0_row0\" class=\"row_heading level0 row0\" >Genero</th>\n",
              "      <td id=\"T_f0107_row0_col0\" class=\"data row0 col0\" >1.000000</td>\n",
              "      <td id=\"T_f0107_row0_col1\" class=\"data row0 col1\" >-0.003962</td>\n",
              "      <td id=\"T_f0107_row0_col2\" class=\"data row0 col2\" >-0.001665</td>\n",
              "      <td id=\"T_f0107_row0_col3\" class=\"data row0 col3\" >0.001847</td>\n",
              "      <td id=\"T_f0107_row0_col4\" class=\"data row0 col4\" >0.005420</td>\n",
              "      <td id=\"T_f0107_row0_col5\" class=\"data row0 col5\" >0.006460</td>\n",
              "    </tr>\n",
              "    <tr>\n",
              "      <th id=\"T_f0107_level0_row1\" class=\"row_heading level0 row1\" >Producto</th>\n",
              "      <td id=\"T_f0107_row1_col0\" class=\"data row1 col0\" >-0.003962</td>\n",
              "      <td id=\"T_f0107_row1_col1\" class=\"data row1 col1\" >1.000000</td>\n",
              "      <td id=\"T_f0107_row1_col2\" class=\"data row1 col2\" >0.315769</td>\n",
              "      <td id=\"T_f0107_row1_col3\" class=\"data row1 col3\" >-0.333835</td>\n",
              "      <td id=\"T_f0107_row1_col4\" class=\"data row1 col4\" >-0.274232</td>\n",
              "      <td id=\"T_f0107_row1_col5\" class=\"data row1 col5\" >-0.125362</td>\n",
              "    </tr>\n",
              "    <tr>\n",
              "      <th id=\"T_f0107_level0_row2\" class=\"row_heading level0 row2\" >Calificacion</th>\n",
              "      <td id=\"T_f0107_row2_col0\" class=\"data row2 col0\" >-0.001665</td>\n",
              "      <td id=\"T_f0107_row2_col1\" class=\"data row2 col1\" >0.315769</td>\n",
              "      <td id=\"T_f0107_row2_col2\" class=\"data row2 col2\" >1.000000</td>\n",
              "      <td id=\"T_f0107_row2_col3\" class=\"data row2 col3\" >-0.886189</td>\n",
              "      <td id=\"T_f0107_row2_col4\" class=\"data row2 col4\" >-0.891850</td>\n",
              "      <td id=\"T_f0107_row2_col5\" class=\"data row2 col5\" >-0.616790</td>\n",
              "    </tr>\n",
              "    <tr>\n",
              "      <th id=\"T_f0107_level0_row3\" class=\"row_heading level0 row3\" >Default</th>\n",
              "      <td id=\"T_f0107_row3_col0\" class=\"data row3 col0\" >0.001847</td>\n",
              "      <td id=\"T_f0107_row3_col1\" class=\"data row3 col1\" >-0.333835</td>\n",
              "      <td id=\"T_f0107_row3_col2\" class=\"data row3 col2\" >-0.886189</td>\n",
              "      <td id=\"T_f0107_row3_col3\" class=\"data row3 col3\" >1.000000</td>\n",
              "      <td id=\"T_f0107_row3_col4\" class=\"data row3 col4\" >0.870751</td>\n",
              "      <td id=\"T_f0107_row3_col5\" class=\"data row3 col5\" >0.408114</td>\n",
              "    </tr>\n",
              "    <tr>\n",
              "      <th id=\"T_f0107_level0_row4\" class=\"row_heading level0 row4\" >Riesgo</th>\n",
              "      <td id=\"T_f0107_row4_col0\" class=\"data row4 col0\" >0.005420</td>\n",
              "      <td id=\"T_f0107_row4_col1\" class=\"data row4 col1\" >-0.274232</td>\n",
              "      <td id=\"T_f0107_row4_col2\" class=\"data row4 col2\" >-0.891850</td>\n",
              "      <td id=\"T_f0107_row4_col3\" class=\"data row4 col3\" >0.870751</td>\n",
              "      <td id=\"T_f0107_row4_col4\" class=\"data row4 col4\" >1.000000</td>\n",
              "      <td id=\"T_f0107_row4_col5\" class=\"data row4 col5\" >0.357371</td>\n",
              "    </tr>\n",
              "    <tr>\n",
              "      <th id=\"T_f0107_level0_row5\" class=\"row_heading level0 row5\" >Scoring</th>\n",
              "      <td id=\"T_f0107_row5_col0\" class=\"data row5 col0\" >0.006460</td>\n",
              "      <td id=\"T_f0107_row5_col1\" class=\"data row5 col1\" >-0.125362</td>\n",
              "      <td id=\"T_f0107_row5_col2\" class=\"data row5 col2\" >-0.616790</td>\n",
              "      <td id=\"T_f0107_row5_col3\" class=\"data row5 col3\" >0.408114</td>\n",
              "      <td id=\"T_f0107_row5_col4\" class=\"data row5 col4\" >0.357371</td>\n",
              "      <td id=\"T_f0107_row5_col5\" class=\"data row5 col5\" >1.000000</td>\n",
              "    </tr>\n",
              "  </tbody>\n",
              "</table>\n"
            ]
          },
          "metadata": {},
          "execution_count": 41
        }
      ]
    },
    {
      "cell_type": "code",
      "source": [
        "plt.figure(figsize=(10,8))\n",
        "sns.heatmap(corr_mat, annot=True)\n",
        "plt.title(\"Matriz de correlación\")\n",
        "plt.show()"
      ],
      "metadata": {
        "colab": {
          "base_uri": "https://localhost:8080/",
          "height": 499
        },
        "id": "3TWSxuqIJMgy",
        "outputId": "cd2be83b-53eb-483d-91e2-a7a782aea789"
      },
      "execution_count": 42,
      "outputs": [
        {
          "output_type": "display_data",
          "data": {
            "text/plain": [
              "<Figure size 720x576 with 2 Axes>"
            ],
            "image/png": "[encoded data removed]"
          },
          "metadata": {
            "needs_background": "light"
          }
        }
      ]
    },
    {
      "cell_type": "markdown",
      "source": [
        "### **4) - EXPLICACION DE LAS VARIABLES A PREDECIR**\n",
        "\n",
        "El objetivo principal de este trabajo es implementar un Modelo de Análisis Predictivo que permita estimar las probabilidades de incumplimiento del cliente y contribuir a reducir los niveles de riesgo de crédito a través de la calificación crediticia de los clientes.\n",
        "\n",
        "Para ello se desea realizar dos evaluaciones en el modelo:\n",
        "\n",
        "* 1 – Medir la viabilidad de otorgamiento del crédito, es decir, determinar si es VIABLE (no deudor) / NO VIABLE (deudor). \n",
        "\n",
        "* 2-  Obtener una calificación de riesgo como resultado de la comparativa entre: Historial Endeudamiento (BCRA) + Score + Calificación + Default (Obtenida En El Punto 1)\n",
        "\n",
        "![variables de analisis II.jpg](data:image/jpeg;base64,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)\n"
      ],
      "metadata": {
        "id": "d4KcTJIQNL-e"
      }
    },
    {
      "cell_type": "markdown",
      "source": [
        "### **5) - ANALISIS DE LA VARIABLE TARGET: \"DEFAULT\"**\n",
        "\n",
        "En esta primera etapa, realizamos el analisis de Viabilidad, a fin de determinar si una persona es morosa o no.\n",
        "\n",
        "![default.jpg](data:image/jpeg;base64,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)\n",
        "\n",
        "Para este analisis utilizamos como:\n",
        "\n",
        "*  **Variables Predictoras (X):**  a las columnas: **'Genero','Producto','Calificacion','Scoring'** \n",
        "\n",
        "*  **Variable Dependiente (Y):**  a la columna: **'Default'**"
      ],
      "metadata": {
        "id": "dikwUH5v3EGX"
      }
    },
    {
      "cell_type": "markdown",
      "source": [
        "### **6) - DETALLE DE LOS MODELOS A APLICAR**\n",
        "\n",
        "---\n",
        "\n",
        "Utilizaremos modelos de clasificación y regresion. En específico se seleccionan:\n",
        "\n",
        "    9.1. Regresion Logistica\n",
        "    9.2. Arbol de Decision\n",
        "    9.3. Random Forest\n",
        "    9.4. KNN\n",
        "    9.5. Red Neuronal\n",
        "\n",
        "* La **Regresion Logistica** es un tipo de análisis de regresión utilizado para predecir el resultado de una variable categórica en función de las variables independientes o predictoras.\n",
        "\n",
        "* Los **Arboles de Decisión** son modelos predictivos formados por reglas binarias (si/no) con las que se consigue repartir las observaciones en función de sus atributos y predecir así el valor de la variable respuesta.\n",
        "\n",
        "* El modelo **Random Forest** es una combinación de árboles predictores tal que cada árbol depende de los valores de un vector aleatorio probado independientemente y con la misma distribución para cada uno de estos.\n",
        "\n",
        "* El algoritmo **KNN** es un clasificador de aprendizaje supervisado no paramétrico, que utiliza la proximidad para hacer clasificaciones o predicciones sobre la agrupación de un punto de datos individual.\n",
        "\n",
        "* Una **Red Neuronal** está compuesta por un conjunto de neuronas interconectadas entre sí mediante enlaces. Cada neurona toma como entradas las salidas de las neuronas de las capas antecesoras, cada una de esas entradas se multiplica por un peso, se agregan los resultados parciales y mediante una función de activación se calcula la salida. Esta salida es a su vez es entrada de la neurona a la que precede."
      ],
      "metadata": {
        "id": "_zytDJDm8QrT"
      }
    },
    {
      "cell_type": "markdown",
      "source": [
        "### **7) - ENTRENAMIENTO DEL MODELO**\n",
        "\n",
        "La etapa de entrenamiento de un modelo es muy importante, ya que es ahí donde el sistema aprende los patrones que están presentes en los datos, para ello, se dividen los datos aleatoriamente donde una parte se utiliza para la creación del modelo y otra para la comprobación de calidad de este. Esta división se conoce como datos de prueba y datos de entrenamiento. \n",
        "\n",
        "En este caso, el 70% de los datos se ha utilizado para entrenar el modelo y el 30% restante como datos de prueba."
      ],
      "metadata": {
        "id": "PVsiQ6_y9m0Q"
      }
    },
    {
      "cell_type": "markdown",
      "metadata": {
        "id": "s-Bx9u7wZPGv"
      },
      "source": [
        "**Feature Selection** \n",
        "\n",
        "Definición de las variables de entrada (Features) y variable objetivo (Target)"
      ]
    },
    {
      "cell_type": "code",
      "execution_count": 44,
      "metadata": {
        "id": "RVOVV9o7ZT_e"
      },
      "outputs": [],
      "source": [
        "from sklearn.preprocessing import StandardScaler\n",
        "from sklearn.model_selection import train_test_split\n",
        "\n",
        "sc = StandardScaler()\n",
        "X = df[['Genero','Producto','Calificacion','Scoring']].values\n",
        "X = sc.fit_transform(X)\n",
        "y = df['Default'].values"
      ]
    },
    {
      "cell_type": "code",
      "execution_count": 45,
      "metadata": {
        "id": "FuFZ-ILfTXd3"
      },
      "outputs": [],
      "source": [
        "# Dividir los datos en conjuntos de entrenamiento y prueba\n",
        "X_train, X_test, y_train , y_test = train_test_split(X,y, test_size=0.3, random_state=1)"
      ]
    },
    {
      "cell_type": "code",
      "execution_count": 46,
      "metadata": {
        "colab": {
          "base_uri": "https://localhost:8080/"
        },
        "id": "i7QMCtprnNUM",
        "outputId": "44d90181-fe1a-4668-888d-4b4dbf397352"
      },
      "outputs": [
        {
          "output_type": "stream",
          "name": "stdout",
          "text": [
            "Number transactions train dataset:  33279\n",
            "Number transactions test dataset:  14263\n",
            "Total number of transactions:  47542\n"
          ]
        }
      ],
      "source": [
        "print(\"Number transactions train dataset: \", len(X_train))\n",
        "print(\"Number transactions test dataset: \", len(X_test))\n",
        "print(\"Total number of transactions: \", len(X_train)+len(X_test))"
      ]
    },
    {
      "cell_type": "code",
      "execution_count": 47,
      "metadata": {
        "id": "VbT9NvSWZgyj"
      },
      "outputs": [],
      "source": [
        "def model(classifier):\n",
        "    \n",
        "    classifier.fit(X_train,y_train)\n",
        "    prediction = classifier.predict(X_test)\n",
        "    print(\"ACCURACY : \",'{0:.2%}'.format(accuracy_score(y_test,prediction))) \n",
        "    print(\"CROSS VALIDATION SCORE : \",'{0:.2%}'.format(cross_val_score(classifier,X_train,y_train,cv = 10,scoring = 'accuracy').mean()))\n",
        "    print(\"ROC_AUC SCORE : \",'{0:.2%}'.format(roc_auc_score(y_test,prediction)))\n",
        "    plot_roc_curve(classifier, X_test,y_test)\n",
        "    plt.title('ROC_AUC_PLOT')\n",
        "    plt.show()"
      ]
    },
    {
      "cell_type": "code",
      "execution_count": 48,
      "metadata": {
        "id": "-6MpkncJaC5M"
      },
      "outputs": [],
      "source": [
        "def model_evaluation(classifier):\n",
        "    \n",
        "    # CONFUSION MATRIX\n",
        "    cm = confusion_matrix(y_test,classifier.predict(X_test))\n",
        "    names = ['True Neg','False Pos','False Neg','True Pos']\n",
        "    counts = [value for value in cm.flatten()]\n",
        "    percentages = ['{0:.2%}'.format(value) for value in cm.flatten()/np.sum(cm)]\n",
        "    labels = [f'{v1}\\n{v2}\\n{v3}' for v1, v2, v3 in zip(names,counts,percentages)]\n",
        "    labels = np.asarray(labels).reshape(2,2)\n",
        "    sns.heatmap(cm,annot = labels,cmap = 'Blues',fmt ='')\n",
        "    \n",
        "    tn,fp,fn,tp = cm.flatten()\n",
        "    \n",
        "    # PRECISION\n",
        "    print('PRECISION : ','{0:.2%}'.format(tp/(tp + fp)))\n",
        "    \n",
        "    # RECALL\n",
        "    print('RECALL : ','{0:.2%}'.format(tp/(tp + fn)))"
      ]
    },
    {
      "cell_type": "code",
      "execution_count": 49,
      "metadata": {
        "id": "CB54RXDnaOZn"
      },
      "outputs": [],
      "source": [
        "def grid_search_cv(classifier,hyperparameters):\n",
        "    \n",
        "    GSCV = GridSearchCV(classifier,hyperparameters,cv = 10)\n",
        "    model = GSCV.fit(X_test,y_test)\n",
        "    print(model)\n",
        "    print('HIGHEST ACCURACY : ','{0:.2%}'.format(model.best_score_))\n",
        "    print('BEST PARAMETERS : ',model.best_params_)"
      ]
    },
    {
      "cell_type": "markdown",
      "metadata": {
        "id": "PU0zZmVjalUT"
      },
      "source": [
        "**Logistic Regression**"
      ]
    },
    {
      "cell_type": "code",
      "execution_count": 50,
      "metadata": {
        "id": "OOnyY1W1aUre"
      },
      "outputs": [],
      "source": [
        "from sklearn.linear_model import LogisticRegression"
      ]
    },
    {
      "cell_type": "code",
      "execution_count": 51,
      "metadata": {
        "id": "e1d6UK6LaYBP"
      },
      "outputs": [],
      "source": [
        "classifier_lr = LogisticRegression(random_state = 0,C=10,penalty= 'l2') "
      ]
    },
    {
      "cell_type": "code",
      "execution_count": 52,
      "metadata": {
        "colab": {
          "base_uri": "https://localhost:8080/",
          "height": 347
        },
        "id": "ZrHYz1wEabDq",
        "outputId": "381914ee-db8b-4fee-ed50-4c07c09bee7c"
      },
      "outputs": [
        {
          "output_type": "stream",
          "name": "stdout",
          "text": [
            "ACCURACY :  100.00%\n",
            "CROSS VALIDATION SCORE :  100.00%\n",
            "ROC_AUC SCORE :  100.00%\n"
          ]
        },
        {
          "output_type": "display_data",
          "data": {
            "text/plain": [
              "<Figure size 432x288 with 1 Axes>"
            ],
            "image/png": "[encoded data removed]"
          },
          "metadata": {
            "needs_background": "light"
          }
        }
      ],
      "source": [
        "model(classifier_lr)"
      ]
    },
    {
      "cell_type": "code",
      "execution_count": 53,
      "metadata": {
        "colab": {
          "base_uri": "https://localhost:8080/",
          "height": 300
        },
        "id": "gJyY7ylFadNu",
        "outputId": "c8ba4cbf-7c2d-4c06-ba13-b31ba5bfd24d"
      },
      "outputs": [
        {
          "output_type": "stream",
          "name": "stdout",
          "text": [
            "PRECISION :  100.00%\n",
            "RECALL :  100.00%\n"
          ]
        },
        {
          "output_type": "display_data",
          "data": {
            "text/plain": [
              "<Figure size 432x288 with 2 Axes>"
            ],
            "image/png": "[encoded data removed]"
          },
          "metadata": {
            "needs_background": "light"
          }
        }
      ],
      "source": [
        "model_evaluation(classifier_lr)"
      ]
    },
    {
      "cell_type": "markdown",
      "metadata": {
        "id": "pxYaKju7anoK"
      },
      "source": [
        "**Decision Tree**"
      ]
    },
    {
      "cell_type": "code",
      "execution_count": 54,
      "metadata": {
        "id": "O0KC8cbEasm-"
      },
      "outputs": [],
      "source": [
        "from sklearn.tree import DecisionTreeClassifier"
      ]
    },
    {
      "cell_type": "code",
      "execution_count": 55,
      "metadata": {
        "id": "6Tl9CT-HaxYy"
      },
      "outputs": [],
      "source": [
        "classifier_dt = DecisionTreeClassifier(criterion = 'entropy')"
      ]
    },
    {
      "cell_type": "code",
      "execution_count": 56,
      "metadata": {
        "colab": {
          "base_uri": "https://localhost:8080/",
          "height": 347
        },
        "id": "X1tuUcfYa13o",
        "outputId": "9026aea2-0760-4944-dafd-156c472c7acf"
      },
      "outputs": [
        {
          "output_type": "stream",
          "name": "stdout",
          "text": [
            "ACCURACY :  100.00%\n",
            "CROSS VALIDATION SCORE :  100.00%\n",
            "ROC_AUC SCORE :  100.00%\n"
          ]
        },
        {
          "output_type": "display_data",
          "data": {
            "text/plain": [
              "<Figure size 432x288 with 1 Axes>"
            ],
            "image/png": "[encoded data removed]"
          },
          "metadata": {
            "needs_background": "light"
          }
        }
      ],
      "source": [
        "model(classifier_dt)"
      ]
    },
    {
      "cell_type": "code",
      "execution_count": 57,
      "metadata": {
        "colab": {
          "base_uri": "https://localhost:8080/",
          "height": 300
        },
        "id": "_VjOmG1ra2xu",
        "outputId": "cfb5002f-8875-4f19-90a7-79042b525d62"
      },
      "outputs": [
        {
          "output_type": "stream",
          "name": "stdout",
          "text": [
            "PRECISION :  100.00%\n",
            "RECALL :  100.00%\n"
          ]
        },
        {
          "output_type": "display_data",
          "data": {
            "text/plain": [
              "<Figure size 432x288 with 2 Axes>"
            ],
            "image/png": "[encoded data removed]"
          },
          "metadata": {
            "needs_background": "light"
          }
        }
      ],
      "source": [
        "model_evaluation(classifier_dt)"
      ]
    },
    {
      "cell_type": "markdown",
      "metadata": {
        "id": "90Mci0KBTohw"
      },
      "source": [
        "**Visualization Decision Tree**"
      ]
    },
    {
      "cell_type": "code",
      "execution_count": 58,
      "metadata": {
        "id": "DpJjgrl7TntW"
      },
      "outputs": [],
      "source": [
        "from sklearn import tree"
      ]
    },
    {
      "cell_type": "code",
      "execution_count": 59,
      "metadata": {
        "colab": {
          "base_uri": "https://localhost:8080/"
        },
        "id": "44-NEkm_T0EI",
        "outputId": "bbeded32-fe8d-4324-feb1-3d98b6d4b30a"
      },
      "outputs": [
        {
          "output_type": "stream",
          "name": "stdout",
          "text": [
            "|--- feature_2 <= -0.25\n",
            "|   |--- class: 1\n",
            "|--- feature_2 >  -0.25\n",
            "|   |--- class: 0\n",
            "\n"
          ]
        }
      ],
      "source": [
        "text_representation = tree.export_text (classifier_dt)\n",
        "print (text_representation)"
      ]
    },
    {
      "cell_type": "code",
      "execution_count": 60,
      "metadata": {
        "id": "dVOimz2UT_4y"
      },
      "outputs": [],
      "source": [
        "with open (\"description_tree.log\", \"w\") as fout:\n",
        "    fout.write(text_representation)"
      ]
    },
    {
      "cell_type": "markdown",
      "metadata": {
        "id": "kIRDQBKsUMse"
      },
      "source": [
        "**Plot Tree with plot_tree**"
      ]
    },
    {
      "cell_type": "code",
      "execution_count": 62,
      "metadata": {
        "colab": {
          "base_uri": "https://localhost:8080/",
          "height": 411
        },
        "id": "2LtmjFoKURz3",
        "outputId": "52af63c8-5b3d-4e5f-935a-43c20e7762ca"
      },
      "outputs": [
        {
          "output_type": "display_data",
          "data": {
            "text/plain": [
              "<Figure size 504x504 with 1 Axes>"
            ],
            "image/png": "[encoded data removed]"
          },
          "metadata": {
            "needs_background": "light"
          }
        }
      ],
      "source": [
        "feature_names = ['Scoring', 'Genero', 'Calificacion', 'Producto'] # feature_names = ['No Moroso','Moroso']\n",
        "target_names = ['0 : No Moroso', '1 : Moroso']\n",
        "fig= plt.figure(figsize=(7,7))\n",
        "Plot = tree.plot_tree(classifier_dt,\n",
        "                      feature_names= feature_names,\n",
        "                      class_names = target_names,\n",
        "                      filled = True)\n",
        "fig.savefig('Tree1.png')"
      ]
    },
    {
      "cell_type": "markdown",
      "metadata": {
        "id": "ORQAP5uCbDWd"
      },
      "source": [
        "**Random Forest**"
      ]
    },
    {
      "cell_type": "code",
      "execution_count": 63,
      "metadata": {
        "id": "AvrAjHkmbHT9"
      },
      "outputs": [],
      "source": [
        "from sklearn.ensemble import RandomForestClassifier"
      ]
    },
    {
      "cell_type": "code",
      "execution_count": 64,
      "metadata": {
        "id": "Ab2GoSCLbVN7"
      },
      "outputs": [],
      "source": [
        "classifier_rf = RandomForestClassifier(max_depth = 2,random_state = 0)"
      ]
    },
    {
      "cell_type": "code",
      "execution_count": 65,
      "metadata": {
        "colab": {
          "base_uri": "https://localhost:8080/",
          "height": 347
        },
        "id": "M4EPJEf8bZFM",
        "outputId": "4b149aec-758a-47a8-c14f-a1d34f735e22"
      },
      "outputs": [
        {
          "output_type": "stream",
          "name": "stdout",
          "text": [
            "ACCURACY :  100.00%\n",
            "CROSS VALIDATION SCORE :  100.00%\n",
            "ROC_AUC SCORE :  100.00%\n"
          ]
        },
        {
          "output_type": "display_data",
          "data": {
            "text/plain": [
              "<Figure size 432x288 with 1 Axes>"
            ],
            "image/png": "[encoded data removed]"
          },
          "metadata": {
            "needs_background": "light"
          }
        }
      ],
      "source": [
        "model(classifier_rf)"
      ]
    },
    {
      "cell_type": "code",
      "execution_count": 66,
      "metadata": {
        "colab": {
          "base_uri": "https://localhost:8080/",
          "height": 300
        },
        "id": "2MsI-LOXbbg8",
        "outputId": "4f851193-fb95-4cd5-c235-cff429876ff4"
      },
      "outputs": [
        {
          "output_type": "stream",
          "name": "stdout",
          "text": [
            "PRECISION :  100.00%\n",
            "RECALL :  100.00%\n"
          ]
        },
        {
          "output_type": "display_data",
          "data": {
            "text/plain": [
              "<Figure size 432x288 with 2 Axes>"
            ],
            "image/png": "[encoded data removed]"
          },
          "metadata": {
            "needs_background": "light"
          }
        }
      ],
      "source": [
        "model_evaluation(classifier_rf)"
      ]
    },
    {
      "cell_type": "markdown",
      "source": [
        "**Red Neuronal**"
      ],
      "metadata": {
        "id": "sdSnxL8IkBfV"
      }
    },
    {
      "cell_type": "code",
      "execution_count": 71,
      "metadata": {
        "id": "9k-AouvGbXNT"
      },
      "outputs": [],
      "source": [
        "# Dividir el conjunto de datos para entrenar y probar Red Neuronal\n",
        "\n",
        "X_train, X_test, y_train, y_test = train_test_split(X, y, test_size = 0.2, random_state = 42)"
      ]
    },
    {
      "cell_type": "code",
      "execution_count": 72,
      "metadata": {
        "colab": {
          "base_uri": "https://localhost:8080/"
        },
        "id": "akEc91U0bb2s",
        "outputId": "cfd17f10-f40e-47cf-a4bb-327843939642"
      },
      "outputs": [
        {
          "output_type": "execute_result",
          "data": {
            "text/plain": [
              "array([[-1.02410087, -1.21852388, -1.47905714,  0.50629845],\n",
              "       [-1.02410087,  1.19255792,  0.48059825, -0.90911028],\n",
              "       [-1.02410087,  1.19255792,  0.9705121 , -0.90911028],\n",
              "       ...,\n",
              "       [-1.02410087,  2.39809881,  0.9705121 , -0.90911028],\n",
              "       [-1.02410087,  1.19255792,  0.9705121 , -0.90911028],\n",
              "       [ 0.97646631,  1.19255792,  0.9705121 , -0.90911028]])"
            ]
          },
          "metadata": {},
          "execution_count": 72
        }
      ],
      "source": [
        "X_train"
      ]
    },
    {
      "cell_type": "code",
      "execution_count": 73,
      "metadata": {
        "colab": {
          "base_uri": "https://localhost:8080/"
        },
        "id": "L-tpGo-vbez7",
        "outputId": "cd65f47a-b997-43b2-8fb0-4939bd39ecb3"
      },
      "outputs": [
        {
          "output_type": "execute_result",
          "data": {
            "text/plain": [
              "array([[ 0.97646631,  2.39809881,  0.9705121 , -0.90911028],\n",
              "       [ 0.97646631, -1.21852388, -0.0093156 ,  1.92170717],\n",
              "       [-1.02410087, -1.21852388, -1.47905714,  0.50629845],\n",
              "       ...,\n",
              "       [-1.02410087,  1.19255792, -0.0093156 ,  1.92170717],\n",
              "       [-1.02410087, -0.01298298,  1.46042594, -0.90911028],\n",
              "       [-1.02410087, -1.21852388, -0.0093156 ,  1.92170717]])"
            ]
          },
          "metadata": {},
          "execution_count": 73
        }
      ],
      "source": [
        "X_test"
      ]
    },
    {
      "cell_type": "markdown",
      "metadata": {
        "id": "WFtvPvjRbosG"
      },
      "source": [
        "**Construimos la Red Neuronal Artificial**"
      ]
    },
    {
      "cell_type": "code",
      "execution_count": 74,
      "metadata": {
        "id": "xS6s8oKob9NW"
      },
      "outputs": [],
      "source": [
        "import tensorflow as tf"
      ]
    },
    {
      "cell_type": "code",
      "execution_count": 75,
      "metadata": {
        "colab": {
          "base_uri": "https://localhost:8080/"
        },
        "id": "saJNQ09abh9X",
        "outputId": "0f515071-0381-46eb-a9ce-4363f89fc9dd"
      },
      "outputs": [
        {
          "output_type": "stream",
          "name": "stdout",
          "text": [
            "Epoch 1/30\n",
            "1189/1189 [==============================] - 8s 6ms/step - loss: 0.0047 - accuracy: 0.9988\n",
            "Epoch 2/30\n",
            "1189/1189 [==============================] - 7s 6ms/step - loss: 1.2064e-06 - accuracy: 1.0000\n",
            "Epoch 3/30\n",
            "1189/1189 [==============================] - 7s 6ms/step - loss: 3.2587e-07 - accuracy: 1.0000\n",
            "Epoch 4/30\n",
            "1189/1189 [==============================] - 8s 7ms/step - loss: 1.3204e-07 - accuracy: 1.0000\n",
            "Epoch 5/30\n",
            "1189/1189 [==============================] - 7s 6ms/step - loss: 6.2891e-08 - accuracy: 1.0000\n",
            "Epoch 6/30\n",
            "1189/1189 [==============================] - 7s 6ms/step - loss: 3.2141e-08 - accuracy: 1.0000\n",
            "Epoch 7/30\n",
            "1189/1189 [==============================] - 7s 6ms/step - loss: 1.7907e-08 - accuracy: 1.0000\n",
            "Epoch 8/30\n",
            "1189/1189 [==============================] - 8s 7ms/step - loss: 1.0569e-08 - accuracy: 1.0000\n",
            "Epoch 9/30\n",
            "1189/1189 [==============================] - 7s 6ms/step - loss: 6.2804e-09 - accuracy: 1.0000\n",
            "Epoch 10/30\n",
            "1189/1189 [==============================] - 7s 6ms/step - loss: 3.9095e-09 - accuracy: 1.0000\n",
            "Epoch 11/30\n",
            "1189/1189 [==============================] - 9s 7ms/step - loss: 2.6707e-09 - accuracy: 1.0000\n",
            "Epoch 12/30\n",
            "1189/1189 [==============================] - 7s 6ms/step - loss: 2.1161e-09 - accuracy: 1.0000\n",
            "Epoch 13/30\n",
            "1189/1189 [==============================] - 7s 6ms/step - loss: 1.8320e-09 - accuracy: 1.0000\n",
            "Epoch 14/30\n",
            "1189/1189 [==============================] - 7s 6ms/step - loss: 1.8130e-09 - accuracy: 1.0000\n",
            "Epoch 15/30\n",
            "1189/1189 [==============================] - 7s 6ms/step - loss: 1.7710e-09 - accuracy: 1.0000\n",
            "Epoch 16/30\n",
            "1189/1189 [==============================] - 7s 6ms/step - loss: 1.9218e-09 - accuracy: 1.0000\n",
            "Epoch 17/30\n",
            "1189/1189 [==============================] - 7s 6ms/step - loss: 2.0957e-09 - accuracy: 1.0000\n",
            "Epoch 18/30\n",
            "1189/1189 [==============================] - 7s 6ms/step - loss: 2.2288e-09 - accuracy: 1.0000\n",
            "Epoch 19/30\n",
            "1189/1189 [==============================] - 7s 6ms/step - loss: 2.3349e-09 - accuracy: 1.0000\n",
            "Epoch 20/30\n",
            "1189/1189 [==============================] - 7s 6ms/step - loss: 2.4040e-09 - accuracy: 1.0000\n",
            "Epoch 21/30\n",
            "1189/1189 [==============================] - 7s 6ms/step - loss: 2.4516e-09 - accuracy: 1.0000\n",
            "Epoch 22/30\n",
            "1189/1189 [==============================] - 7s 6ms/step - loss: 2.4547e-09 - accuracy: 1.0000\n",
            "Epoch 23/30\n",
            "1189/1189 [==============================] - 7s 6ms/step - loss: 2.4762e-09 - accuracy: 1.0000\n",
            "Epoch 24/30\n",
            "1189/1189 [==============================] - 7s 6ms/step - loss: 2.4598e-09 - accuracy: 1.0000\n",
            "Epoch 25/30\n",
            "1189/1189 [==============================] - 7s 6ms/step - loss: 2.4679e-09 - accuracy: 1.0000\n",
            "Epoch 26/30\n",
            "1189/1189 [==============================] - 7s 6ms/step - loss: 2.5215e-09 - accuracy: 1.0000\n",
            "Epoch 27/30\n",
            "1189/1189 [==============================] - 7s 6ms/step - loss: 2.4738e-09 - accuracy: 1.0000\n",
            "Epoch 28/30\n",
            "1189/1189 [==============================] - 7s 6ms/step - loss: 2.5078e-09 - accuracy: 1.0000\n",
            "Epoch 29/30\n",
            "1189/1189 [==============================] - 7s 6ms/step - loss: 2.5696e-09 - accuracy: 1.0000\n",
            "Epoch 30/30\n",
            "1189/1189 [==============================] - 7s 6ms/step - loss: 2.5484e-09 - accuracy: 1.0000\n",
            "298/298 [==============================] - 1s 3ms/step\n"
          ]
        }
      ],
      "source": [
        "#Initializing the ANN\n",
        "ann = tf.keras.models.Sequential()\n",
        "\n",
        "#Adding the Layers\n",
        "ann.add(tf.keras.layers.Dense(units=500, activation='relu'))\n",
        "ann.add(tf.keras.layers.Dense(units=500, activation='relu'))\n",
        "ann.add(tf.keras.layers.Dense(units=1, activation='sigmoid'))\n",
        "\n",
        "#Compiling the ANN\n",
        "ann.compile(optimizer = 'adam', loss = 'binary_crossentropy', metrics = ['accuracy'])\n",
        "\n",
        "#Training the ANN\n",
        "ann.fit(X_train, y_train, batch_size = 32, epochs =30) # epochs =250\n",
        "\n",
        "#Storing the predicted Values\n",
        "y_pred = ann.predict(X_test)"
      ]
    },
    {
      "cell_type": "markdown",
      "source": [
        "### **8) - ANALISIS DE LA VARIABLE TARGET \"CALIFICACION CREDITICIA\"**\n",
        "\n",
        "---"
      ],
      "metadata": {
        "id": "ubFJmbXFa5i9"
      }
    },
    {
      "cell_type": "markdown",
      "source": [
        "En esta segunda etapa, realizamos el analisis de riesgo crediticio con el objetivo de obtener una Calificacion de Riesgo en complementacion al Analisis de Viabilidad (Default) realizado en la etapa anterior.\n",
        "\n",
        "Se utilizara un escala numerica del 1 al 7, donde el rango del 1 al 3 corresponde a **personas en default**, y desde el rango de 4 a 7 corresponde a personas en **situacion normal (no default)**\n",
        "\n",
        "![calificacion.jpg](data:image/jpeg;base64,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)\n",
        "\n",
        "Para este analisis utilizamos como:\n",
        "\n",
        "* **Variables predictoras (X):**  A las columnas: **Default', 'Riesgo', 'Genero', 'Producto', 'Scoring'**\n",
        "* **Variable target (Y):**  A la columna: **'Calificacion'**"
      ],
      "metadata": {
        "id": "LFngjRC1qRJO"
      }
    },
    {
      "cell_type": "markdown",
      "source": [
        "### **9) - DETALLE DE LOS MODELOS A APLICAR**\n",
        "\n",
        "---\n",
        "\n",
        "Utilizaremos modelos de clasificación y clustering. En específico se seleccionan:\n",
        "\n",
        "    9.1. Regresion Logistica\n",
        "    9.2. Arbol de Decision\n",
        "    9.3. Random Forest\n",
        "    9.4. KNN\n",
        "    9.5. Gaussian Naive Bayes\n",
        "    9.6. GradientBoostingClassifier\n",
        "    9.7. XGB Classifier model\n",
        "\n",
        "* La **Regresion Logistica** Es un tipo de análisis de regresión utilizado para predecir el resultado de una variable categórica en función de las variables independientes o predictoras.\n",
        "\n",
        "* Los **Arboles de Decisión** Son modelos predictivos formados por reglas binarias (si/no) con las que se consigue repartir las observaciones en función de sus atributos y predecir así el valor de la variable respuesta.\n",
        "\n",
        "* El modelo **Random Forest** Es una combinación de árboles predictores tal que cada árbol depende de los valores de un vector aleatorio probado independientemente y con la misma distribución para cada uno de estos.\n",
        "\n",
        "* El algoritmo **KNN**  Consiste en la predicción de un valor desconocido a partir de las características de los datos más cercanos. Se optimiza, ajustando los parámetros de distancia y la cantidad de vecinos.\n",
        "\n",
        "* El modelo **Gaussian Naive Bayes** Es un clasificador probabilístico simple con fuerte suposición de independencia. El clasificador Naïve-Bayes aprende de los datos de entrenamiento y luego predice la clase de la instancia de prueba con la mayor probabilidad posterior.\n",
        "\n",
        "* Un modelo **Gradient Boosting** Está formado por un conjunto de árboles de decisión individuales, entrenados de forma secuencial, de forma que cada nuevo árbol trata de mejorar los errores de los árboles anteriores. La predicción de una nueva observación se obtiene agregando las predicciones de todos los árboles individuales que forman el modelo.\n",
        "\n",
        "* El modelo **XGBClassifier model** Es un algoritmo de aprendizaje automático basado en un árbol de decisiones y utiliza un marco de potenciación de gradientes."
      ],
      "metadata": {
        "id": "Ze0XVSXhtRmP"
      }
    },
    {
      "cell_type": "code",
      "source": [
        "# machine learning\n",
        "from sklearn.linear_model import LogisticRegression\n",
        "from sklearn.svm import SVC\n",
        "from sklearn.svm import LinearSVC\n",
        "from sklearn.ensemble import RandomForestClassifier\n",
        "from sklearn.neighbors import KNeighborsClassifier\n",
        "from sklearn.naive_bayes import GaussianNB\n",
        "from sklearn.linear_model import Perceptron\n",
        "from sklearn.linear_model import SGDClassifier\n",
        "from xgboost import XGBClassifier\n",
        "from sklearn.tree import DecisionTreeClassifier\n",
        "from sklearn.discriminant_analysis import LinearDiscriminantAnalysis\n",
        "from sklearn.neural_network import MLPClassifier\n",
        "from sklearn.ensemble import GradientBoostingClassifier\n",
        "\n",
        "## scikit modeling libraries\n",
        "from sklearn.ensemble import (RandomForestClassifier, AdaBoostClassifier,\n",
        "                             GradientBoostingClassifier, ExtraTreesClassifier,\n",
        "                             VotingClassifier)\n",
        "\n",
        "from sklearn.model_selection import (GridSearchCV, cross_val_score, cross_val_predict,\n",
        "                                     StratifiedKFold, learning_curve)\n",
        "\n",
        "## Predictive modeling\n",
        "from sklearn.model_selection import train_test_split\n",
        "from sklearn.model_selection import cross_val_score\n",
        "from sklearn.metrics import classification_report\n",
        "from sklearn.metrics import confusion_matrix\n",
        "from sklearn.metrics import accuracy_score\n",
        "from sklearn.metrics import roc_curve, auc\n",
        "from sklearn.feature_selection import RFE\n",
        "\n",
        "#Principal components & otros\n",
        "from sklearn.decomposition import PCA\n",
        "from sklearn.preprocessing import StandardScaler\n",
        "\n",
        "from sklearn.model_selection import train_test_split\n",
        "from sklearn.metrics import classification_report\n",
        "from sklearn.metrics import confusion_matrix\n",
        "\n",
        "from keras.models import Sequential\n",
        "from keras.layers import Dense\n",
        "from keras.wrappers.scikit_learn import KerasClassifier\n",
        "from keras.utils import np_utils\n",
        "from sklearn.model_selection import (cross_val_score, KFold, train_test_split)\n",
        "from sklearn.preprocessing import LabelEncoder\n",
        "from sklearn.pipeline import Pipeline"
      ],
      "metadata": {
        "id": "uVpO5WBjbJPG"
      },
      "execution_count": 83,
      "outputs": []
    },
    {
      "cell_type": "markdown",
      "source": [
        "### **10) - ENTRENAMIENTO DEL MODELO**\n",
        "\n",
        "---"
      ],
      "metadata": {
        "id": "fU03KmZGrE1b"
      }
    },
    {
      "cell_type": "markdown",
      "source": [
        "**División de los datos en entrenamiento y prueba**"
      ],
      "metadata": {
        "id": "mcfqodffRplk"
      }
    },
    {
      "cell_type": "code",
      "source": [
        "# Asignamos nuestras variables predictoras y variable objetivo\n",
        "\n",
        "# Definición de variables predictoras (X)\n",
        "x = df[['Default', 'Riesgo', 'Genero', 'Producto', 'Scoring']] \n",
        "print(x)\n",
        "\n",
        "# Definición de variable objetivo (y)\n",
        "y = df[\"Calificacion\"]\n",
        "print(y)"
      ],
      "metadata": {
        "id": "nSOh01CKQt--"
      },
      "execution_count": null,
      "outputs": []
    },
    {
      "cell_type": "code",
      "source": [
        "# Dividiendo el dataset en entrenamiento y evaluacion\n",
        "from sklearn.model_selection import train_test_split\n",
        "\n",
        "X_train, X_test, Y_train, Y_test = train_test_split(x, y, test_size=0.2, random_state=42)"
      ],
      "metadata": {
        "id": "HHQAiWiAcHeF"
      },
      "execution_count": 77,
      "outputs": []
    },
    {
      "cell_type": "code",
      "source": [
        "print('El conjunto de entrenamiento tiene: {} datos \\nEl set de evaluación tiene: {} datos'.\n",
        "      format(X_train.shape[0], X_test.shape[0]))"
      ],
      "metadata": {
        "colab": {
          "base_uri": "https://localhost:8080/"
        },
        "id": "LAXymf2fDnsb",
        "outputId": "03346435-7864-4c37-b7bb-03a8b308215c"
      },
      "execution_count": 78,
      "outputs": [
        {
          "output_type": "stream",
          "name": "stdout",
          "text": [
            "El conjunto de entrenamiento tiene: 38033 datos \n",
            "El set de evaluación tiene: 9509 datos\n"
          ]
        }
      ]
    },
    {
      "cell_type": "code",
      "source": [
        "# Creo un _performance_auc_ dict para la comparación de los modelos\n",
        "performance_auc = {}"
      ],
      "metadata": {
        "id": "vZZz94aW0Buh"
      },
      "execution_count": 79,
      "outputs": []
    },
    {
      "cell_type": "markdown",
      "source": [
        "**10.1) -Logístic Regression**"
      ],
      "metadata": {
        "id": "ipJdDaw1b05Q"
      }
    },
    {
      "cell_type": "code",
      "source": [
        "from sklearn.linear_model import LogisticRegression\n",
        "from sklearn import preprocessing\n",
        "from sklearn.metrics import accuracy_score\n",
        "import sklearn.metrics as metrics"
      ],
      "metadata": {
        "id": "LowvMS8dEgux"
      },
      "execution_count": 80,
      "outputs": []
    },
    {
      "cell_type": "code",
      "source": [
        "model = LogisticRegression().fit(X_train, Y_train)\n",
        "predicted_log = model.predict(X_test)\n",
        "predicted_log\n",
        "\n",
        "# Confidence score\n",
        "logreg_score_1 = round(model.score(X_train, Y_train) * 100, 2)"
      ],
      "metadata": {
        "id": "Bx7nheWSbMtH"
      },
      "execution_count": 81,
      "outputs": []
    },
    {
      "cell_type": "code",
      "source": [
        "target_names = ['Riesgo Alto', 'Riesgo Medio', 'Riesgo Bajo', 'Calificable', 'Normal', 'Bueno', 'Muy Bueno']\n",
        "print(classification_report(Y_test, predicted_log, target_names=target_names))"
      ],
      "metadata": {
        "id": "mnT04LL4b7Du",
        "colab": {
          "base_uri": "https://localhost:8080/"
        },
        "outputId": "d8ca7cc3-6ca3-458a-f59d-e9de0f052bf6"
      },
      "execution_count": 84,
      "outputs": [
        {
          "output_type": "stream",
          "name": "stdout",
          "text": [
            "              precision    recall  f1-score   support\n",
            "\n",
            " Riesgo Alto       1.00      1.00      1.00      2083\n",
            "Riesgo Medio       1.00      1.00      1.00       559\n",
            " Riesgo Bajo       1.00      1.00      1.00       910\n",
            " Calificable       0.97      1.00      0.99      1169\n",
            "      Normal       0.47      0.65      0.55      2027\n",
            "       Bueno       0.42      0.47      0.44      1740\n",
            "   Muy Bueno       0.00      0.00      0.00      1021\n",
            "\n",
            "    accuracy                           0.72      9509\n",
            "   macro avg       0.69      0.73      0.71      9509\n",
            "weighted avg       0.67      0.72      0.69      9509\n",
            "\n"
          ]
        }
      ]
    },
    {
      "cell_type": "code",
      "source": [
        "# Exactitud del modelo\n",
        "print(\"Exactitud del modelo Regresion Logistica es de: \", metrics.accuracy_score(Y_test, predicted_log))"
      ],
      "metadata": {
        "colab": {
          "base_uri": "https://localhost:8080/"
        },
        "id": "eWZjmLPe7yYG",
        "outputId": "42185e07-7de9-483c-99fe-3940037b9dad"
      },
      "execution_count": 85,
      "outputs": [
        {
          "output_type": "stream",
          "name": "stdout",
          "text": [
            "Exactitud del modelo Regresion Logistica es de:  0.7215269744452624\n"
          ]
        }
      ]
    },
    {
      "cell_type": "code",
      "source": [
        "# Plot Confusion Matrix\n",
        "\n",
        "sns.heatmap(confusion_matrix(Y_test, predicted_log), annot=True, fmt='.0f')\n",
        "plt.ylabel('Real Labels')\n",
        "plt.xlabel('Predicted Labels');"
      ],
      "metadata": {
        "id": "2n2nMOQl_s73",
        "colab": {
          "base_uri": "https://localhost:8080/",
          "height": 279
        },
        "outputId": "e0330f7f-055e-4742-9cc2-785886c761fd"
      },
      "execution_count": 86,
      "outputs": [
        {
          "output_type": "display_data",
          "data": {
            "text/plain": [
              "<Figure size 432x288 with 2 Axes>"
            ],
            "image/png": "[encoded data removed]"
          },
          "metadata": {
            "needs_background": "light"
          }
        }
      ]
    },
    {
      "cell_type": "markdown",
      "source": [
        "**10.2) -Decisión Tree**"
      ],
      "metadata": {
        "id": "4x1WP3fncQHU"
      }
    },
    {
      "cell_type": "code",
      "source": [
        "model = DecisionTreeClassifier().fit(X_train, Y_train)\n",
        "model"
      ],
      "metadata": {
        "colab": {
          "base_uri": "https://localhost:8080/"
        },
        "id": "f41RqVOxcRO1",
        "outputId": "9c316867-8003-44c7-ea85-91ee6d08b0b0"
      },
      "execution_count": 87,
      "outputs": [
        {
          "output_type": "execute_result",
          "data": {
            "text/plain": [
              "DecisionTreeClassifier()"
            ]
          },
          "metadata": {},
          "execution_count": 87
        }
      ]
    },
    {
      "cell_type": "code",
      "source": [
        "predicted_dt = model.predict(X_test)\n",
        "predicted_dt"
      ],
      "metadata": {
        "colab": {
          "base_uri": "https://localhost:8080/"
        },
        "id": "fmzlaiRacUAF",
        "outputId": "96020136-0c09-4571-b737-4dffd4af9b58"
      },
      "execution_count": 88,
      "outputs": [
        {
          "output_type": "execute_result",
          "data": {
            "text/plain": [
              "array([6, 4, 1, ..., 4, 6, 4])"
            ]
          },
          "metadata": {},
          "execution_count": 88
        }
      ]
    },
    {
      "cell_type": "code",
      "source": [
        "# Confidence score\n",
        "dectree_score_1 = round(model.score(X_train, Y_train) * 100, 2)\n",
        "target_names = ['Riesgo Alto', 'Riesgo Medio', 'Riesgo Bajo', 'Calificable', 'Normal', 'Bueno', 'Muy Bueno']\n",
        "print(classification_report(Y_test, predicted_dt, target_names=target_names))"
      ],
      "metadata": {
        "id": "RWzCGVF8cV9H",
        "colab": {
          "base_uri": "https://localhost:8080/"
        },
        "outputId": "94bce45f-3ca6-475a-8909-3425ddc6963f"
      },
      "execution_count": 89,
      "outputs": [
        {
          "output_type": "stream",
          "name": "stdout",
          "text": [
            "              precision    recall  f1-score   support\n",
            "\n",
            " Riesgo Alto       1.00      1.00      1.00      2083\n",
            "Riesgo Medio       1.00      1.00      1.00       559\n",
            " Riesgo Bajo       1.00      1.00      1.00       910\n",
            " Calificable       0.97      1.00      0.99      1169\n",
            "      Normal       0.64      0.35      0.45      2027\n",
            "       Bueno       0.39      0.82      0.53      1740\n",
            "   Muy Bueno       0.56      0.00      0.01      1021\n",
            "\n",
            "    accuracy                           0.72      9509\n",
            "   macro avg       0.79      0.74      0.71      9509\n",
            "weighted avg       0.76      0.72      0.69      9509\n",
            "\n"
          ]
        }
      ]
    },
    {
      "cell_type": "code",
      "source": [
        "# Exactitud del modelo\n",
        "print(\"Exactitud del modelo Decision Tree es de: \", metrics.accuracy_score(Y_test, predicted_dt))"
      ],
      "metadata": {
        "colab": {
          "base_uri": "https://localhost:8080/"
        },
        "outputId": "58db0c20-e6b3-495b-8c67-e5bc683691f7",
        "id": "EDbzHZpQGLOl"
      },
      "execution_count": 90,
      "outputs": [
        {
          "output_type": "stream",
          "name": "stdout",
          "text": [
            "Exactitud del modelo Decision Tree es de:  0.7211063203281102\n"
          ]
        }
      ]
    },
    {
      "cell_type": "code",
      "source": [
        "# Create a confusion matrix\n",
        "matrix = confusion_matrix(Y_test, predicted_dt)\n",
        "sns.heatmap(matrix, annot=True, fmt=\"d\", cmap='Blues', square=True)\n",
        "plt.xlabel(\"predicted\")\n",
        "plt.ylabel(\"actual\")\n",
        "plt"
      ],
      "metadata": {
        "colab": {
          "base_uri": "https://localhost:8080/",
          "height": 296
        },
        "id": "UrxFtx85cgFE",
        "outputId": "2db4606a-88c8-4339-f312-ea4a180317b6"
      },
      "execution_count": 91,
      "outputs": [
        {
          "output_type": "execute_result",
          "data": {
            "text/plain": [
              "<module 'matplotlib.pyplot' from '/usr/local/lib/python3.7/dist-packages/matplotlib/pyplot.py'>"
            ]
          },
          "metadata": {},
          "execution_count": 91
        },
        {
          "output_type": "display_data",
          "data": {
            "text/plain": [
              "<Figure size 432x288 with 2 Axes>"
            ],
            "image/png": "[encoded data removed]"
          },
          "metadata": {
            "needs_background": "light"
          }
        }
      ]
    },
    {
      "cell_type": "markdown",
      "source": [
        "**10.3) - Random Forest**"
      ],
      "metadata": {
        "id": "hq6M5voJcwWF"
      }
    },
    {
      "cell_type": "code",
      "source": [
        "model = RandomForestClassifier(n_estimators=300, random_state=0).fit(X_train, Y_train)\n",
        "model"
      ],
      "metadata": {
        "colab": {
          "base_uri": "https://localhost:8080/"
        },
        "id": "c_a8anapczK9",
        "outputId": "402ae91f-4a8a-48b4-e06b-3ebf2b0db12a"
      },
      "execution_count": 92,
      "outputs": [
        {
          "output_type": "execute_result",
          "data": {
            "text/plain": [
              "RandomForestClassifier(n_estimators=300, random_state=0)"
            ]
          },
          "metadata": {},
          "execution_count": 92
        }
      ]
    },
    {
      "cell_type": "code",
      "source": [
        "predicted_rf = model.predict(X_test)\n",
        "predicted_rf"
      ],
      "metadata": {
        "colab": {
          "base_uri": "https://localhost:8080/"
        },
        "id": "FhgDZ7y4c5zG",
        "outputId": "49242b22-3b38-401d-eddd-64373f9fd802"
      },
      "execution_count": 93,
      "outputs": [
        {
          "output_type": "execute_result",
          "data": {
            "text/plain": [
              "array([6, 4, 1, ..., 4, 6, 4])"
            ]
          },
          "metadata": {},
          "execution_count": 93
        }
      ]
    },
    {
      "cell_type": "code",
      "source": [
        "# Confidence score\n",
        "randfor_score_1 = round(model.score(X_train,Y_train) * 100, 2)\n",
        "target_names = ['Riesgo Alto', 'Riesgo Medio', 'Riesgo Bajo', 'Calificable', 'Normal', 'Bueno', 'Muy Bueno']\n",
        "print(classification_report(Y_test, predicted_rf, target_names=target_names))"
      ],
      "metadata": {
        "id": "zXD0sEtfc6i0",
        "colab": {
          "base_uri": "https://localhost:8080/"
        },
        "outputId": "07591dd5-7937-46b2-d08c-bc522b659c3b"
      },
      "execution_count": 94,
      "outputs": [
        {
          "output_type": "stream",
          "name": "stdout",
          "text": [
            "              precision    recall  f1-score   support\n",
            "\n",
            " Riesgo Alto       1.00      1.00      1.00      2083\n",
            "Riesgo Medio       1.00      1.00      1.00       559\n",
            " Riesgo Bajo       1.00      1.00      1.00       910\n",
            " Calificable       0.97      1.00      0.99      1169\n",
            "      Normal       0.64      0.35      0.45      2027\n",
            "       Bueno       0.39      0.82      0.53      1740\n",
            "   Muy Bueno       0.56      0.00      0.01      1021\n",
            "\n",
            "    accuracy                           0.72      9509\n",
            "   macro avg       0.79      0.74      0.71      9509\n",
            "weighted avg       0.76      0.72      0.69      9509\n",
            "\n"
          ]
        }
      ]
    },
    {
      "cell_type": "code",
      "source": [
        "# Exactitud del modelo\n",
        "print(\"Exactitud del modelo Random Forest es de: \", metrics.accuracy_score(Y_test, predicted_rf))"
      ],
      "metadata": {
        "colab": {
          "base_uri": "https://localhost:8080/"
        },
        "outputId": "ad15b011-98bb-4b7c-c5d0-7aad2a87d7c7",
        "id": "y_snawLoGaFs"
      },
      "execution_count": 95,
      "outputs": [
        {
          "output_type": "stream",
          "name": "stdout",
          "text": [
            "Exactitud del modelo Random Forest es de:  0.7211063203281102\n"
          ]
        }
      ]
    },
    {
      "cell_type": "code",
      "source": [
        "matrix = confusion_matrix(Y_test, predicted_rf)\n",
        "sns.heatmap(matrix, annot=True, fmt=\"d\", cmap='Blues', square=True)\n",
        "plt.xlabel(\"predicted\")\n",
        "plt.ylabel(\"actual\")\n",
        "plt"
      ],
      "metadata": {
        "colab": {
          "base_uri": "https://localhost:8080/",
          "height": 296
        },
        "id": "jAnsfncdc_e8",
        "outputId": "cc197560-ea1a-446c-e330-14b89f1696b6"
      },
      "execution_count": 96,
      "outputs": [
        {
          "output_type": "execute_result",
          "data": {
            "text/plain": [
              "<module 'matplotlib.pyplot' from '/usr/local/lib/python3.7/dist-packages/matplotlib/pyplot.py'>"
            ]
          },
          "metadata": {},
          "execution_count": 96
        },
        {
          "output_type": "display_data",
          "data": {
            "text/plain": [
              "<Figure size 432x288 with 2 Axes>"
            ],
            "image/png": "[encoded data removed]"
          },
          "metadata": {
            "needs_background": "light"
          }
        }
      ]
    },
    {
      "cell_type": "markdown",
      "source": [
        "**10.4) - k-Nearest Neighbors (KNN)** "
      ],
      "metadata": {
        "id": "2wkYn8OAdNKi"
      }
    },
    {
      "cell_type": "code",
      "source": [
        "model = KNeighborsClassifier(3).fit(X_train, Y_train)\n",
        "model"
      ],
      "metadata": {
        "colab": {
          "base_uri": "https://localhost:8080/"
        },
        "id": "DeYyMRYudIzr",
        "outputId": "2904f3e4-a906-4149-accf-09106e9a5bc9"
      },
      "execution_count": 97,
      "outputs": [
        {
          "output_type": "execute_result",
          "data": {
            "text/plain": [
              "KNeighborsClassifier(n_neighbors=3)"
            ]
          },
          "metadata": {},
          "execution_count": 97
        }
      ]
    },
    {
      "cell_type": "code",
      "source": [
        "predicted_knn = model.predict(X_test)\n",
        "predicted_knn"
      ],
      "metadata": {
        "colab": {
          "base_uri": "https://localhost:8080/"
        },
        "id": "P7kjncgodRPK",
        "outputId": "16cc1530-3a79-42dd-d99d-19144f4dfb57"
      },
      "execution_count": 98,
      "outputs": [
        {
          "output_type": "execute_result",
          "data": {
            "text/plain": [
              "array([6, 4, 1, ..., 4, 5, 4])"
            ]
          },
          "metadata": {},
          "execution_count": 98
        }
      ]
    },
    {
      "cell_type": "code",
      "source": [
        "# Confidence score\n",
        "knn_score_1 = round(model.score(X_train,Y_train) * 100, 2)\n",
        "target_names = ['Riesgo Alto', 'Riesgo Medio', 'Riesgo Bajo', 'Calificable', 'Normal', 'Bueno', 'Muy Bueno']\n",
        "print(classification_report(Y_test, predicted_knn, target_names=target_names))"
      ],
      "metadata": {
        "id": "LvD8A537dT3b",
        "colab": {
          "base_uri": "https://localhost:8080/"
        },
        "outputId": "3e64a46e-9f8f-4ab3-ba36-7a8bef4c53fe"
      },
      "execution_count": 99,
      "outputs": [
        {
          "output_type": "stream",
          "name": "stdout",
          "text": [
            "              precision    recall  f1-score   support\n",
            "\n",
            " Riesgo Alto       1.00      1.00      1.00      2083\n",
            "Riesgo Medio       1.00      1.00      1.00       559\n",
            " Riesgo Bajo       1.00      1.00      1.00       910\n",
            " Calificable       0.97      1.00      0.99      1169\n",
            "      Normal       0.52      0.51      0.52      2027\n",
            "       Bueno       0.40      0.42      0.41      1740\n",
            "   Muy Bueno       0.25      0.22      0.23      1021\n",
            "\n",
            "    accuracy                           0.71      9509\n",
            "   macro avg       0.73      0.74      0.73      9509\n",
            "weighted avg       0.70      0.71      0.70      9509\n",
            "\n"
          ]
        }
      ]
    },
    {
      "cell_type": "code",
      "source": [
        "# Exactitud del modelo\n",
        "print(\"Exactitud del modelo KNeighborsClassifier es de: \", metrics.accuracy_score(Y_test, predicted_knn))"
      ],
      "metadata": {
        "colab": {
          "base_uri": "https://localhost:8080/"
        },
        "outputId": "9fffa784-a6a6-4122-d009-fd0fd42209c1",
        "id": "AnjQy_YIGu4y"
      },
      "execution_count": 100,
      "outputs": [
        {
          "output_type": "stream",
          "name": "stdout",
          "text": [
            "Exactitud del modelo KNeighborsClassifier es de:  0.7058576085813439\n"
          ]
        }
      ]
    },
    {
      "cell_type": "code",
      "source": [
        "matrix = confusion_matrix(Y_test, predicted_knn)\n",
        "sns.heatmap(matrix, annot=True, fmt=\"d\", cmap='Blues', square=True)\n",
        "plt.xlabel(\"predicted\")\n",
        "plt.ylabel(\"actual\")\n",
        "plt"
      ],
      "metadata": {
        "colab": {
          "base_uri": "https://localhost:8080/",
          "height": 296
        },
        "id": "4p_BO8AddXaS",
        "outputId": "4c5d9d84-f31e-4f1c-ffd9-52dae600050a"
      },
      "execution_count": 101,
      "outputs": [
        {
          "output_type": "execute_result",
          "data": {
            "text/plain": [
              "<module 'matplotlib.pyplot' from '/usr/local/lib/python3.7/dist-packages/matplotlib/pyplot.py'>"
            ]
          },
          "metadata": {},
          "execution_count": 101
        },
        {
          "output_type": "display_data",
          "data": {
            "text/plain": [
              "<Figure size 432x288 with 2 Axes>"
            ],
            "image/png": "[encoded data removed]"
          },
          "metadata": {
            "needs_background": "light"
          }
        }
      ]
    },
    {
      "cell_type": "markdown",
      "source": [
        "**10.5) - Gaussian Naive Bayes**"
      ],
      "metadata": {
        "id": "10qr6eOEdhrD"
      }
    },
    {
      "cell_type": "code",
      "source": [
        "model = GaussianNB().fit(X_train, Y_train)\n",
        "model"
      ],
      "metadata": {
        "colab": {
          "base_uri": "https://localhost:8080/"
        },
        "id": "F-OrCdPZdjLc",
        "outputId": "a770da2a-af69-4630-9107-1af5d0f0b6cc"
      },
      "execution_count": 102,
      "outputs": [
        {
          "output_type": "execute_result",
          "data": {
            "text/plain": [
              "GaussianNB()"
            ]
          },
          "metadata": {},
          "execution_count": 102
        }
      ]
    },
    {
      "cell_type": "code",
      "source": [
        "predicted_gau = model.predict(X_test)\n",
        "predicted_gau"
      ],
      "metadata": {
        "colab": {
          "base_uri": "https://localhost:8080/"
        },
        "id": "VRfxlrDJdlqb",
        "outputId": "adc87bdd-5c74-401c-bec8-9689f4889954"
      },
      "execution_count": 103,
      "outputs": [
        {
          "output_type": "execute_result",
          "data": {
            "text/plain": [
              "array([6, 4, 1, ..., 4, 6, 4])"
            ]
          },
          "metadata": {},
          "execution_count": 103
        }
      ]
    },
    {
      "cell_type": "code",
      "source": [
        "# Confidence score\n",
        "gau_score_1 = round(model.score(X_train,Y_train) * 100, 2)\n",
        "target_names = ['Riesgo Alto', 'Riesgo Medio', 'Riesgo Bajo', 'Calificable', 'Normal', 'Bueno', 'Muy Bueno']\n",
        "print(classification_report(Y_test, predicted_gau, target_names=target_names))"
      ],
      "metadata": {
        "id": "Km1yAMKSdner",
        "colab": {
          "base_uri": "https://localhost:8080/"
        },
        "outputId": "f448c7ec-fc98-4a1c-95a7-fd4f5aabf3ba"
      },
      "execution_count": 104,
      "outputs": [
        {
          "output_type": "stream",
          "name": "stdout",
          "text": [
            "              precision    recall  f1-score   support\n",
            "\n",
            " Riesgo Alto       1.00      1.00      1.00      2083\n",
            "Riesgo Medio       1.00      1.00      1.00       559\n",
            " Riesgo Bajo       1.00      1.00      1.00       910\n",
            " Calificable       0.97      1.00      0.99      1169\n",
            "      Normal       0.00      0.00      0.00      2027\n",
            "       Bueno       0.37      1.00      0.54      1740\n",
            "   Muy Bueno       0.00      0.00      0.00      1021\n",
            "\n",
            "    accuracy                           0.68      9509\n",
            "   macro avg       0.62      0.71      0.65      9509\n",
            "weighted avg       0.56      0.68      0.59      9509\n",
            "\n"
          ]
        }
      ]
    },
    {
      "cell_type": "code",
      "source": [
        "# Exactitud del modelo\n",
        "print(\"Exactitud del modelo GaussianNB es de: \", metrics.accuracy_score(Y_test, predicted_gau))"
      ],
      "metadata": {
        "colab": {
          "base_uri": "https://localhost:8080/"
        },
        "outputId": "2e36c460-be06-46bd-f426-be7f57a274dd",
        "id": "YK554bGJG7g_"
      },
      "execution_count": 105,
      "outputs": [
        {
          "output_type": "stream",
          "name": "stdout",
          "text": [
            "Exactitud del modelo GaussianNB es de:  0.6794615627300452\n"
          ]
        }
      ]
    },
    {
      "cell_type": "code",
      "source": [
        "matrix = confusion_matrix(Y_test, predicted_gau)\n",
        "sns.heatmap(matrix, annot=True, fmt=\"d\", cmap='Blues', square=True)\n",
        "plt.xlabel(\"predicted\")\n",
        "plt.ylabel(\"actual\")\n",
        "plt"
      ],
      "metadata": {
        "colab": {
          "base_uri": "https://localhost:8080/",
          "height": 296
        },
        "id": "A-cN0dcHeng6",
        "outputId": "310b5a3a-af54-4770-ae96-aa5e13a1b228"
      },
      "execution_count": 106,
      "outputs": [
        {
          "output_type": "execute_result",
          "data": {
            "text/plain": [
              "<module 'matplotlib.pyplot' from '/usr/local/lib/python3.7/dist-packages/matplotlib/pyplot.py'>"
            ]
          },
          "metadata": {},
          "execution_count": 106
        },
        {
          "output_type": "display_data",
          "data": {
            "text/plain": [
              "<Figure size 432x288 with 2 Axes>"
            ],
            "image/png": "[encoded data removed]"
          },
          "metadata": {
            "needs_background": "light"
          }
        }
      ]
    },
    {
      "cell_type": "markdown",
      "source": [
        "**10.6) - GradientBoosting Classifier**"
      ],
      "metadata": {
        "id": "cY7EzMFHee9S"
      }
    },
    {
      "cell_type": "code",
      "source": [
        "model = GradientBoostingClassifier().fit(X_train, Y_train)\n",
        "model"
      ],
      "metadata": {
        "colab": {
          "base_uri": "https://localhost:8080/"
        },
        "id": "QpO_brApegSJ",
        "outputId": "05ef0977-a9b9-4540-efbf-bfef3d14b614"
      },
      "execution_count": 107,
      "outputs": [
        {
          "output_type": "execute_result",
          "data": {
            "text/plain": [
              "GradientBoostingClassifier()"
            ]
          },
          "metadata": {},
          "execution_count": 107
        }
      ]
    },
    {
      "cell_type": "code",
      "source": [
        "predicted_gbc = model.predict(X_test)\n",
        "predicted_gbc"
      ],
      "metadata": {
        "colab": {
          "base_uri": "https://localhost:8080/"
        },
        "id": "jZAq3aLXevRZ",
        "outputId": "6c63e2b1-8264-40f2-9eb4-67f0f6f4160d"
      },
      "execution_count": 108,
      "outputs": [
        {
          "output_type": "execute_result",
          "data": {
            "text/plain": [
              "array([6, 4, 1, ..., 4, 6, 4])"
            ]
          },
          "metadata": {},
          "execution_count": 108
        }
      ]
    },
    {
      "cell_type": "code",
      "source": [
        "# Confidence score\n",
        "gbc_score_1 = round(model.score(X_train,Y_train) * 100, 2)\n",
        "target_names = ['Riesgo Alto', 'Riesgo Medio', 'Riesgo Bajo', 'Calificable', 'Normal', 'Bueno', 'Muy Bueno']\n",
        "print(classification_report(Y_test, predicted_gbc, target_names=target_names))"
      ],
      "metadata": {
        "colab": {
          "base_uri": "https://localhost:8080/"
        },
        "id": "pA5XcGN_exBy",
        "outputId": "5652707b-9504-4d1c-ec89-c222ea88070d"
      },
      "execution_count": 109,
      "outputs": [
        {
          "output_type": "stream",
          "name": "stdout",
          "text": [
            "              precision    recall  f1-score   support\n",
            "\n",
            " Riesgo Alto       1.00      1.00      1.00      2083\n",
            "Riesgo Medio       1.00      1.00      1.00       559\n",
            " Riesgo Bajo       1.00      1.00      1.00       910\n",
            " Calificable       0.97      1.00      0.99      1169\n",
            "      Normal       0.64      0.35      0.45      2027\n",
            "       Bueno       0.39      0.82      0.53      1740\n",
            "   Muy Bueno       0.56      0.00      0.01      1021\n",
            "\n",
            "    accuracy                           0.72      9509\n",
            "   macro avg       0.79      0.74      0.71      9509\n",
            "weighted avg       0.76      0.72      0.69      9509\n",
            "\n"
          ]
        }
      ]
    },
    {
      "cell_type": "code",
      "source": [
        "# Exactitud del modelo\n",
        "print(\"Exactitud del modelo GradientBoostingClassifier es de: \", metrics.accuracy_score(Y_test, predicted_gbc))"
      ],
      "metadata": {
        "colab": {
          "base_uri": "https://localhost:8080/"
        },
        "outputId": "d3bcbfdd-782b-404b-f05c-8a7f63ee4b5d",
        "id": "onhEHgHWHA8z"
      },
      "execution_count": 110,
      "outputs": [
        {
          "output_type": "stream",
          "name": "stdout",
          "text": [
            "Exactitud del modelo GradientBoostingClassifier es de:  0.7211063203281102\n"
          ]
        }
      ]
    },
    {
      "cell_type": "code",
      "source": [
        "matrix = confusion_matrix(Y_test, predicted_gbc)\n",
        "sns.heatmap(matrix, annot=True, fmt=\"d\", cmap='Blues', square=True)\n",
        "plt.xlabel(\"predicted\")\n",
        "plt.ylabel(\"actual\")\n",
        "plt"
      ],
      "metadata": {
        "colab": {
          "base_uri": "https://localhost:8080/",
          "height": 296
        },
        "id": "tYeBgXB7ezwZ",
        "outputId": "6ced9539-2b20-42b9-906b-f5b78e7544ea"
      },
      "execution_count": 111,
      "outputs": [
        {
          "output_type": "execute_result",
          "data": {
            "text/plain": [
              "<module 'matplotlib.pyplot' from '/usr/local/lib/python3.7/dist-packages/matplotlib/pyplot.py'>"
            ]
          },
          "metadata": {},
          "execution_count": 111
        },
        {
          "output_type": "display_data",
          "data": {
            "text/plain": [
              "<Figure size 432x288 with 2 Axes>"
            ],
            "image/png": "[encoded data removed]"
          },
          "metadata": {
            "needs_background": "light"
          }
        }
      ]
    },
    {
      "cell_type": "markdown",
      "source": [
        "**10.7)  -XGBClassifier model**"
      ],
      "metadata": {
        "id": "XKFLKdOhe9Xa"
      }
    },
    {
      "cell_type": "code",
      "source": [
        "model = XGBClassifier().fit(X_train, Y_train)\n",
        "model"
      ],
      "metadata": {
        "colab": {
          "base_uri": "https://localhost:8080/"
        },
        "id": "kbcPe5cve-xJ",
        "outputId": "4176dc35-1767-45c4-9188-866c8c349fac"
      },
      "execution_count": 112,
      "outputs": [
        {
          "output_type": "execute_result",
          "data": {
            "text/plain": [
              "XGBClassifier(objective='multi:softprob')"
            ]
          },
          "metadata": {},
          "execution_count": 112
        }
      ]
    },
    {
      "cell_type": "code",
      "source": [
        "predicted_xgb = model.predict(X_test)\n",
        "predicted_xgb"
      ],
      "metadata": {
        "colab": {
          "base_uri": "https://localhost:8080/"
        },
        "id": "7KCDQ6KzfCe5",
        "outputId": "c75f8531-5061-4c92-e7e4-f91a9b76ca74"
      },
      "execution_count": 113,
      "outputs": [
        {
          "output_type": "execute_result",
          "data": {
            "text/plain": [
              "array([6, 4, 1, ..., 4, 6, 4])"
            ]
          },
          "metadata": {},
          "execution_count": 113
        }
      ]
    },
    {
      "cell_type": "code",
      "source": [
        "# Confidence score\n",
        "xgb_score_1 = round(model.score(X_train,Y_train) * 100, 2)\n",
        "target_names = ['Riesgo Alto', 'Riesgo Medio', 'Riesgo Bajo', 'Calificable', 'Normal', 'Bueno', 'Muy Bueno']\n",
        "print(classification_report(Y_test, predicted_xgb, target_names=target_names))"
      ],
      "metadata": {
        "id": "Z-39MqXWfEtJ",
        "colab": {
          "base_uri": "https://localhost:8080/"
        },
        "outputId": "af1b6236-f1c9-480b-ee6a-542d7774b681"
      },
      "execution_count": 114,
      "outputs": [
        {
          "output_type": "stream",
          "name": "stdout",
          "text": [
            "              precision    recall  f1-score   support\n",
            "\n",
            " Riesgo Alto       1.00      1.00      1.00      2083\n",
            "Riesgo Medio       1.00      1.00      1.00       559\n",
            " Riesgo Bajo       1.00      1.00      1.00       910\n",
            " Calificable       0.97      1.00      0.99      1169\n",
            "      Normal       0.64      0.35      0.45      2027\n",
            "       Bueno       0.39      0.82      0.53      1740\n",
            "   Muy Bueno       0.56      0.00      0.01      1021\n",
            "\n",
            "    accuracy                           0.72      9509\n",
            "   macro avg       0.79      0.74      0.71      9509\n",
            "weighted avg       0.76      0.72      0.69      9509\n",
            "\n"
          ]
        }
      ]
    },
    {
      "cell_type": "code",
      "source": [
        "# Exactitud del modelo\n",
        "print(\"Exactitud del modelo XGBClassifier es de: \", metrics.accuracy_score(Y_test, predicted_xgb))"
      ],
      "metadata": {
        "colab": {
          "base_uri": "https://localhost:8080/"
        },
        "outputId": "dc2c636e-1e65-4cad-fdb1-0c2b6603afb1",
        "id": "9MvUDQ5CHEa8"
      },
      "execution_count": 115,
      "outputs": [
        {
          "output_type": "stream",
          "name": "stdout",
          "text": [
            "Exactitud del modelo XGBClassifier es de:  0.7211063203281102\n"
          ]
        }
      ]
    },
    {
      "cell_type": "code",
      "source": [
        "matrix = confusion_matrix(Y_test, predicted_xgb)\n",
        "sns.heatmap(matrix, annot=True, fmt=\"d\", cmap='Blues', square=True)\n",
        "plt.xlabel(\"predicted\")\n",
        "plt.ylabel(\"actual\")\n",
        "plt"
      ],
      "metadata": {
        "colab": {
          "base_uri": "https://localhost:8080/",
          "height": 296
        },
        "id": "oVZt-CZ8fIkl",
        "outputId": "092b7817-2522-4a63-963d-f77ea6ebde95"
      },
      "execution_count": 116,
      "outputs": [
        {
          "output_type": "execute_result",
          "data": {
            "text/plain": [
              "<module 'matplotlib.pyplot' from '/usr/local/lib/python3.7/dist-packages/matplotlib/pyplot.py'>"
            ]
          },
          "metadata": {},
          "execution_count": 116
        },
        {
          "output_type": "display_data",
          "data": {
            "text/plain": [
              "<Figure size 432x288 with 2 Axes>"
            ],
            "image/png": "[encoded data removed]"
          },
          "metadata": {
            "needs_background": "light"
          }
        }
      ]
    },
    {
      "cell_type": "markdown",
      "source": [
        "**10.8) - Analisis comparativos de modelos y evaluación**"
      ],
      "metadata": {
        "id": "K4oPvUhUfUUq"
      }
    },
    {
      "cell_type": "code",
      "source": [
        "plt.figure(figsize=(9,5))\n",
        "acc = [metrics.accuracy_score(Y_test, predicted_log),\n",
        "metrics.accuracy_score(Y_test, predicted_dt),\n",
        "metrics.accuracy_score(Y_test, predicted_rf),\n",
        "metrics.accuracy_score(Y_test, predicted_knn),\n",
        "metrics.accuracy_score(Y_test, predicted_gau),\n",
        "metrics.accuracy_score(Y_test, predicted_gbc),\n",
        "metrics.accuracy_score(Y_test, predicted_xgb)]\n",
        "models = [\"Logistic Regression\", \"Decision Tree\", \"Random Forest\", \"KNN\", \"GNB\", \"GBC\", \"XGB\"]\n",
        "acc_ = np.array(acc)*100\n",
        "sns.barplot(acc_, models)\n",
        "plt.title(\"Exactitud de los modelos\")\n",
        "plt.xlim([10,100])\n",
        "plt.xlabel(\"Accuracy %\")\n",
        "plt.show()"
      ],
      "metadata": {
        "id": "ettmOa60Wt27",
        "colab": {
          "base_uri": "https://localhost:8080/",
          "height": 350
        },
        "outputId": "46a5cdad-519f-4bda-c7ac-e4ef27c3b457"
      },
      "execution_count": 117,
      "outputs": [
        {
          "output_type": "display_data",
          "data": {
            "text/plain": [
              "<Figure size 648x360 with 1 Axes>"
            ],
            "image/png": "[encoded data removed]"
          },
          "metadata": {
            "needs_background": "light"
          }
        }
      ]
    },
    {
      "cell_type": "markdown",
      "source": [
        "### **11) - CONCLUSION**"
      ],
      "metadata": {
        "id": "gQsvTA_N1fQX"
      }
    }
  ]
}